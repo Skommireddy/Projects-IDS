{
  "nbformat": 4,
  "nbformat_minor": 0,
  "metadata": {
    "colab": {
      "name": "Problem2R.ipynb",
      "provenance": [],
      "collapsed_sections": [],
      "authorship_tag": "ABX9TyNwnT+rKvY4HfAPu6RiCoKQ",
      "include_colab_link": true
    },
    "kernelspec": {
      "name": "python3",
      "display_name": "Python 3"
    },
    "language_info": {
      "name": "python"
    }
  },
  "cells": [
    {
      "cell_type": "markdown",
      "metadata": {
        "id": "view-in-github",
        "colab_type": "text"
      },
      "source": [
        "<a href=\"https://colab.research.google.com/github/Skommireddy/Projects-IDS/blob/main/HW6/Problem2R.ipynb\" target=\"_parent\"><img src=\"https://colab.research.google.com/assets/colab-badge.svg\" alt=\"Open In Colab\"/></a>"
      ]
    },
    {
      "cell_type": "markdown",
      "source": [
        "The %load_ext magic command loads the rpy2 IPython extension into the notebook, essentially initializing the R interface and allowing the notebook to connect and pass objects between the two languages."
      ],
      "metadata": {
        "id": "o_uZV8LacS8j"
      }
    },
    {
      "cell_type": "code",
      "execution_count": 104,
      "metadata": {
        "id": "coREPFawb6wf",
        "colab": {
          "base_uri": "https://localhost:8080/"
        },
        "outputId": "484d9d5d-fa6e-4b29-f626-957f5ef2111a"
      },
      "outputs": [
        {
          "output_type": "stream",
          "name": "stdout",
          "text": [
            "The rpy2.ipython extension is already loaded. To reload it, use:\n",
            "  %reload_ext rpy2.ipython\n"
          ]
        }
      ],
      "source": [
        "# Start rmagic to mix Python and R code sells\n",
        "%load_ext rpy2.ipython"
      ]
    },
    {
      "cell_type": "markdown",
      "source": [
        "Importing csv file from Github repositiory HW6 folder.\n",
        "Printing the imported data set Loans_TrainingDF with five columns Approval, Debt-to-Income Ratio, FICO Score, Request Amount and Interest and LoanS_TestDF"
      ],
      "metadata": {
        "id": "oXUDudfncb20"
      }
    },
    {
      "cell_type": "code",
      "source": [
        "# Let's read in the data file\n",
        "%%R\n",
        "# used to read csv files\n",
        "library(readr)\n",
        "# importing the data file from Github Repo.\n",
        "Loans_TrainingDF <- read_csv(\"https://raw.githubusercontent.com/Skommireddy/Projects-IDS/main/HW6/Loans_Training.csv\", show_col_types = FALSE)\n",
        "Loans_TestDF <- read_csv(\"https://raw.githubusercontent.com/Skommireddy/Projects-IDS/main/HW6/Loans_Test.csv\", show_col_types = FALSE)\n",
        "# printing the train data frame\n",
        "Loans_TrainingDF\n"
      ],
      "metadata": {
        "colab": {
          "base_uri": "https://localhost:8080/"
        },
        "id": "T01lRSzsciFM",
        "outputId": "18678d2c-d03e-4911-a06e-946d588b62d4"
      },
      "execution_count": 105,
      "outputs": [
        {
          "output_type": "stream",
          "name": "stdout",
          "text": [
            "# A tibble: 150,302 × 5\n",
            "   Approval `Debt-to-Income_Ratio` FICO_Score Request_Amount Interest\n",
            "   <lgl>                     <dbl>      <dbl>          <dbl>    <dbl>\n",
            " 1 FALSE                         0        397           1000      450\n",
            " 2 FALSE                         0        403            500      225\n",
            " 3 FALSE                         0        408           1000      450\n",
            " 4 FALSE                         0        408           2000      900\n",
            " 5 FALSE                         0        411           5000     2250\n",
            " 6 FALSE                         0        413           5000     2250\n",
            " 7 FALSE                         0        416           6000     2700\n",
            " 8 FALSE                         0        421           2000      900\n",
            " 9 FALSE                         0        422          12000     5400\n",
            "10 FALSE                         0        432          10000     4500\n",
            "# … with 150,292 more rows\n"
          ]
        }
      ]
    },
    {
      "cell_type": "code",
      "source": [
        "# printing the test data frame\n",
        "%%R\n",
        "Loans_TestDF"
      ],
      "metadata": {
        "colab": {
          "base_uri": "https://localhost:8080/"
        },
        "id": "I9atbjLeaB4w",
        "outputId": "af0253c4-3ba9-4d46-fcb4-26149a4af81c"
      },
      "execution_count": 106,
      "outputs": [
        {
          "output_type": "stream",
          "name": "stdout",
          "text": [
            "# A tibble: 49,698 × 5\n",
            "   Approval `Debt-to-Income_Ratio` FICO_Score Request_Amount Interest\n",
            "   <lgl>                     <dbl>      <dbl>          <dbl>    <dbl>\n",
            " 1 FALSE                         0        413           2000      900\n",
            " 2 FALSE                         0        449           1000      450\n",
            " 3 FALSE                         0        454           6000     2700\n",
            " 4 FALSE                         0        456           1000      450\n",
            " 5 FALSE                         0        457           1000      450\n",
            " 6 FALSE                         0        457           8000     3600\n",
            " 7 FALSE                         0        459           8000     3600\n",
            " 8 FALSE                         0        461            500      225\n",
            " 9 FALSE                         0        461           6000     2700\n",
            "10 FALSE                         0        462          19000     8550\n",
            "# … with 49,688 more rows\n"
          ]
        }
      ]
    },
    {
      "cell_type": "code",
      "source": [
        "# printing head of Loans_TrainingDF\n",
        "%%R\n",
        "head(Loans_TrainingDF)"
      ],
      "metadata": {
        "colab": {
          "base_uri": "https://localhost:8080/"
        },
        "id": "5OvZyjvKZNtK",
        "outputId": "94c96787-7b2b-404c-b25a-99cb20a48f6f"
      },
      "execution_count": 107,
      "outputs": [
        {
          "output_type": "stream",
          "name": "stdout",
          "text": [
            "# A tibble: 6 × 5\n",
            "  Approval `Debt-to-Income_Ratio` FICO_Score Request_Amount Interest\n",
            "  <lgl>                     <dbl>      <dbl>          <dbl>    <dbl>\n",
            "1 FALSE                         0        397           1000      450\n",
            "2 FALSE                         0        403            500      225\n",
            "3 FALSE                         0        408           1000      450\n",
            "4 FALSE                         0        408           2000      900\n",
            "5 FALSE                         0        411           5000     2250\n",
            "6 FALSE                         0        413           5000     2250\n"
          ]
        }
      ]
    },
    {
      "cell_type": "code",
      "source": [
        "# printing head of Loans_TestDF\n",
        "%%R\n",
        "head(Loans_TestDF)"
      ],
      "metadata": {
        "colab": {
          "base_uri": "https://localhost:8080/"
        },
        "id": "8l15K7uZaQd1",
        "outputId": "c9497e8d-87ab-48b3-acf5-660706c9d2a4"
      },
      "execution_count": 108,
      "outputs": [
        {
          "output_type": "stream",
          "name": "stdout",
          "text": [
            "# A tibble: 6 × 5\n",
            "  Approval `Debt-to-Income_Ratio` FICO_Score Request_Amount Interest\n",
            "  <lgl>                     <dbl>      <dbl>          <dbl>    <dbl>\n",
            "1 FALSE                         0        413           2000      900\n",
            "2 FALSE                         0        449           1000      450\n",
            "3 FALSE                         0        454           6000     2700\n",
            "4 FALSE                         0        456           1000      450\n",
            "5 FALSE                         0        457           1000      450\n",
            "6 FALSE                         0        457           8000     3600\n"
          ]
        }
      ]
    },
    {
      "cell_type": "code",
      "source": [
        "#summary of Loans_TestDF\n",
        "%%R\n",
        "summary(Loans_TestDF)"
      ],
      "metadata": {
        "colab": {
          "base_uri": "https://localhost:8080/"
        },
        "id": "WgUkBja-ki9z",
        "outputId": "cf3d4371-0010-4c6d-88e3-4b3581b4e0da"
      },
      "execution_count": 109,
      "outputs": [
        {
          "output_type": "stream",
          "name": "stdout",
          "text": [
            "  Approval       Debt-to-Income_Ratio   FICO_Score    Request_Amount \n",
            " Mode :logical   Min.   :0.0000       Min.   :372.0   Min.   :  500  \n",
            " FALSE:24934     1st Qu.:0.0900       1st Qu.:647.0   1st Qu.: 6000  \n",
            " TRUE :24764     Median :0.1600       Median :684.0   Median :11000  \n",
            "                 Mean   :0.1831       Mean   :672.3   Mean   :13413  \n",
            "                 3rd Qu.:0.2400       3rd Qu.:714.0   3rd Qu.:19000  \n",
            "                 Max.   :1.0500       Max.   :866.0   Max.   :42000  \n",
            "    Interest    \n",
            " Min.   :  225  \n",
            " 1st Qu.: 2700  \n",
            " Median : 4950  \n",
            " Mean   : 6036  \n",
            " 3rd Qu.: 8550  \n",
            " Max.   :18900  \n"
          ]
        }
      ]
    },
    {
      "cell_type": "code",
      "source": [
        "#summary of Loans_TrainingDF\n",
        "%%R\n",
        "summary(Loans_TrainingDF)"
      ],
      "metadata": {
        "colab": {
          "base_uri": "https://localhost:8080/"
        },
        "id": "9rNzG27ck0Dl",
        "outputId": "d0e84885-d245-4c21-8558-9a14e46ccf9f"
      },
      "execution_count": 110,
      "outputs": [
        {
          "output_type": "stream",
          "name": "stdout",
          "text": [
            "  Approval       Debt-to-Income_Ratio   FICO_Score  Request_Amount \n",
            " Mode :logical   Min.   :0.0000       Min.   :371   Min.   :  500  \n",
            " FALSE:75066     1st Qu.:0.0900       1st Qu.:647   1st Qu.: 6000  \n",
            " TRUE :75236     Median :0.1600       Median :684   Median :11000  \n",
            "                 Mean   :0.1835       Mean   :672   Mean   :13427  \n",
            "                 3rd Qu.:0.2400       3rd Qu.:714   3rd Qu.:19000  \n",
            "                 Max.   :1.0300       Max.   :869   Max.   :44000  \n",
            "    Interest    \n",
            " Min.   :  225  \n",
            " 1st Qu.: 2700  \n",
            " Median : 4950  \n",
            " Mean   : 6042  \n",
            " 3rd Qu.: 8550  \n",
            " Max.   :19800  \n"
          ]
        }
      ]
    },
    {
      "cell_type": "markdown",
      "source": [
        "str() of Loans_TrainingDF and Loans_TestDF to display the internal structure of Train and Test data"
      ],
      "metadata": {
        "id": "F3WFlCQZbpnT"
      }
    },
    {
      "cell_type": "code",
      "source": [
        "#str() Loans_TrainingDF\n",
        "%%R\n",
        "str(Loans_TrainingDF)"
      ],
      "metadata": {
        "colab": {
          "base_uri": "https://localhost:8080/"
        },
        "id": "iRXjPzchbb8B",
        "outputId": "b090e709-dd8a-4e1b-9594-f0826db7d636"
      },
      "execution_count": 111,
      "outputs": [
        {
          "output_type": "stream",
          "name": "stdout",
          "text": [
            "spec_tbl_df [150,302 × 5] (S3: spec_tbl_df/tbl_df/tbl/data.frame)\n",
            " $ Approval            : logi [1:150302] FALSE FALSE FALSE FALSE FALSE FALSE ...\n",
            " $ Debt-to-Income_Ratio: num [1:150302] 0 0 0 0 0 0 0 0 0 0 ...\n",
            " $ FICO_Score          : num [1:150302] 397 403 408 408 411 413 416 421 422 432 ...\n",
            " $ Request_Amount      : num [1:150302] 1000 500 1000 2000 5000 5000 6000 2000 12000 10000 ...\n",
            " $ Interest            : num [1:150302] 450 225 450 900 2250 2250 2700 900 5400 4500 ...\n",
            " - attr(*, \"spec\")=\n",
            "  .. cols(\n",
            "  ..   Approval = col_logical(),\n",
            "  ..   `Debt-to-Income_Ratio` = col_double(),\n",
            "  ..   FICO_Score = col_double(),\n",
            "  ..   Request_Amount = col_double(),\n",
            "  ..   Interest = col_double()\n",
            "  .. )\n",
            " - attr(*, \"problems\")=<externalptr> \n"
          ]
        }
      ]
    },
    {
      "cell_type": "code",
      "source": [
        "#str() Loans_TestDF\n",
        "%%R\n",
        "str(Loans_TestDF)"
      ],
      "metadata": {
        "colab": {
          "base_uri": "https://localhost:8080/"
        },
        "id": "_Wmy8tttbXFY",
        "outputId": "a984d890-49ef-4216-a138-471b24974e55"
      },
      "execution_count": 112,
      "outputs": [
        {
          "output_type": "stream",
          "name": "stdout",
          "text": [
            "spec_tbl_df [49,698 × 5] (S3: spec_tbl_df/tbl_df/tbl/data.frame)\n",
            " $ Approval            : logi [1:49698] FALSE FALSE FALSE FALSE FALSE FALSE ...\n",
            " $ Debt-to-Income_Ratio: num [1:49698] 0 0 0 0 0 0 0 0 0 0 ...\n",
            " $ FICO_Score          : num [1:49698] 413 449 454 456 457 457 459 461 461 462 ...\n",
            " $ Request_Amount      : num [1:49698] 2000 1000 6000 1000 1000 8000 8000 500 6000 19000 ...\n",
            " $ Interest            : num [1:49698] 900 450 2700 450 450 3600 3600 225 2700 8550 ...\n",
            " - attr(*, \"spec\")=\n",
            "  .. cols(\n",
            "  ..   Approval = col_logical(),\n",
            "  ..   `Debt-to-Income_Ratio` = col_double(),\n",
            "  ..   FICO_Score = col_double(),\n",
            "  ..   Request_Amount = col_double(),\n",
            "  ..   Interest = col_double()\n",
            "  .. )\n",
            " - attr(*, \"problems\")=<externalptr> \n"
          ]
        }
      ]
    },
    {
      "cell_type": "markdown",
      "source": [
        "# Check for Missing Values\n",
        "*   Determine if there are any missing values\n",
        "*   If so, decide on the method of imputation, e.g., mean, median, most_frequent"
      ],
      "metadata": {
        "id": "KqYwu_4AdVRt"
      }
    },
    {
      "cell_type": "code",
      "source": [
        "#checking missing values in Loans_TrainingDF\n",
        "%%R\n",
        "sum(is.na(Loans_TrainingDF))"
      ],
      "metadata": {
        "colab": {
          "base_uri": "https://localhost:8080/"
        },
        "id": "CME_DT3idWM5",
        "outputId": "04d6a5a1-9b46-4768-81af-ffcf090afb29"
      },
      "execution_count": 113,
      "outputs": [
        {
          "output_type": "stream",
          "name": "stdout",
          "text": [
            "[1] 0\n"
          ]
        }
      ]
    },
    {
      "cell_type": "code",
      "source": [
        "#checking missing values in Loans_TestDF\n",
        "%%R\n",
        "sum(is.na(Loans_TestDF))"
      ],
      "metadata": {
        "colab": {
          "base_uri": "https://localhost:8080/"
        },
        "id": "rD4mGz-fdlCT",
        "outputId": "a202e5c1-0e20-4145-e1bd-921b831f59b8"
      },
      "execution_count": 114,
      "outputs": [
        {
          "output_type": "stream",
          "name": "stdout",
          "text": [
            "[1] 0\n"
          ]
        }
      ]
    },
    {
      "cell_type": "markdown",
      "source": [
        "There are 0 missing values in Loans_TrainingDF and Loans_TestDF dataframe."
      ],
      "metadata": {
        "id": "99SLDwKgd01Q"
      }
    },
    {
      "cell_type": "markdown",
      "source": [
        "The prop. table() function in R can be used to calculate the value of each cell in a table as a proportion of all values."
      ],
      "metadata": {
        "id": "ugvVD7NdgBav"
      }
    },
    {
      "cell_type": "code",
      "source": [
        "#prop.table() for Loans_TrainingDF\n",
        "%%R\n",
        "prop.table(table(Loans_TrainingDF$Approval))"
      ],
      "metadata": {
        "colab": {
          "base_uri": "https://localhost:8080/"
        },
        "id": "nJQBKmgVeLaA",
        "outputId": "437adb11-dd96-49b4-d7de-350d1699156a"
      },
      "execution_count": 115,
      "outputs": [
        {
          "output_type": "stream",
          "name": "stdout",
          "text": [
            "\n",
            "    FALSE      TRUE \n",
            "0.4994345 0.5005655 \n"
          ]
        }
      ]
    },
    {
      "cell_type": "code",
      "source": [
        "#prop.table() for Loans_TestDF\n",
        "%%R\n",
        "prop.table(table(Loans_TestDF$Approval))"
      ],
      "metadata": {
        "colab": {
          "base_uri": "https://localhost:8080/"
        },
        "id": "JvioITV3fkwE",
        "outputId": "fbe31ad1-3644-4dcd-b80f-66dd54804717"
      },
      "execution_count": 116,
      "outputs": [
        {
          "output_type": "stream",
          "name": "stdout",
          "text": [
            "\n",
            "    FALSE      TRUE \n",
            "0.5017103 0.4982897 \n"
          ]
        }
      ]
    },
    {
      "cell_type": "markdown",
      "source": [
        "# Installing Packages\n",
        "1.   C5.0 decision trees and rule-based models for pattern recognition that extend the work of Quinlan.\n",
        "2.   rplot function combines and extends plot. rpart and text. rpart in the rpart package. It automatically scales and adjusts the displayed tree for best fit.\n",
        "3.   party: A Laboratory for Recursive Partytioning.\n",
        "4.   The caret package (Classification And REgression Training) contains functions to streamline the model training process for complex regression and classification problems.\n",
        "\n"
      ],
      "metadata": {
        "id": "ahvnqL1tXIYV"
      }
    },
    {
      "cell_type": "code",
      "source": [
        "# Installing packages\n",
        "%%R\n",
        "install.packages('C50')\n",
        "install.packages('rpart.plot')\n",
        "install.packages('party')\n",
        "install.packages(\"caret\")"
      ],
      "metadata": {
        "colab": {
          "base_uri": "https://localhost:8080/"
        },
        "id": "QATMw0BfWtdK",
        "outputId": "4c5a8b2d-f3c1-4f06-d9c1-84b99e249141"
      },
      "execution_count": 117,
      "outputs": [
        {
          "output_type": "stream",
          "name": "stderr",
          "text": [
            "R[write to console]: Installing package into ‘/usr/local/lib/R/site-library’\n",
            "(as ‘lib’ is unspecified)\n",
            "\n",
            "R[write to console]: trying URL 'https://cran.rstudio.com/src/contrib/C50_0.1.6.tar.gz'\n",
            "\n",
            "R[write to console]: Content type 'application/x-gzip'\n",
            "R[write to console]:  length 305528 bytes (298 KB)\n",
            "\n",
            "R[write to console]: =\n",
            "R[write to console]: =\n",
            "R[write to console]: =\n",
            "R[write to console]: =\n",
            "R[write to console]: =\n",
            "R[write to console]: =\n",
            "R[write to console]: =\n",
            "R[write to console]: =\n",
            "R[write to console]: =\n",
            "R[write to console]: =\n",
            "R[write to console]: =\n",
            "R[write to console]: =\n",
            "R[write to console]: =\n",
            "R[write to console]: =\n",
            "R[write to console]: =\n",
            "R[write to console]: =\n",
            "R[write to console]: =\n",
            "R[write to console]: =\n",
            "R[write to console]: =\n",
            "R[write to console]: =\n",
            "R[write to console]: =\n",
            "R[write to console]: =\n",
            "R[write to console]: =\n",
            "R[write to console]: =\n",
            "R[write to console]: =\n",
            "R[write to console]: =\n",
            "R[write to console]: =\n",
            "R[write to console]: =\n",
            "R[write to console]: =\n",
            "R[write to console]: =\n",
            "R[write to console]: =\n",
            "R[write to console]: =\n",
            "R[write to console]: =\n",
            "R[write to console]: =\n",
            "R[write to console]: =\n",
            "R[write to console]: =\n",
            "R[write to console]: =\n",
            "R[write to console]: =\n",
            "R[write to console]: =\n",
            "R[write to console]: =\n",
            "R[write to console]: =\n",
            "R[write to console]: =\n",
            "R[write to console]: =\n",
            "R[write to console]: =\n",
            "R[write to console]: =\n",
            "R[write to console]: =\n",
            "R[write to console]: =\n",
            "R[write to console]: =\n",
            "R[write to console]: =\n",
            "R[write to console]: =\n",
            "R[write to console]: \n",
            "\n",
            "R[write to console]: downloaded 298 KB\n",
            "\n",
            "\n",
            "R[write to console]: \n",
            "\n",
            "R[write to console]: \n",
            "R[write to console]: The downloaded source packages are in\n",
            "\t‘/tmp/RtmpxYoxM9/downloaded_packages’\n",
            "R[write to console]: \n",
            "R[write to console]: \n",
            "\n",
            "R[write to console]: Installing package into ‘/usr/local/lib/R/site-library’\n",
            "(as ‘lib’ is unspecified)\n",
            "\n",
            "R[write to console]: trying URL 'https://cran.rstudio.com/src/contrib/rpart.plot_3.1.0.tar.gz'\n",
            "\n",
            "R[write to console]: Content type 'application/x-gzip'\n",
            "R[write to console]:  length 672013 bytes (656 KB)\n",
            "\n",
            "R[write to console]: =\n",
            "R[write to console]: =\n",
            "R[write to console]: =\n",
            "R[write to console]: =\n",
            "R[write to console]: =\n",
            "R[write to console]: =\n",
            "R[write to console]: =\n",
            "R[write to console]: =\n",
            "R[write to console]: =\n",
            "R[write to console]: =\n",
            "R[write to console]: =\n",
            "R[write to console]: =\n",
            "R[write to console]: =\n",
            "R[write to console]: =\n",
            "R[write to console]: =\n",
            "R[write to console]: =\n",
            "R[write to console]: =\n",
            "R[write to console]: =\n",
            "R[write to console]: =\n",
            "R[write to console]: =\n",
            "R[write to console]: =\n",
            "R[write to console]: =\n",
            "R[write to console]: =\n",
            "R[write to console]: =\n",
            "R[write to console]: =\n",
            "R[write to console]: =\n",
            "R[write to console]: =\n",
            "R[write to console]: =\n",
            "R[write to console]: =\n",
            "R[write to console]: =\n",
            "R[write to console]: =\n",
            "R[write to console]: =\n",
            "R[write to console]: =\n",
            "R[write to console]: =\n",
            "R[write to console]: =\n",
            "R[write to console]: =\n",
            "R[write to console]: =\n",
            "R[write to console]: =\n",
            "R[write to console]: =\n",
            "R[write to console]: =\n",
            "R[write to console]: =\n",
            "R[write to console]: =\n",
            "R[write to console]: =\n",
            "R[write to console]: =\n",
            "R[write to console]: =\n",
            "R[write to console]: =\n",
            "R[write to console]: =\n",
            "R[write to console]: =\n",
            "R[write to console]: =\n",
            "R[write to console]: =\n",
            "R[write to console]: \n",
            "\n",
            "R[write to console]: downloaded 656 KB\n",
            "\n",
            "\n",
            "R[write to console]: \n",
            "\n",
            "R[write to console]: \n",
            "R[write to console]: The downloaded source packages are in\n",
            "\t‘/tmp/RtmpxYoxM9/downloaded_packages’\n",
            "R[write to console]: \n",
            "R[write to console]: \n",
            "\n",
            "R[write to console]: Installing package into ‘/usr/local/lib/R/site-library’\n",
            "(as ‘lib’ is unspecified)\n",
            "\n",
            "R[write to console]: trying URL 'https://cran.rstudio.com/src/contrib/party_1.3-9.tar.gz'\n",
            "\n",
            "R[write to console]: Content type 'application/x-gzip'\n",
            "R[write to console]:  length 800147 bytes (781 KB)\n",
            "\n",
            "R[write to console]: =\n",
            "R[write to console]: =\n",
            "R[write to console]: =\n",
            "R[write to console]: =\n",
            "R[write to console]: =\n",
            "R[write to console]: =\n",
            "R[write to console]: =\n",
            "R[write to console]: =\n",
            "R[write to console]: =\n",
            "R[write to console]: =\n",
            "R[write to console]: =\n",
            "R[write to console]: =\n",
            "R[write to console]: =\n",
            "R[write to console]: =\n",
            "R[write to console]: =\n",
            "R[write to console]: =\n",
            "R[write to console]: =\n",
            "R[write to console]: =\n",
            "R[write to console]: =\n",
            "R[write to console]: =\n",
            "R[write to console]: =\n",
            "R[write to console]: =\n",
            "R[write to console]: =\n",
            "R[write to console]: =\n",
            "R[write to console]: =\n",
            "R[write to console]: =\n",
            "R[write to console]: =\n",
            "R[write to console]: =\n",
            "R[write to console]: =\n",
            "R[write to console]: =\n",
            "R[write to console]: =\n",
            "R[write to console]: =\n",
            "R[write to console]: =\n",
            "R[write to console]: =\n",
            "R[write to console]: =\n",
            "R[write to console]: =\n",
            "R[write to console]: =\n",
            "R[write to console]: =\n",
            "R[write to console]: =\n",
            "R[write to console]: =\n",
            "R[write to console]: =\n",
            "R[write to console]: =\n",
            "R[write to console]: =\n",
            "R[write to console]: =\n",
            "R[write to console]: =\n",
            "R[write to console]: =\n",
            "R[write to console]: =\n",
            "R[write to console]: =\n",
            "R[write to console]: =\n",
            "R[write to console]: =\n",
            "R[write to console]: \n",
            "\n",
            "R[write to console]: downloaded 781 KB\n",
            "\n",
            "\n",
            "R[write to console]: \n",
            "\n",
            "R[write to console]: \n",
            "R[write to console]: The downloaded source packages are in\n",
            "\t‘/tmp/RtmpxYoxM9/downloaded_packages’\n",
            "R[write to console]: \n",
            "R[write to console]: \n",
            "\n",
            "R[write to console]: Installing package into ‘/usr/local/lib/R/site-library’\n",
            "(as ‘lib’ is unspecified)\n",
            "\n",
            "R[write to console]: trying URL 'https://cran.rstudio.com/src/contrib/caret_6.0-92.tar.gz'\n",
            "\n",
            "R[write to console]: Content type 'application/x-gzip'\n",
            "R[write to console]:  length 2332731 bytes (2.2 MB)\n",
            "\n",
            "R[write to console]: =\n",
            "R[write to console]: =\n",
            "R[write to console]: =\n",
            "R[write to console]: =\n",
            "R[write to console]: =\n",
            "R[write to console]: =\n",
            "R[write to console]: =\n",
            "R[write to console]: =\n",
            "R[write to console]: =\n",
            "R[write to console]: =\n",
            "R[write to console]: =\n",
            "R[write to console]: =\n",
            "R[write to console]: =\n",
            "R[write to console]: =\n",
            "R[write to console]: =\n",
            "R[write to console]: =\n",
            "R[write to console]: =\n",
            "R[write to console]: =\n",
            "R[write to console]: =\n",
            "R[write to console]: =\n",
            "R[write to console]: =\n",
            "R[write to console]: =\n",
            "R[write to console]: =\n",
            "R[write to console]: =\n",
            "R[write to console]: =\n",
            "R[write to console]: =\n",
            "R[write to console]: =\n",
            "R[write to console]: =\n",
            "R[write to console]: =\n",
            "R[write to console]: =\n",
            "R[write to console]: =\n",
            "R[write to console]: =\n",
            "R[write to console]: =\n",
            "R[write to console]: =\n",
            "R[write to console]: =\n",
            "R[write to console]: =\n",
            "R[write to console]: =\n",
            "R[write to console]: =\n",
            "R[write to console]: =\n",
            "R[write to console]: =\n",
            "R[write to console]: =\n",
            "R[write to console]: =\n",
            "R[write to console]: =\n",
            "R[write to console]: =\n",
            "R[write to console]: =\n",
            "R[write to console]: =\n",
            "R[write to console]: =\n",
            "R[write to console]: =\n",
            "R[write to console]: =\n",
            "R[write to console]: =\n",
            "R[write to console]: \n",
            "\n",
            "R[write to console]: downloaded 2.2 MB\n",
            "\n",
            "\n",
            "R[write to console]: \n",
            "\n",
            "R[write to console]: \n",
            "R[write to console]: The downloaded source packages are in\n",
            "\t‘/tmp/RtmpxYoxM9/downloaded_packages’\n",
            "R[write to console]: \n",
            "R[write to console]: \n",
            "\n"
          ]
        }
      ]
    },
    {
      "cell_type": "code",
      "source": [
        "#Importing libraries\n",
        "%%R\n",
        "library(C50)\n",
        "library(rpart.plot)\n",
        "library(party)\n",
        "library(caret)"
      ],
      "metadata": {
        "id": "LCvNu3gGjMAV"
      },
      "execution_count": 118,
      "outputs": []
    },
    {
      "cell_type": "markdown",
      "source": [
        "Create a CART model using the training data set that predicts Approval using Debt-to-Income Ratio, FICO Score, etc. Visualize the decision tree and Describe the first few splits in the decision tree."
      ],
      "metadata": {
        "id": "p1HwdETEkDkz"
      }
    },
    {
      "cell_type": "code",
      "source": [
        "#cart model for Loans_TrainingDF\n",
        "%%R\n",
        "set.seed(120)\n",
        "CART_model <- rpart(Approval ~., data = Loans_TrainingDF, method = \"class\")\n",
        "CART_model"
      ],
      "metadata": {
        "id": "xPPKCddPkC_U",
        "outputId": "12b62ff2-5975-4bf6-82d2-50d58191402a",
        "colab": {
          "base_uri": "https://localhost:8080/"
        }
      },
      "execution_count": 119,
      "outputs": [
        {
          "output_type": "stream",
          "name": "stdout",
          "text": [
            "n= 150302 \n",
            "\n",
            "node), split, n, loss, yval, (yprob)\n",
            "      * denotes terminal node\n",
            "\n",
            "1) root 150302 75066 TRUE (0.49943447 0.50056553)  \n",
            "  2) FICO_Score< 659.5 46002  1808 FALSE (0.96069736 0.03930264) *\n",
            "  3) FICO_Score>=659.5 104300 30872 TRUE (0.29599233 0.70400767)  \n",
            "    6) Debt-to-Income_Ratio>=0.305 12873  1679 FALSE (0.86957197 0.13042803) *\n",
            "    7) Debt-to-Income_Ratio< 0.305 91427 19678 TRUE (0.21523182 0.78476818) *\n"
          ]
        }
      ]
    },
    {
      "cell_type": "markdown",
      "source": [
        "From the above Cart Model,\n",
        "\n",
        "* If FICO score is greater than or equal to 659.5 and Debt-to-Income Ratio is more than 0.305, loan with be accepted.\n",
        "* If FICO score is greater than 659.5 and Debt-to-Income Ratio is less than 0.305 loan will be denied.\n",
        "* If FICO score is less than 659.5, loan will be denied.\n"
      ],
      "metadata": {
        "id": "Su73Nct0lXMX"
      }
    },
    {
      "cell_type": "code",
      "source": [
        "# Ploting the decision trees\n",
        "%%R\n",
        "rpart.plot(CART_model, digits = 4)"
      ],
      "metadata": {
        "id": "l4ykL57mk1-n",
        "outputId": "e66f7077-bbdb-44c8-beed-612f35d0d7d4",
        "colab": {
          "base_uri": "https://localhost:8080/",
          "height": 497
        }
      },
      "execution_count": 120,
      "outputs": [
        {
          "output_type": "display_data",
          "data": {
            "image/png": "[encoded data removed]"
          },
          "metadata": {}
        }
      ]
    },
    {
      "cell_type": "markdown",
      "source": [
        "From the above decision tree,\n",
        "\n",
        "*   Each node tells us the proportion of FICO Score and Debt-to-Income Ratio, along with the percentage of the records reaching that node.  \n",
        " \n",
        "*   At the root node split, CART identifies the most efficacious possible binary split as separating the records into two groups, depending on their value for the variable FICO Score, one group whose FICO Score < 660, and the other group consisting of FICO Score > 660.\n",
        " \n",
        "*   CART makes a second split, based on the variable, Debt-to-Income Ratio. However, this group of records representing FICO Score with less score than 600 as shown in the leaf node in the lower right with 0.7040 with 69.39%. On the other hand, those who have FICO Score > 660 is 0.0393 containing 30.61% \n",
        " \n",
        "*   The two nodes in the lower right are leaf nodes with Debt-to-Income Ratio of 0.305. If the value is greater than or equal to 0.305 it is true with 0.7848 and 60.83% and if it is less than 0.305 it is false with 0.1304 and 8.56%."
      ],
      "metadata": {
        "id": "yD7rTNNJoInE"
      }
    },
    {
      "cell_type": "markdown",
      "source": [
        "Prediction of CART model and Loans_TestDF"
      ],
      "metadata": {
        "id": "l4fMXOFUu5nd"
      }
    },
    {
      "cell_type": "code",
      "source": [
        "#prediction on Loans_TestDF and CART model\n",
        "%%R\n",
        "predict_CART <- predict(CART_model, Loans_TestDF, 'class')\n",
        "head(predict_CART)"
      ],
      "metadata": {
        "id": "6ZJg_gwovFxl",
        "outputId": "e9822c36-2ba2-466e-fd93-9bc8d9f58aeb",
        "colab": {
          "base_uri": "https://localhost:8080/"
        }
      },
      "execution_count": 121,
      "outputs": [
        {
          "output_type": "stream",
          "name": "stdout",
          "text": [
            "    1     2     3     4     5     6 \n",
            "FALSE FALSE FALSE FALSE FALSE FALSE \n",
            "Levels: FALSE TRUE\n"
          ]
        }
      ]
    },
    {
      "cell_type": "markdown",
      "source": [
        "Confusion Matrix of Loans_TestDF and predict_CART.\n",
        "\n",
        "\n",
        "> A summary of prediction results on a classification problem. The number of correct and incorrect predictions are summarized with count values and broken down by each class. \n",
        "\n"
      ],
      "metadata": {
        "id": "bgbpfJ5120sW"
      }
    },
    {
      "cell_type": "code",
      "source": [
        "#confusion matrix of Loans_TestDF and predict_CART\n",
        "%%R\n",
        "confusionMatrix(table(Loans_TestDF$Approval, predict_CART))"
      ],
      "metadata": {
        "id": "oPSJred8vz1u",
        "outputId": "5f8e2ef4-0bfc-4a86-c6a4-a8318da3618f",
        "colab": {
          "base_uri": "https://localhost:8080/"
        }
      },
      "execution_count": 122,
      "outputs": [
        {
          "output_type": "stream",
          "name": "stdout",
          "text": [
            "Confusion Matrix and Statistics\n",
            "\n",
            "       predict_CART\n",
            "        FALSE  TRUE\n",
            "  FALSE 18314  6620\n",
            "  TRUE   1171 23593\n",
            "                                        \n",
            "               Accuracy : 0.8432        \n",
            "                 95% CI : (0.84, 0.8464)\n",
            "    No Information Rate : 0.6079        \n",
            "    P-Value [Acc > NIR] : < 2.2e-16     \n",
            "                                        \n",
            "                  Kappa : 0.6867        \n",
            "                                        \n",
            " Mcnemar's Test P-Value : < 2.2e-16     \n",
            "                                        \n",
            "            Sensitivity : 0.9399        \n",
            "            Specificity : 0.7809        \n",
            "         Pos Pred Value : 0.7345        \n",
            "         Neg Pred Value : 0.9527        \n",
            "             Prevalence : 0.3921        \n",
            "         Detection Rate : 0.3685        \n",
            "   Detection Prevalence : 0.5017        \n",
            "      Balanced Accuracy : 0.8604        \n",
            "                                        \n",
            "       'Positive' Class : FALSE         \n",
            "                                        \n"
          ]
        }
      ]
    },
    {
      "cell_type": "markdown",
      "source": [
        "Accuracy of CART model"
      ],
      "metadata": {
        "id": "6G4zgaCggiDe"
      }
    },
    {
      "cell_type": "code",
      "source": [
        "#accuarcy of cart model\n",
        "%%R\n",
        "accuracy_CART_model <- sum( predict_CART == Loans_TestDF$Approval)/ length(predict_CART)\n",
        "print('CART Model accuracy :')\n",
        "accuracy_CART_model * 100"
      ],
      "metadata": {
        "id": "qOUBCNipzz5F",
        "outputId": "bb026cbd-724b-4c0e-f3f5-22f548691ad4",
        "colab": {
          "base_uri": "https://localhost:8080/"
        }
      },
      "execution_count": 123,
      "outputs": [
        {
          "output_type": "stream",
          "name": "stdout",
          "text": [
            "[1] \"CART Model accuracy :\"\n",
            "[1] 84.32331\n"
          ]
        }
      ]
    },
    {
      "cell_type": "code",
      "source": [
        "%%R\n",
        "Loans_TrainingDF$Approval = as.factor(Loans_TrainingDF$Approval)\n",
        "head(Loans_TrainingDF$Approval)"
      ],
      "metadata": {
        "id": "XnQHr-VbwQ2e",
        "outputId": "6f20686c-524e-4f1c-9791-66946539fddc",
        "colab": {
          "base_uri": "https://localhost:8080/"
        }
      },
      "execution_count": 124,
      "outputs": [
        {
          "output_type": "stream",
          "name": "stdout",
          "text": [
            "[1] FALSE FALSE FALSE FALSE FALSE FALSE\n",
            "Levels: FALSE TRUE\n"
          ]
        }
      ]
    },
    {
      "cell_type": "markdown",
      "source": [
        "Build a C5.0 model using the same predictors and target as in part 1.  This time, specify a minimum of 1000 cases per terminal node. Visualize the decision tree. Describe the first few splits in the decision tree."
      ],
      "metadata": {
        "id": "gxY2F1QwzHsZ"
      }
    },
    {
      "cell_type": "code",
      "source": [
        "#c5_model with a minimum of 1000 cases per terminal node.\n",
        "%%R\n",
        "c5_model =C5.0(Loans_TrainingDF[,-1], Loans_TrainingDF$Approval, control = C5.0Control(minCases=1000))\n",
        "c5_model"
      ],
      "metadata": {
        "id": "YsNy0MCZwu-l",
        "outputId": "3529a60d-4575-47b5-ec32-9d7532cb873b",
        "colab": {
          "base_uri": "https://localhost:8080/"
        }
      },
      "execution_count": 125,
      "outputs": [
        {
          "output_type": "stream",
          "name": "stdout",
          "text": [
            "\n",
            "Call:\n",
            "C5.0.default(x = Loans_TrainingDF[, -1], y = Loans_TrainingDF$Approval,\n",
            " control = C5.0Control(minCases = 1000))\n",
            "\n",
            "Classification Tree\n",
            "Number of samples: 150302 \n",
            "Number of predictors: 4 \n",
            "\n",
            "Tree size: 8 \n",
            "\n",
            "Non-standard options: attempt to group attributes, minimum number of cases: 1000\n",
            "\n"
          ]
        }
      ]
    },
    {
      "cell_type": "code",
      "source": [
        "#plotting c5_model\n",
        "%%R\n",
        "plot(c5_model)"
      ],
      "metadata": {
        "id": "V6CRcJk8w_tp",
        "outputId": "5ea1a055-ca39-4f84-8011-52b9c75bd84c",
        "colab": {
          "base_uri": "https://localhost:8080/",
          "height": 497
        }
      },
      "execution_count": 126,
      "outputs": [
        {
          "output_type": "display_data",
          "data": {
            "image/png": "[encoded data removed]"
          },
          "metadata": {}
        }
      ]
    },
    {
      "cell_type": "markdown",
      "source": [
        "Prediction of c5 model and Loans_TestDF"
      ],
      "metadata": {
        "id": "33Bhn8ZrlvKZ"
      }
    },
    {
      "cell_type": "code",
      "source": [
        "#prediction of c5 model and Loans_TestDF\n",
        "%%R\n",
        "predict_c5 <- predict(c5_model, Loans_TestDF)\n",
        "head(predict_c5)"
      ],
      "metadata": {
        "id": "uWrqfJOFypsL",
        "outputId": "a4018c29-f495-40c6-c5fc-31c4135347d6",
        "colab": {
          "base_uri": "https://localhost:8080/"
        }
      },
      "execution_count": 127,
      "outputs": [
        {
          "output_type": "stream",
          "name": "stdout",
          "text": [
            "[1] FALSE FALSE FALSE FALSE FALSE FALSE\n",
            "Levels: FALSE TRUE\n"
          ]
        }
      ]
    },
    {
      "cell_type": "markdown",
      "source": [
        "Confusion Matrix of Loans_TestDF and predict_c5"
      ],
      "metadata": {
        "id": "L-rCpBNemPug"
      }
    },
    {
      "cell_type": "code",
      "source": [
        "#confusion matrix of predict_c5 and Loans_TestDF\n",
        "%%R\n",
        "confusionMatrix(table(Loans_TestDF$Approval, predict_c5))"
      ],
      "metadata": {
        "id": "syB4Uty1y5dP",
        "outputId": "e0d8d918-2c6b-4cdb-949f-59b0a8993a1d",
        "colab": {
          "base_uri": "https://localhost:8080/"
        }
      },
      "execution_count": 128,
      "outputs": [
        {
          "output_type": "stream",
          "name": "stdout",
          "text": [
            "Confusion Matrix and Statistics\n",
            "\n",
            "       predict_c5\n",
            "        FALSE  TRUE\n",
            "  FALSE 18842  6092\n",
            "  TRUE   1504 23260\n",
            "                                         \n",
            "               Accuracy : 0.8472         \n",
            "                 95% CI : (0.844, 0.8503)\n",
            "    No Information Rate : 0.5906         \n",
            "    P-Value [Acc > NIR] : < 2.2e-16      \n",
            "                                         \n",
            "                  Kappa : 0.6945         \n",
            "                                         \n",
            " Mcnemar's Test P-Value : < 2.2e-16      \n",
            "                                         \n",
            "            Sensitivity : 0.9261         \n",
            "            Specificity : 0.7925         \n",
            "         Pos Pred Value : 0.7557         \n",
            "         Neg Pred Value : 0.9393         \n",
            "             Prevalence : 0.4094         \n",
            "         Detection Rate : 0.3791         \n",
            "   Detection Prevalence : 0.5017         \n",
            "      Balanced Accuracy : 0.8593         \n",
            "                                         \n",
            "       'Positive' Class : FALSE          \n",
            "                                         \n"
          ]
        }
      ]
    },
    {
      "cell_type": "markdown",
      "source": [
        "Accuracy of c5 model"
      ],
      "metadata": {
        "id": "KBNl6Sc4mibq"
      }
    },
    {
      "cell_type": "code",
      "source": [
        "#accuarcy of c5 model\n",
        "%%R\n",
        "accuracy_c5_model <- sum( predict_c5 == Loans_TestDF$Approval)/ length(predict_c5)\n",
        "print('c5 Model accuracy :')\n",
        "accuracy_c5_model * 100"
      ],
      "metadata": {
        "id": "jmJ17KV21vUg",
        "outputId": "59d5afa4-eeab-4635-d7db-116d012bf5ad",
        "colab": {
          "base_uri": "https://localhost:8080/"
        }
      },
      "execution_count": 129,
      "outputs": [
        {
          "output_type": "stream",
          "name": "stdout",
          "text": [
            "[1] \"c5 Model accuracy :\"\n",
            "[1] 84.71568\n"
          ]
        }
      ]
    },
    {
      "cell_type": "markdown",
      "source": [
        "How does your C5.0 model compare to your CART model for the loans_training data? Describe the similarities and differences."
      ],
      "metadata": {
        "id": "OM8T1JIImtxs"
      }
    },
    {
      "cell_type": "code",
      "source": [
        "#plotting predict_CART accuracy and predict_c5 accuracy\n",
        "%%R\n",
        "labels <- c('CART', 'C5.0')\n",
        "accuracy_model = c(accuracy_CART_model, accuracy_c5_model)"
      ],
      "metadata": {
        "id": "PuSyKQwszMqq"
      },
      "execution_count": 130,
      "outputs": []
    },
    {
      "cell_type": "code",
      "source": [
        "#barplot\n",
        "%%R\n",
        "barplot(accuracy_model, main = \"Accuracy Model\", ylab = \"count\", names.arg = labels, col=\"pink\")"
      ],
      "metadata": {
        "id": "uj-XBDD805Iy",
        "outputId": "ec53ff5d-e186-4a8e-b009-f05191d1b208",
        "colab": {
          "base_uri": "https://localhost:8080/",
          "height": 497
        }
      },
      "execution_count": 131,
      "outputs": [
        {
          "output_type": "display_data",
          "data": {
            "image/png": "[encoded data removed]"
          },
          "metadata": {}
        }
      ]
    },
    {
      "cell_type": "markdown",
      "source": [
        "# Summary:\n",
        "\n",
        "\n",
        "* From the decision tree plotted for the CART model, FICO score is made as the root node followed by Debt-to-Income Ratio node.\n",
        "* In the c5 model decision tree, Debt-to-Income Ratio is made as the root node followed by FICO score and Request amount nodes.\n",
        "*  The accuracy of CART model is 84.32331.\n",
        "*  The accuracy of c5 Model is 84.71568.\n",
        "*  From the above plotted graph both CART model and c5 Model is almost similar.\n",
        "\n",
        "\n",
        "\n",
        "\n"
      ],
      "metadata": {
        "id": "7d9V5Aen3fct"
      }
    }
  ]
}