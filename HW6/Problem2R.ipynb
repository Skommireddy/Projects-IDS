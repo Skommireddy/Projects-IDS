{
  "nbformat": 4,
  "nbformat_minor": 0,
  "metadata": {
    "colab": {
      "name": "Problem2R.ipynb",
      "provenance": [],
      "collapsed_sections": [],
      "authorship_tag": "ABX9TyOlMtajVD6pNrnqs+J7mFan",
      "include_colab_link": true
    },
    "kernelspec": {
      "name": "python3",
      "display_name": "Python 3"
    },
    "language_info": {
      "name": "python"
    }
  },
  "cells": [
    {
      "cell_type": "markdown",
      "metadata": {
        "id": "view-in-github",
        "colab_type": "text"
      },
      "source": [
        "<a href=\"https://colab.research.google.com/github/Skommireddy/Projects-IDS/blob/main/HW6/Problem2R.ipynb\" target=\"_parent\"><img src=\"https://colab.research.google.com/assets/colab-badge.svg\" alt=\"Open In Colab\"/></a>"
      ]
    },
    {
      "cell_type": "markdown",
      "source": [
        "The %load_ext magic command loads the rpy2 IPython extension into the notebook, essentially initializing the R interface and allowing the notebook to connect and pass objects between the two languages."
      ],
      "metadata": {
        "id": "o_uZV8LacS8j"
      }
    },
    {
      "cell_type": "code",
      "execution_count": 34,
      "metadata": {
        "id": "coREPFawb6wf",
        "colab": {
          "base_uri": "https://localhost:8080/"
        },
        "outputId": "ccdb8693-f77c-4a50-9885-356d6dbda24c"
      },
      "outputs": [
        {
          "output_type": "stream",
          "name": "stdout",
          "text": [
            "The rpy2.ipython extension is already loaded. To reload it, use:\n",
            "  %reload_ext rpy2.ipython\n"
          ]
        }
      ],
      "source": [
        "# Start rmagic to mix Python and R code sells\n",
        "%load_ext rpy2.ipython"
      ]
    },
    {
      "cell_type": "markdown",
      "source": [
        "Importing csv file from Github repositiory HW6 folder.\n",
        "Printing the imported data set Loans_TrainingDF with five columns Approval, Debt-to-Income Ratio, FICO Score, Request Amount and Interest and LoanS_TestDF"
      ],
      "metadata": {
        "id": "oXUDudfncb20"
      }
    },
    {
      "cell_type": "code",
      "source": [
        "# Let's read in the data file\n",
        "%%R\n",
        "# used to read csv files\n",
        "library(readr)\n",
        "# importing the data file from Github Repo.\n",
        "Loans_TrainingDF <- read_csv(\"https://raw.githubusercontent.com/Skommireddy/Projects-IDS/main/HW6/Loans_Training.csv\", show_col_types = FALSE)\n",
        "Loans_TestDF <- read_csv(\"https://raw.githubusercontent.com/Skommireddy/Projects-IDS/main/HW6/Loans_Test.csv\", show_col_types = FALSE)\n",
        "# printing the train data frame\n",
        "Loans_TrainingDF\n"
      ],
      "metadata": {
        "colab": {
          "base_uri": "https://localhost:8080/"
        },
        "id": "T01lRSzsciFM",
        "outputId": "84bd4041-a02a-48dd-e75a-3e116a625624"
      },
      "execution_count": 35,
      "outputs": [
        {
          "output_type": "stream",
          "name": "stdout",
          "text": [
            "# A tibble: 150,302 × 5\n",
            "   Approval `Debt-to-Income_Ratio` FICO_Score Request_Amount Interest\n",
            "   <lgl>                     <dbl>      <dbl>          <dbl>    <dbl>\n",
            " 1 FALSE                         0        397           1000      450\n",
            " 2 FALSE                         0        403            500      225\n",
            " 3 FALSE                         0        408           1000      450\n",
            " 4 FALSE                         0        408           2000      900\n",
            " 5 FALSE                         0        411           5000     2250\n",
            " 6 FALSE                         0        413           5000     2250\n",
            " 7 FALSE                         0        416           6000     2700\n",
            " 8 FALSE                         0        421           2000      900\n",
            " 9 FALSE                         0        422          12000     5400\n",
            "10 FALSE                         0        432          10000     4500\n",
            "# … with 150,292 more rows\n"
          ]
        }
      ]
    },
    {
      "cell_type": "code",
      "source": [
        "# printing the test data frame\n",
        "%%R\n",
        "Loans_TestDF"
      ],
      "metadata": {
        "colab": {
          "base_uri": "https://localhost:8080/"
        },
        "id": "I9atbjLeaB4w",
        "outputId": "cc5719d6-9a57-4b60-ab76-c0019463647a"
      },
      "execution_count": 36,
      "outputs": [
        {
          "output_type": "stream",
          "name": "stdout",
          "text": [
            "# A tibble: 49,698 × 5\n",
            "   Approval `Debt-to-Income_Ratio` FICO_Score Request_Amount Interest\n",
            "   <lgl>                     <dbl>      <dbl>          <dbl>    <dbl>\n",
            " 1 FALSE                         0        413           2000      900\n",
            " 2 FALSE                         0        449           1000      450\n",
            " 3 FALSE                         0        454           6000     2700\n",
            " 4 FALSE                         0        456           1000      450\n",
            " 5 FALSE                         0        457           1000      450\n",
            " 6 FALSE                         0        457           8000     3600\n",
            " 7 FALSE                         0        459           8000     3600\n",
            " 8 FALSE                         0        461            500      225\n",
            " 9 FALSE                         0        461           6000     2700\n",
            "10 FALSE                         0        462          19000     8550\n",
            "# … with 49,688 more rows\n"
          ]
        }
      ]
    },
    {
      "cell_type": "code",
      "source": [
        "# printing head of Loans_TrainingDF\n",
        "%%R\n",
        "head(Loans_TrainingDF)"
      ],
      "metadata": {
        "colab": {
          "base_uri": "https://localhost:8080/"
        },
        "id": "5OvZyjvKZNtK",
        "outputId": "3e9133ed-ea4d-4cf2-88ae-bcab3bb9ef3a"
      },
      "execution_count": 37,
      "outputs": [
        {
          "output_type": "stream",
          "name": "stdout",
          "text": [
            "# A tibble: 6 × 5\n",
            "  Approval `Debt-to-Income_Ratio` FICO_Score Request_Amount Interest\n",
            "  <lgl>                     <dbl>      <dbl>          <dbl>    <dbl>\n",
            "1 FALSE                         0        397           1000      450\n",
            "2 FALSE                         0        403            500      225\n",
            "3 FALSE                         0        408           1000      450\n",
            "4 FALSE                         0        408           2000      900\n",
            "5 FALSE                         0        411           5000     2250\n",
            "6 FALSE                         0        413           5000     2250\n"
          ]
        }
      ]
    },
    {
      "cell_type": "code",
      "source": [
        "# printing head of Loans_TestDF\n",
        "%%R\n",
        "head(Loans_TestDF)"
      ],
      "metadata": {
        "colab": {
          "base_uri": "https://localhost:8080/"
        },
        "id": "8l15K7uZaQd1",
        "outputId": "ec74557f-4b30-4b7f-e724-6f0bc7ccbaf7"
      },
      "execution_count": 38,
      "outputs": [
        {
          "output_type": "stream",
          "name": "stdout",
          "text": [
            "# A tibble: 6 × 5\n",
            "  Approval `Debt-to-Income_Ratio` FICO_Score Request_Amount Interest\n",
            "  <lgl>                     <dbl>      <dbl>          <dbl>    <dbl>\n",
            "1 FALSE                         0        413           2000      900\n",
            "2 FALSE                         0        449           1000      450\n",
            "3 FALSE                         0        454           6000     2700\n",
            "4 FALSE                         0        456           1000      450\n",
            "5 FALSE                         0        457           1000      450\n",
            "6 FALSE                         0        457           8000     3600\n"
          ]
        }
      ]
    },
    {
      "cell_type": "code",
      "source": [
        "#summary of Loans_TestDF\n",
        "%%R\n",
        "summary(Loans_TestDF)"
      ],
      "metadata": {
        "colab": {
          "base_uri": "https://localhost:8080/"
        },
        "id": "WgUkBja-ki9z",
        "outputId": "446a8f4f-806c-4093-b27d-6fb4f3556b57"
      },
      "execution_count": 39,
      "outputs": [
        {
          "output_type": "stream",
          "name": "stdout",
          "text": [
            "  Approval       Debt-to-Income_Ratio   FICO_Score    Request_Amount \n",
            " Mode :logical   Min.   :0.0000       Min.   :372.0   Min.   :  500  \n",
            " FALSE:24934     1st Qu.:0.0900       1st Qu.:647.0   1st Qu.: 6000  \n",
            " TRUE :24764     Median :0.1600       Median :684.0   Median :11000  \n",
            "                 Mean   :0.1831       Mean   :672.3   Mean   :13413  \n",
            "                 3rd Qu.:0.2400       3rd Qu.:714.0   3rd Qu.:19000  \n",
            "                 Max.   :1.0500       Max.   :866.0   Max.   :42000  \n",
            "    Interest    \n",
            " Min.   :  225  \n",
            " 1st Qu.: 2700  \n",
            " Median : 4950  \n",
            " Mean   : 6036  \n",
            " 3rd Qu.: 8550  \n",
            " Max.   :18900  \n"
          ]
        }
      ]
    },
    {
      "cell_type": "code",
      "source": [
        "#summary of Loans_TrainingDF\n",
        "%%R\n",
        "summary(Loans_TrainingDF)"
      ],
      "metadata": {
        "colab": {
          "base_uri": "https://localhost:8080/"
        },
        "id": "9rNzG27ck0Dl",
        "outputId": "7b66571e-6cdf-46e9-f248-3bda7666dbfc"
      },
      "execution_count": 40,
      "outputs": [
        {
          "output_type": "stream",
          "name": "stdout",
          "text": [
            "  Approval       Debt-to-Income_Ratio   FICO_Score  Request_Amount \n",
            " Mode :logical   Min.   :0.0000       Min.   :371   Min.   :  500  \n",
            " FALSE:75066     1st Qu.:0.0900       1st Qu.:647   1st Qu.: 6000  \n",
            " TRUE :75236     Median :0.1600       Median :684   Median :11000  \n",
            "                 Mean   :0.1835       Mean   :672   Mean   :13427  \n",
            "                 3rd Qu.:0.2400       3rd Qu.:714   3rd Qu.:19000  \n",
            "                 Max.   :1.0300       Max.   :869   Max.   :44000  \n",
            "    Interest    \n",
            " Min.   :  225  \n",
            " 1st Qu.: 2700  \n",
            " Median : 4950  \n",
            " Mean   : 6042  \n",
            " 3rd Qu.: 8550  \n",
            " Max.   :19800  \n"
          ]
        }
      ]
    },
    {
      "cell_type": "markdown",
      "source": [
        "str() of Loans_TrainingDF and Loans_TestDF to display the internal structure of Train and Test data"
      ],
      "metadata": {
        "id": "F3WFlCQZbpnT"
      }
    },
    {
      "cell_type": "code",
      "source": [
        "#str() Loans_TrainingDF\n",
        "%%R\n",
        "str(Loans_TrainingDF)"
      ],
      "metadata": {
        "colab": {
          "base_uri": "https://localhost:8080/"
        },
        "id": "iRXjPzchbb8B",
        "outputId": "3fc5759d-e791-473b-b89e-35a7df8f824b"
      },
      "execution_count": 41,
      "outputs": [
        {
          "output_type": "stream",
          "name": "stdout",
          "text": [
            "spec_tbl_df [150,302 × 5] (S3: spec_tbl_df/tbl_df/tbl/data.frame)\n",
            " $ Approval            : logi [1:150302] FALSE FALSE FALSE FALSE FALSE FALSE ...\n",
            " $ Debt-to-Income_Ratio: num [1:150302] 0 0 0 0 0 0 0 0 0 0 ...\n",
            " $ FICO_Score          : num [1:150302] 397 403 408 408 411 413 416 421 422 432 ...\n",
            " $ Request_Amount      : num [1:150302] 1000 500 1000 2000 5000 5000 6000 2000 12000 10000 ...\n",
            " $ Interest            : num [1:150302] 450 225 450 900 2250 2250 2700 900 5400 4500 ...\n",
            " - attr(*, \"spec\")=\n",
            "  .. cols(\n",
            "  ..   Approval = col_logical(),\n",
            "  ..   `Debt-to-Income_Ratio` = col_double(),\n",
            "  ..   FICO_Score = col_double(),\n",
            "  ..   Request_Amount = col_double(),\n",
            "  ..   Interest = col_double()\n",
            "  .. )\n",
            " - attr(*, \"problems\")=<externalptr> \n"
          ]
        }
      ]
    },
    {
      "cell_type": "code",
      "source": [
        "#str() Loans_TestDF\n",
        "%%R\n",
        "str(Loans_TestDF)"
      ],
      "metadata": {
        "colab": {
          "base_uri": "https://localhost:8080/"
        },
        "id": "_Wmy8tttbXFY",
        "outputId": "e2f604e9-f12a-4446-de1d-8994987ed901"
      },
      "execution_count": 42,
      "outputs": [
        {
          "output_type": "stream",
          "name": "stdout",
          "text": [
            "spec_tbl_df [49,698 × 5] (S3: spec_tbl_df/tbl_df/tbl/data.frame)\n",
            " $ Approval            : logi [1:49698] FALSE FALSE FALSE FALSE FALSE FALSE ...\n",
            " $ Debt-to-Income_Ratio: num [1:49698] 0 0 0 0 0 0 0 0 0 0 ...\n",
            " $ FICO_Score          : num [1:49698] 413 449 454 456 457 457 459 461 461 462 ...\n",
            " $ Request_Amount      : num [1:49698] 2000 1000 6000 1000 1000 8000 8000 500 6000 19000 ...\n",
            " $ Interest            : num [1:49698] 900 450 2700 450 450 3600 3600 225 2700 8550 ...\n",
            " - attr(*, \"spec\")=\n",
            "  .. cols(\n",
            "  ..   Approval = col_logical(),\n",
            "  ..   `Debt-to-Income_Ratio` = col_double(),\n",
            "  ..   FICO_Score = col_double(),\n",
            "  ..   Request_Amount = col_double(),\n",
            "  ..   Interest = col_double()\n",
            "  .. )\n",
            " - attr(*, \"problems\")=<externalptr> \n"
          ]
        }
      ]
    },
    {
      "cell_type": "markdown",
      "source": [
        "# Check for Missing Values\n",
        "*   Determine if there are any missing values\n",
        "*   If so, decide on the method of imputation, e.g., mean, median, most_frequent"
      ],
      "metadata": {
        "id": "KqYwu_4AdVRt"
      }
    },
    {
      "cell_type": "code",
      "source": [
        "#checking missing values in Loans_TrainingDF\n",
        "%%R\n",
        "sum(is.na(Loans_TrainingDF))"
      ],
      "metadata": {
        "colab": {
          "base_uri": "https://localhost:8080/"
        },
        "id": "CME_DT3idWM5",
        "outputId": "45741965-3327-4a53-bab6-ad6f75c9f143"
      },
      "execution_count": 43,
      "outputs": [
        {
          "output_type": "stream",
          "name": "stdout",
          "text": [
            "[1] 0\n"
          ]
        }
      ]
    },
    {
      "cell_type": "code",
      "source": [
        "#checking missing values in Loans_TestDF\n",
        "%%R\n",
        "sum(is.na(Loans_TestDF))"
      ],
      "metadata": {
        "colab": {
          "base_uri": "https://localhost:8080/"
        },
        "id": "rD4mGz-fdlCT",
        "outputId": "729d18a2-1cbc-4073-bfcf-fe341beaa024"
      },
      "execution_count": 44,
      "outputs": [
        {
          "output_type": "stream",
          "name": "stdout",
          "text": [
            "[1] 0\n"
          ]
        }
      ]
    },
    {
      "cell_type": "markdown",
      "source": [
        "There are 0 missing values in Loans_TrainingDF and Loans_TestDF dataframe."
      ],
      "metadata": {
        "id": "99SLDwKgd01Q"
      }
    },
    {
      "cell_type": "markdown",
      "source": [
        "The prop. table() function in R can be used to calculate the value of each cell in a table as a proportion of all values."
      ],
      "metadata": {
        "id": "ugvVD7NdgBav"
      }
    },
    {
      "cell_type": "code",
      "source": [
        "#prop.table() for Loans_TrainingDF\n",
        "%%R\n",
        "prop.table(table(Loans_TrainingDF$Approval))"
      ],
      "metadata": {
        "colab": {
          "base_uri": "https://localhost:8080/"
        },
        "id": "nJQBKmgVeLaA",
        "outputId": "9436c9cd-fc13-4278-b802-c0a15d8b1c8c"
      },
      "execution_count": 45,
      "outputs": [
        {
          "output_type": "stream",
          "name": "stdout",
          "text": [
            "\n",
            "    FALSE      TRUE \n",
            "0.4994345 0.5005655 \n"
          ]
        }
      ]
    },
    {
      "cell_type": "code",
      "source": [
        "#prop.table() for Loans_TestDF\n",
        "%%R\n",
        "prop.table(table(Loans_TestDF$Approval))"
      ],
      "metadata": {
        "colab": {
          "base_uri": "https://localhost:8080/"
        },
        "id": "JvioITV3fkwE",
        "outputId": "8089b5da-b854-45ee-a4d3-f69142c3e6f6"
      },
      "execution_count": 46,
      "outputs": [
        {
          "output_type": "stream",
          "name": "stdout",
          "text": [
            "\n",
            "    FALSE      TRUE \n",
            "0.5017103 0.4982897 \n"
          ]
        }
      ]
    },
    {
      "cell_type": "markdown",
      "source": [
        "1.   C5.0 decision trees and rule-based models for pattern recognition that extend the work of Quinlan.\n",
        "2.   rplot function combines and extends plot. rpart and text. rpart in the rpart package. It automatically scales and adjusts the displayed tree for best fit.\n",
        "3.   party: A Laboratory for Recursive Partytioning.\n",
        "4.   The caret package (Classification And REgression Training) contains functions to streamline the model training process for complex regression and classification problems.\n",
        "\n"
      ],
      "metadata": {
        "id": "ahvnqL1tXIYV"
      }
    },
    {
      "cell_type": "code",
      "source": [
        "# Installing packages\n",
        "%%R\n",
        "install.packages('C50')\n",
        "install.packages('rpart.plot')\n",
        "install.packages('party')\n",
        "install.packages(\"caret\")"
      ],
      "metadata": {
        "colab": {
          "base_uri": "https://localhost:8080/"
        },
        "id": "QATMw0BfWtdK",
        "outputId": "601f2451-8838-4380-ef29-159c833236b0"
      },
      "execution_count": null,
      "outputs": [
        {
          "output_type": "stream",
          "name": "stderr",
          "text": [
            "R[write to console]: Installing package into ‘/usr/local/lib/R/site-library’\n",
            "(as ‘lib’ is unspecified)\n",
            "\n",
            "R[write to console]: trying URL 'https://cran.rstudio.com/src/contrib/C50_0.1.6.tar.gz'\n",
            "\n",
            "R[write to console]: Content type 'application/x-gzip'\n",
            "R[write to console]:  length 305528 bytes (298 KB)\n",
            "\n",
            "R[write to console]: =\n",
            "R[write to console]: =\n",
            "R[write to console]: =\n",
            "R[write to console]: =\n",
            "R[write to console]: =\n",
            "R[write to console]: =\n",
            "R[write to console]: =\n",
            "R[write to console]: =\n",
            "R[write to console]: =\n",
            "R[write to console]: =\n",
            "R[write to console]: =\n",
            "R[write to console]: =\n",
            "R[write to console]: =\n",
            "R[write to console]: =\n",
            "R[write to console]: =\n",
            "R[write to console]: =\n",
            "R[write to console]: =\n",
            "R[write to console]: =\n",
            "R[write to console]: =\n",
            "R[write to console]: =\n",
            "R[write to console]: =\n",
            "R[write to console]: =\n",
            "R[write to console]: =\n",
            "R[write to console]: =\n",
            "R[write to console]: =\n",
            "R[write to console]: =\n",
            "R[write to console]: =\n",
            "R[write to console]: =\n",
            "R[write to console]: =\n",
            "R[write to console]: =\n",
            "R[write to console]: =\n",
            "R[write to console]: =\n",
            "R[write to console]: =\n",
            "R[write to console]: =\n",
            "R[write to console]: =\n",
            "R[write to console]: =\n",
            "R[write to console]: =\n",
            "R[write to console]: =\n",
            "R[write to console]: =\n",
            "R[write to console]: =\n",
            "R[write to console]: =\n",
            "R[write to console]: =\n",
            "R[write to console]: =\n",
            "R[write to console]: =\n",
            "R[write to console]: =\n",
            "R[write to console]: =\n",
            "R[write to console]: =\n",
            "R[write to console]: =\n",
            "R[write to console]: =\n",
            "R[write to console]: =\n",
            "R[write to console]: \n",
            "\n",
            "R[write to console]: downloaded 298 KB\n",
            "\n",
            "\n",
            "R[write to console]: \n",
            "\n",
            "R[write to console]: \n",
            "R[write to console]: The downloaded source packages are in\n",
            "\t‘/tmp/RtmpxO7KWh/downloaded_packages’\n",
            "R[write to console]: \n",
            "R[write to console]: \n",
            "\n",
            "R[write to console]: Installing package into ‘/usr/local/lib/R/site-library’\n",
            "(as ‘lib’ is unspecified)\n",
            "\n",
            "R[write to console]: trying URL 'https://cran.rstudio.com/src/contrib/rpart.plot_3.1.0.tar.gz'\n",
            "\n",
            "R[write to console]: Content type 'application/x-gzip'\n",
            "R[write to console]:  length 672013 bytes (656 KB)\n",
            "\n",
            "R[write to console]: =\n",
            "R[write to console]: =\n",
            "R[write to console]: =\n",
            "R[write to console]: =\n",
            "R[write to console]: =\n",
            "R[write to console]: =\n",
            "R[write to console]: =\n",
            "R[write to console]: =\n",
            "R[write to console]: =\n",
            "R[write to console]: =\n",
            "R[write to console]: =\n",
            "R[write to console]: =\n",
            "R[write to console]: =\n",
            "R[write to console]: =\n",
            "R[write to console]: =\n",
            "R[write to console]: =\n",
            "R[write to console]: =\n",
            "R[write to console]: =\n",
            "R[write to console]: =\n",
            "R[write to console]: =\n",
            "R[write to console]: =\n",
            "R[write to console]: =\n",
            "R[write to console]: =\n",
            "R[write to console]: =\n",
            "R[write to console]: =\n",
            "R[write to console]: =\n",
            "R[write to console]: =\n",
            "R[write to console]: =\n",
            "R[write to console]: =\n",
            "R[write to console]: =\n",
            "R[write to console]: =\n",
            "R[write to console]: =\n",
            "R[write to console]: =\n",
            "R[write to console]: =\n",
            "R[write to console]: =\n",
            "R[write to console]: =\n",
            "R[write to console]: =\n",
            "R[write to console]: =\n",
            "R[write to console]: =\n",
            "R[write to console]: =\n",
            "R[write to console]: =\n",
            "R[write to console]: =\n",
            "R[write to console]: =\n",
            "R[write to console]: =\n",
            "R[write to console]: =\n",
            "R[write to console]: =\n",
            "R[write to console]: =\n",
            "R[write to console]: =\n",
            "R[write to console]: =\n",
            "R[write to console]: =\n",
            "R[write to console]: \n",
            "\n",
            "R[write to console]: downloaded 656 KB\n",
            "\n",
            "\n",
            "R[write to console]: \n",
            "\n",
            "R[write to console]: \n",
            "R[write to console]: The downloaded source packages are in\n",
            "\t‘/tmp/RtmpxO7KWh/downloaded_packages’\n",
            "R[write to console]: \n",
            "R[write to console]: \n",
            "\n",
            "R[write to console]: Installing package into ‘/usr/local/lib/R/site-library’\n",
            "(as ‘lib’ is unspecified)\n",
            "\n",
            "R[write to console]: trying URL 'https://cran.rstudio.com/src/contrib/party_1.3-9.tar.gz'\n",
            "\n",
            "R[write to console]: Content type 'application/x-gzip'\n",
            "R[write to console]:  length 800147 bytes (781 KB)\n",
            "\n",
            "R[write to console]: =\n",
            "R[write to console]: =\n",
            "R[write to console]: =\n",
            "R[write to console]: =\n",
            "R[write to console]: =\n",
            "R[write to console]: =\n",
            "R[write to console]: =\n",
            "R[write to console]: =\n",
            "R[write to console]: =\n",
            "R[write to console]: =\n",
            "R[write to console]: =\n",
            "R[write to console]: =\n",
            "R[write to console]: =\n",
            "R[write to console]: =\n",
            "R[write to console]: =\n",
            "R[write to console]: =\n",
            "R[write to console]: =\n",
            "R[write to console]: =\n",
            "R[write to console]: =\n",
            "R[write to console]: =\n",
            "R[write to console]: =\n",
            "R[write to console]: =\n",
            "R[write to console]: =\n",
            "R[write to console]: =\n",
            "R[write to console]: =\n",
            "R[write to console]: =\n",
            "R[write to console]: =\n",
            "R[write to console]: =\n",
            "R[write to console]: =\n",
            "R[write to console]: =\n",
            "R[write to console]: =\n",
            "R[write to console]: =\n",
            "R[write to console]: =\n",
            "R[write to console]: =\n",
            "R[write to console]: =\n",
            "R[write to console]: =\n",
            "R[write to console]: =\n",
            "R[write to console]: =\n",
            "R[write to console]: =\n",
            "R[write to console]: =\n",
            "R[write to console]: =\n",
            "R[write to console]: =\n",
            "R[write to console]: =\n",
            "R[write to console]: =\n",
            "R[write to console]: =\n",
            "R[write to console]: =\n",
            "R[write to console]: =\n",
            "R[write to console]: =\n",
            "R[write to console]: =\n",
            "R[write to console]: =\n",
            "R[write to console]: \n",
            "\n",
            "R[write to console]: downloaded 781 KB\n",
            "\n",
            "\n",
            "R[write to console]: \n",
            "\n",
            "R[write to console]: \n",
            "R[write to console]: The downloaded source packages are in\n",
            "\t‘/tmp/RtmpxO7KWh/downloaded_packages’\n",
            "R[write to console]: \n",
            "R[write to console]: \n",
            "\n",
            "R[write to console]: Installing package into ‘/usr/local/lib/R/site-library’\n",
            "(as ‘lib’ is unspecified)\n",
            "\n",
            "R[write to console]: trying URL 'https://cran.rstudio.com/src/contrib/caret_6.0-92.tar.gz'\n",
            "\n",
            "R[write to console]: Content type 'application/x-gzip'\n",
            "R[write to console]:  length 2332731 bytes (2.2 MB)\n",
            "\n",
            "R[write to console]: =\n",
            "R[write to console]: =\n",
            "R[write to console]: =\n",
            "R[write to console]: =\n",
            "R[write to console]: =\n",
            "R[write to console]: =\n",
            "R[write to console]: =\n",
            "R[write to console]: =\n",
            "R[write to console]: =\n",
            "R[write to console]: =\n",
            "R[write to console]: =\n",
            "R[write to console]: =\n",
            "R[write to console]: =\n",
            "R[write to console]: =\n",
            "R[write to console]: =\n",
            "R[write to console]: =\n",
            "R[write to console]: =\n",
            "R[write to console]: =\n",
            "R[write to console]: =\n",
            "R[write to console]: =\n",
            "R[write to console]: =\n",
            "R[write to console]: =\n",
            "R[write to console]: =\n",
            "R[write to console]: =\n",
            "R[write to console]: =\n",
            "R[write to console]: =\n",
            "R[write to console]: =\n",
            "R[write to console]: =\n",
            "R[write to console]: =\n",
            "R[write to console]: =\n",
            "R[write to console]: =\n",
            "R[write to console]: =\n",
            "R[write to console]: =\n",
            "R[write to console]: =\n",
            "R[write to console]: =\n",
            "R[write to console]: =\n",
            "R[write to console]: =\n",
            "R[write to console]: =\n",
            "R[write to console]: =\n",
            "R[write to console]: =\n",
            "R[write to console]: =\n",
            "R[write to console]: =\n",
            "R[write to console]: =\n",
            "R[write to console]: =\n",
            "R[write to console]: =\n",
            "R[write to console]: =\n",
            "R[write to console]: =\n",
            "R[write to console]: =\n",
            "R[write to console]: =\n",
            "R[write to console]: =\n",
            "R[write to console]: \n",
            "\n",
            "R[write to console]: downloaded 2.2 MB\n",
            "\n",
            "\n"
          ]
        }
      ]
    },
    {
      "cell_type": "code",
      "source": [
        "#Importing libraries\n",
        "%%R\n",
        "library(C50)\n",
        "library(rpart.plot)\n",
        "library(party)\n",
        "library(caret)"
      ],
      "metadata": {
        "id": "LCvNu3gGjMAV"
      },
      "execution_count": null,
      "outputs": []
    },
    {
      "cell_type": "markdown",
      "source": [
        "Create a CART model using the training data set that predicts Approval using Debt-to-Income Ratio, FICO Score, etc. Visualize the decision tree and Describe the first few splits in the decision tree."
      ],
      "metadata": {
        "id": "p1HwdETEkDkz"
      }
    },
    {
      "cell_type": "code",
      "source": [
        "#cart model for Loans_TrainingDF\n",
        "%%R\n",
        "set.seed(120)\n",
        "CART_model <- rpart(Approval ~., data = Loans_TrainingDF, method = \"class\")\n",
        "CART_model"
      ],
      "metadata": {
        "id": "xPPKCddPkC_U"
      },
      "execution_count": null,
      "outputs": []
    },
    {
      "cell_type": "markdown",
      "source": [
        "From the above Cart Model,\n",
        "\n",
        "* If FICO score is greater than or equal to 659.5 and Debt-to-Income Ratio is more than 0.305, loan with be accepted.\n",
        "* If FICO score is greater than 659.5 and Debt-to-Income Ratio is less than 0.305 loan will be denied.\n",
        "* If FICO score is less than 659.5, loan will be denied.\n"
      ],
      "metadata": {
        "id": "Su73Nct0lXMX"
      }
    },
    {
      "cell_type": "code",
      "source": [
        "# Ploting the decision trees\n",
        "%%R\n",
        "rpart.plot(CART_model, digits = 4)"
      ],
      "metadata": {
        "id": "l4ykL57mk1-n"
      },
      "execution_count": null,
      "outputs": []
    },
    {
      "cell_type": "markdown",
      "source": [
        "From the above decision tree,\n",
        "\n",
        "*   Each node tells us the proportion of FICO Score and Debt-to-Income Ratio, along with the percentage of the records reaching that node.  \n",
        " \n",
        "*   At the root node split, CART identifies the most efficacious possible binary split as separating the records into two groups, depending on their value for the variable FICO Score, one group whose FICO Score < 660, and the other group consisting of FICO Score > 660.\n",
        " \n",
        "*   CART makes a second split, based on the variable, Debt-to-Income Ratio. However, this group of records representing FICO Score with less score than 600 as shown in the leaf node in the lower right with 0.7040 with 69.39%. On the other hand, those who have FICO Score > 660 is 0.0393 containing 30.61% \n",
        " \n",
        "*   The two nodes in the lower right are leaf nodes with Debt-to-Income Ratio of 0.305. If the value is greater than or equal to 0.305 it is true with 0.7848 and 60.83% and if it is less than 0.305 it is false with 0.1304 and 8.56%."
      ],
      "metadata": {
        "id": "yD7rTNNJoInE"
      }
    },
    {
      "cell_type": "markdown",
      "source": [
        "Prediction of CART model and Loans_TestDF"
      ],
      "metadata": {
        "id": "l4fMXOFUu5nd"
      }
    },
    {
      "cell_type": "code",
      "source": [
        "#prediction on Loans_TestDF and CART model\n",
        "%%R\n",
        "predict_CART <- predict(CART_model, Loans_TestDF, 'class')\n",
        "head(predict_CART)"
      ],
      "metadata": {
        "id": "6ZJg_gwovFxl"
      },
      "execution_count": null,
      "outputs": []
    },
    {
      "cell_type": "markdown",
      "source": [
        "Confusion Matrix of Loans_TestDF and predict_CART"
      ],
      "metadata": {
        "id": "bgbpfJ5120sW"
      }
    },
    {
      "cell_type": "code",
      "source": [
        "#confusion matrix of Loans_TestDF and predict_CART\n",
        "%%R\n",
        "confusionMatrix(table(Loans_TestDF$Approval, predict_CART))"
      ],
      "metadata": {
        "id": "oPSJred8vz1u"
      },
      "execution_count": null,
      "outputs": []
    },
    {
      "cell_type": "markdown",
      "source": [
        "Accuracy of predict_CART"
      ],
      "metadata": {
        "id": "6G4zgaCggiDe"
      }
    },
    {
      "cell_type": "code",
      "source": [
        "#accuarcy of cart model\n",
        "%%R\n",
        "accuracy_predict_CART <- sum( predict_CART == Loans_TestDF$Approval)/ length(predict_CART)\n",
        "print('CART Model accuracy :')\n",
        "accuracy_predict_CART * 100"
      ],
      "metadata": {
        "id": "qOUBCNipzz5F"
      },
      "execution_count": null,
      "outputs": []
    },
    {
      "cell_type": "code",
      "source": [
        "%%R\n",
        "Loans_TrainingDF$Approval = as.factor(Loans_TrainingDF$Approval)\n",
        "head(Loans_TrainingDF$Approval)"
      ],
      "metadata": {
        "id": "XnQHr-VbwQ2e"
      },
      "execution_count": null,
      "outputs": []
    },
    {
      "cell_type": "markdown",
      "source": [
        "Build a C5.0 model using the same predictors and target as in part 1.  This time, specify a minimum of 1000 cases per terminal node. Visualize the decision tree. Describe the first few splits in the decision tree."
      ],
      "metadata": {
        "id": "gxY2F1QwzHsZ"
      }
    },
    {
      "cell_type": "code",
      "source": [
        "#c5_model with a minimum of 1000 cases per terminal node.\n",
        "%%R\n",
        "c5_model =C5.0(Loans_TrainingDF[,-1], Loans_TrainingDF$Approval, control = C5.0Control(minCases=1000))\n",
        "c5_model"
      ],
      "metadata": {
        "id": "YsNy0MCZwu-l"
      },
      "execution_count": null,
      "outputs": []
    },
    {
      "cell_type": "code",
      "source": [
        "#plotting c5_model\n",
        "%%R\n",
        "plot(c5_model)"
      ],
      "metadata": {
        "id": "V6CRcJk8w_tp"
      },
      "execution_count": null,
      "outputs": []
    },
    {
      "cell_type": "markdown",
      "source": [
        "Prediction of c5 model and Loans_TestDF"
      ],
      "metadata": {
        "id": "33Bhn8ZrlvKZ"
      }
    },
    {
      "cell_type": "code",
      "source": [
        "#prediction of c5 model and Loans_TestDF\n",
        "%%R\n",
        "predict_c5 <- predict(c5_model, Loans_TestDF)\n",
        "head(predict_c5)"
      ],
      "metadata": {
        "id": "uWrqfJOFypsL"
      },
      "execution_count": null,
      "outputs": []
    },
    {
      "cell_type": "markdown",
      "source": [
        "Confusion Matrix of Loans_TestDF and predict_c5"
      ],
      "metadata": {
        "id": "L-rCpBNemPug"
      }
    },
    {
      "cell_type": "code",
      "source": [
        "#confusion matrix of predict_c5 and Loans_TestDF\n",
        "%%R\n",
        "confusionMatrix(table(Loans_TestDF$Approval, predict_c5))"
      ],
      "metadata": {
        "id": "syB4Uty1y5dP"
      },
      "execution_count": null,
      "outputs": []
    },
    {
      "cell_type": "markdown",
      "source": [
        "Accuracy of c5 model"
      ],
      "metadata": {
        "id": "KBNl6Sc4mibq"
      }
    },
    {
      "cell_type": "code",
      "source": [
        "#accuarcy of c5 model\n",
        "%%R\n",
        "accuracy_predict_c5 <- sum( predict_c5 == Loans_TestDF$Approval)/ length(predict_c5)\n",
        "print('CART Model accuracy :')\n",
        "accuracy_predict_c5 * 100"
      ],
      "metadata": {
        "id": "jmJ17KV21vUg"
      },
      "execution_count": null,
      "outputs": []
    },
    {
      "cell_type": "markdown",
      "source": [
        "How does your C5.0 model compare to your CART model for the loans_training data? Describe the similarities and differences."
      ],
      "metadata": {
        "id": "OM8T1JIImtxs"
      }
    },
    {
      "cell_type": "code",
      "source": [
        "#plotting predict_CART accuracy and predict_c5 accuracy\n",
        "%%R\n",
        "labels <- c('CART', 'C5.0')\n",
        "accuracy_model = c(accuracy_predict_CART, accuracy_predict_c5)"
      ],
      "metadata": {
        "id": "PuSyKQwszMqq"
      },
      "execution_count": null,
      "outputs": []
    },
    {
      "cell_type": "code",
      "source": [
        "#barplot\n",
        "%%R\n",
        "barplot(accuracy_model, main = \"Accuracy Model\", ylab = \"count\", xlab = 'Model names', names.arg = labels, col=\"pink\")"
      ],
      "metadata": {
        "id": "uj-XBDD805Iy"
      },
      "execution_count": null,
      "outputs": []
    }
  ]
}