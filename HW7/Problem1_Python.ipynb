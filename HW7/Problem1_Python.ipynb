{
  "nbformat": 4,
  "nbformat_minor": 0,
  "metadata": {
    "colab": {
      "name": "Problem1_Python",
      "provenance": [],
      "collapsed_sections": [],
      "authorship_tag": "ABX9TyN7Iuf8mMPDPlahjqDcdlRU",
      "include_colab_link": true
    },
    "kernelspec": {
      "name": "python3",
      "display_name": "Python 3"
    },
    "language_info": {
      "name": "python"
    }
  },
  "cells": [
    {
      "cell_type": "markdown",
      "metadata": {
        "id": "view-in-github",
        "colab_type": "text"
      },
      "source": [
        "<a href=\"https://colab.research.google.com/github/Skommireddy/Projects-IDS/blob/main/HW7/Problem1_Python.ipynb\" target=\"_parent\"><img src=\"https://colab.research.google.com/assets/colab-badge.svg\" alt=\"Open In Colab\"/></a>"
      ]
    },
    {
      "cell_type": "markdown",
      "source": [
        "The import pandas is used to bring the pandas data analysis library into the current environment. The as pd is used to give pandas the alias of pd. This allows you to use pandas functions by simply typing pd."
      ],
      "metadata": {
        "id": "-ud-nwxNYBEd"
      }
    },
    {
      "cell_type": "code",
      "execution_count": null,
      "metadata": {
        "id": "3oKLl3kT-UxP"
      },
      "outputs": [],
      "source": [
        "# importing pandas library for quantitative data analysis\n",
        "import pandas as pd"
      ]
    },
    {
      "cell_type": "markdown",
      "source": [
        "Importing csv file from **Github repositiory** HW7 folder.\n",
        "Printing the imported data set dermetologyDF."
      ],
      "metadata": {
        "id": "1kCvn0smZAy3"
      }
    },
    {
      "cell_type": "code",
      "source": [
        "# Importing dermetologyDF.csv file from Github using Pandas library\n",
        "dermetologyDF  = pd.read_csv(\"https://raw.githubusercontent.com/Skommireddy/Projects-IDS/main/HW7/dermatology.csv\");\n",
        "dermetologyDF"
      ],
      "metadata": {
        "id": "eeXus4aLBNbz",
        "colab": {
          "base_uri": "https://localhost:8080/",
          "height": 505
        },
        "outputId": "c2004c7d-32f3-40dd-f93c-d4254d8e6770"
      },
      "execution_count": null,
      "outputs": [
        {
          "output_type": "execute_result",
          "data": {
            "text/plain": [
              "     erythema  scaling  definite_borders  itching  koebner_phenomenon  \\\n",
              "0           2        2                 0        3                   0   \n",
              "1           3        3                 3        2                   1   \n",
              "2           2        1                 2        3                   1   \n",
              "3           2        2                 2        0                   0   \n",
              "4           2        3                 2        2                   2   \n",
              "..        ...      ...               ...      ...                 ...   \n",
              "361         2        1                 1        0                   1   \n",
              "362         3        2                 1        0                   1   \n",
              "363         3        2                 2        2                   3   \n",
              "364         2        1                 3        1                   2   \n",
              "365         3        2                 2        0                   0   \n",
              "\n",
              "     polygonal_papules  follicular_papules  oral_mucosal_involvement  \\\n",
              "0                    0                   0                         0   \n",
              "1                    0                   0                         0   \n",
              "2                    3                   0                         3   \n",
              "3                    0                   0                         0   \n",
              "4                    2                   0                         2   \n",
              "..                 ...                 ...                       ...   \n",
              "361                  0                   0                         0   \n",
              "362                  0                   0                         0   \n",
              "363                  2                   0                         2   \n",
              "364                  3                   0                         2   \n",
              "365                  0                   0                         0   \n",
              "\n",
              "     knee_and_elbow_involvement  scalp_involvement  ...  \\\n",
              "0                             1                  0  ...   \n",
              "1                             1                  1  ...   \n",
              "2                             0                  0  ...   \n",
              "3                             3                  2  ...   \n",
              "4                             0                  0  ...   \n",
              "..                          ...                ...  ...   \n",
              "361                           0                  0  ...   \n",
              "362                           0                  0  ...   \n",
              "363                           0                  0  ...   \n",
              "364                           0                  0  ...   \n",
              "365                           3                  3  ...   \n",
              "\n",
              "     disappearance_of_the_granular_layer  \\\n",
              "0                                      0   \n",
              "1                                      0   \n",
              "2                                      0   \n",
              "3                                      3   \n",
              "4                                      2   \n",
              "..                                   ...   \n",
              "361                                    0   \n",
              "362                                    1   \n",
              "363                                    0   \n",
              "364                                    0   \n",
              "365                                    2   \n",
              "\n",
              "     vacuolisation_and_damage_of_basal_layer  spongiosis  \\\n",
              "0                                          0           3   \n",
              "1                                          0           0   \n",
              "2                                          2           3   \n",
              "3                                          0           0   \n",
              "4                                          3           2   \n",
              "..                                       ...         ...   \n",
              "361                                        0           1   \n",
              "362                                        0           1   \n",
              "363                                        3           0   \n",
              "364                                        2           0   \n",
              "365                                        0           0   \n",
              "\n",
              "     saw-tooth_appearance_of_retes  follicular_horn_plug  \\\n",
              "0                                0                     0   \n",
              "1                                0                     0   \n",
              "2                                2                     0   \n",
              "3                                0                     0   \n",
              "4                                3                     0   \n",
              "..                             ...                   ...   \n",
              "361                              0                     0   \n",
              "362                              0                     0   \n",
              "363                              3                     0   \n",
              "364                              1                     0   \n",
              "365                              0                     0   \n",
              "\n",
              "     perifollicular_parakeratosis  inflammatory_monoluclear_inflitrate  \\\n",
              "0                               0                                    1   \n",
              "1                               0                                    1   \n",
              "2                               0                                    2   \n",
              "3                               0                                    3   \n",
              "4                               0                                    2   \n",
              "..                            ...                                  ...   \n",
              "361                             0                                    2   \n",
              "362                             0                                    2   \n",
              "363                             0                                    2   \n",
              "364                             0                                    2   \n",
              "365                             0                                    3   \n",
              "\n",
              "     band-like_infiltrate   age  class  \n",
              "0                       0  55.0      2  \n",
              "1                       0   8.0      1  \n",
              "2                       3  26.0      3  \n",
              "3                       0  40.0      1  \n",
              "4                       3  45.0      3  \n",
              "..                    ...   ...    ...  \n",
              "361                     0  25.0      4  \n",
              "362                     0  36.0      4  \n",
              "363                     3  28.0      3  \n",
              "364                     3  50.0      3  \n",
              "365                     0  35.0      1  \n",
              "\n",
              "[366 rows x 35 columns]"
            ],
            "text/html": [
              "\n",
              "  <div id=\"df-396446e2-b8d6-4137-b6cc-dc2e39389e3c\">\n",
              "    <div class=\"colab-df-container\">\n",
              "      <div>\n",
              "<style scoped>\n",
              "    .dataframe tbody tr th:only-of-type {\n",
              "        vertical-align: middle;\n",
              "    }\n",
              "\n",
              "    .dataframe tbody tr th {\n",
              "        vertical-align: top;\n",
              "    }\n",
              "\n",
              "    .dataframe thead th {\n",
              "        text-align: right;\n",
              "    }\n",
              "</style>\n",
              "<table border=\"1\" class=\"dataframe\">\n",
              "  <thead>\n",
              "    <tr style=\"text-align: right;\">\n",
              "      <th></th>\n",
              "      <th>erythema</th>\n",
              "      <th>scaling</th>\n",
              "      <th>definite_borders</th>\n",
              "      <th>itching</th>\n",
              "      <th>koebner_phenomenon</th>\n",
              "      <th>polygonal_papules</th>\n",
              "      <th>follicular_papules</th>\n",
              "      <th>oral_mucosal_involvement</th>\n",
              "      <th>knee_and_elbow_involvement</th>\n",
              "      <th>scalp_involvement</th>\n",
              "      <th>...</th>\n",
              "      <th>disappearance_of_the_granular_layer</th>\n",
              "      <th>vacuolisation_and_damage_of_basal_layer</th>\n",
              "      <th>spongiosis</th>\n",
              "      <th>saw-tooth_appearance_of_retes</th>\n",
              "      <th>follicular_horn_plug</th>\n",
              "      <th>perifollicular_parakeratosis</th>\n",
              "      <th>inflammatory_monoluclear_inflitrate</th>\n",
              "      <th>band-like_infiltrate</th>\n",
              "      <th>age</th>\n",
              "      <th>class</th>\n",
              "    </tr>\n",
              "  </thead>\n",
              "  <tbody>\n",
              "    <tr>\n",
              "      <th>0</th>\n",
              "      <td>2</td>\n",
              "      <td>2</td>\n",
              "      <td>0</td>\n",
              "      <td>3</td>\n",
              "      <td>0</td>\n",
              "      <td>0</td>\n",
              "      <td>0</td>\n",
              "      <td>0</td>\n",
              "      <td>1</td>\n",
              "      <td>0</td>\n",
              "      <td>...</td>\n",
              "      <td>0</td>\n",
              "      <td>0</td>\n",
              "      <td>3</td>\n",
              "      <td>0</td>\n",
              "      <td>0</td>\n",
              "      <td>0</td>\n",
              "      <td>1</td>\n",
              "      <td>0</td>\n",
              "      <td>55.0</td>\n",
              "      <td>2</td>\n",
              "    </tr>\n",
              "    <tr>\n",
              "      <th>1</th>\n",
              "      <td>3</td>\n",
              "      <td>3</td>\n",
              "      <td>3</td>\n",
              "      <td>2</td>\n",
              "      <td>1</td>\n",
              "      <td>0</td>\n",
              "      <td>0</td>\n",
              "      <td>0</td>\n",
              "      <td>1</td>\n",
              "      <td>1</td>\n",
              "      <td>...</td>\n",
              "      <td>0</td>\n",
              "      <td>0</td>\n",
              "      <td>0</td>\n",
              "      <td>0</td>\n",
              "      <td>0</td>\n",
              "      <td>0</td>\n",
              "      <td>1</td>\n",
              "      <td>0</td>\n",
              "      <td>8.0</td>\n",
              "      <td>1</td>\n",
              "    </tr>\n",
              "    <tr>\n",
              "      <th>2</th>\n",
              "      <td>2</td>\n",
              "      <td>1</td>\n",
              "      <td>2</td>\n",
              "      <td>3</td>\n",
              "      <td>1</td>\n",
              "      <td>3</td>\n",
              "      <td>0</td>\n",
              "      <td>3</td>\n",
              "      <td>0</td>\n",
              "      <td>0</td>\n",
              "      <td>...</td>\n",
              "      <td>0</td>\n",
              "      <td>2</td>\n",
              "      <td>3</td>\n",
              "      <td>2</td>\n",
              "      <td>0</td>\n",
              "      <td>0</td>\n",
              "      <td>2</td>\n",
              "      <td>3</td>\n",
              "      <td>26.0</td>\n",
              "      <td>3</td>\n",
              "    </tr>\n",
              "    <tr>\n",
              "      <th>3</th>\n",
              "      <td>2</td>\n",
              "      <td>2</td>\n",
              "      <td>2</td>\n",
              "      <td>0</td>\n",
              "      <td>0</td>\n",
              "      <td>0</td>\n",
              "      <td>0</td>\n",
              "      <td>0</td>\n",
              "      <td>3</td>\n",
              "      <td>2</td>\n",
              "      <td>...</td>\n",
              "      <td>3</td>\n",
              "      <td>0</td>\n",
              "      <td>0</td>\n",
              "      <td>0</td>\n",
              "      <td>0</td>\n",
              "      <td>0</td>\n",
              "      <td>3</td>\n",
              "      <td>0</td>\n",
              "      <td>40.0</td>\n",
              "      <td>1</td>\n",
              "    </tr>\n",
              "    <tr>\n",
              "      <th>4</th>\n",
              "      <td>2</td>\n",
              "      <td>3</td>\n",
              "      <td>2</td>\n",
              "      <td>2</td>\n",
              "      <td>2</td>\n",
              "      <td>2</td>\n",
              "      <td>0</td>\n",
              "      <td>2</td>\n",
              "      <td>0</td>\n",
              "      <td>0</td>\n",
              "      <td>...</td>\n",
              "      <td>2</td>\n",
              "      <td>3</td>\n",
              "      <td>2</td>\n",
              "      <td>3</td>\n",
              "      <td>0</td>\n",
              "      <td>0</td>\n",
              "      <td>2</td>\n",
              "      <td>3</td>\n",
              "      <td>45.0</td>\n",
              "      <td>3</td>\n",
              "    </tr>\n",
              "    <tr>\n",
              "      <th>...</th>\n",
              "      <td>...</td>\n",
              "      <td>...</td>\n",
              "      <td>...</td>\n",
              "      <td>...</td>\n",
              "      <td>...</td>\n",
              "      <td>...</td>\n",
              "      <td>...</td>\n",
              "      <td>...</td>\n",
              "      <td>...</td>\n",
              "      <td>...</td>\n",
              "      <td>...</td>\n",
              "      <td>...</td>\n",
              "      <td>...</td>\n",
              "      <td>...</td>\n",
              "      <td>...</td>\n",
              "      <td>...</td>\n",
              "      <td>...</td>\n",
              "      <td>...</td>\n",
              "      <td>...</td>\n",
              "      <td>...</td>\n",
              "      <td>...</td>\n",
              "    </tr>\n",
              "    <tr>\n",
              "      <th>361</th>\n",
              "      <td>2</td>\n",
              "      <td>1</td>\n",
              "      <td>1</td>\n",
              "      <td>0</td>\n",
              "      <td>1</td>\n",
              "      <td>0</td>\n",
              "      <td>0</td>\n",
              "      <td>0</td>\n",
              "      <td>0</td>\n",
              "      <td>0</td>\n",
              "      <td>...</td>\n",
              "      <td>0</td>\n",
              "      <td>0</td>\n",
              "      <td>1</td>\n",
              "      <td>0</td>\n",
              "      <td>0</td>\n",
              "      <td>0</td>\n",
              "      <td>2</td>\n",
              "      <td>0</td>\n",
              "      <td>25.0</td>\n",
              "      <td>4</td>\n",
              "    </tr>\n",
              "    <tr>\n",
              "      <th>362</th>\n",
              "      <td>3</td>\n",
              "      <td>2</td>\n",
              "      <td>1</td>\n",
              "      <td>0</td>\n",
              "      <td>1</td>\n",
              "      <td>0</td>\n",
              "      <td>0</td>\n",
              "      <td>0</td>\n",
              "      <td>0</td>\n",
              "      <td>0</td>\n",
              "      <td>...</td>\n",
              "      <td>1</td>\n",
              "      <td>0</td>\n",
              "      <td>1</td>\n",
              "      <td>0</td>\n",
              "      <td>0</td>\n",
              "      <td>0</td>\n",
              "      <td>2</td>\n",
              "      <td>0</td>\n",
              "      <td>36.0</td>\n",
              "      <td>4</td>\n",
              "    </tr>\n",
              "    <tr>\n",
              "      <th>363</th>\n",
              "      <td>3</td>\n",
              "      <td>2</td>\n",
              "      <td>2</td>\n",
              "      <td>2</td>\n",
              "      <td>3</td>\n",
              "      <td>2</td>\n",
              "      <td>0</td>\n",
              "      <td>2</td>\n",
              "      <td>0</td>\n",
              "      <td>0</td>\n",
              "      <td>...</td>\n",
              "      <td>0</td>\n",
              "      <td>3</td>\n",
              "      <td>0</td>\n",
              "      <td>3</td>\n",
              "      <td>0</td>\n",
              "      <td>0</td>\n",
              "      <td>2</td>\n",
              "      <td>3</td>\n",
              "      <td>28.0</td>\n",
              "      <td>3</td>\n",
              "    </tr>\n",
              "    <tr>\n",
              "      <th>364</th>\n",
              "      <td>2</td>\n",
              "      <td>1</td>\n",
              "      <td>3</td>\n",
              "      <td>1</td>\n",
              "      <td>2</td>\n",
              "      <td>3</td>\n",
              "      <td>0</td>\n",
              "      <td>2</td>\n",
              "      <td>0</td>\n",
              "      <td>0</td>\n",
              "      <td>...</td>\n",
              "      <td>0</td>\n",
              "      <td>2</td>\n",
              "      <td>0</td>\n",
              "      <td>1</td>\n",
              "      <td>0</td>\n",
              "      <td>0</td>\n",
              "      <td>2</td>\n",
              "      <td>3</td>\n",
              "      <td>50.0</td>\n",
              "      <td>3</td>\n",
              "    </tr>\n",
              "    <tr>\n",
              "      <th>365</th>\n",
              "      <td>3</td>\n",
              "      <td>2</td>\n",
              "      <td>2</td>\n",
              "      <td>0</td>\n",
              "      <td>0</td>\n",
              "      <td>0</td>\n",
              "      <td>0</td>\n",
              "      <td>0</td>\n",
              "      <td>3</td>\n",
              "      <td>3</td>\n",
              "      <td>...</td>\n",
              "      <td>2</td>\n",
              "      <td>0</td>\n",
              "      <td>0</td>\n",
              "      <td>0</td>\n",
              "      <td>0</td>\n",
              "      <td>0</td>\n",
              "      <td>3</td>\n",
              "      <td>0</td>\n",
              "      <td>35.0</td>\n",
              "      <td>1</td>\n",
              "    </tr>\n",
              "  </tbody>\n",
              "</table>\n",
              "<p>366 rows × 35 columns</p>\n",
              "</div>\n",
              "      <button class=\"colab-df-convert\" onclick=\"convertToInteractive('df-396446e2-b8d6-4137-b6cc-dc2e39389e3c')\"\n",
              "              title=\"Convert this dataframe to an interactive table.\"\n",
              "              style=\"display:none;\">\n",
              "        \n",
              "  <svg xmlns=\"http://www.w3.org/2000/svg\" height=\"24px\"viewBox=\"0 0 24 24\"\n",
              "       width=\"24px\">\n",
              "    <path d=\"M0 0h24v24H0V0z\" fill=\"none\"/>\n",
              "    <path d=\"M18.56 5.44l.94 2.06.94-2.06 2.06-.94-2.06-.94-.94-2.06-.94 2.06-2.06.94zm-11 1L8.5 8.5l.94-2.06 2.06-.94-2.06-.94L8.5 2.5l-.94 2.06-2.06.94zm10 10l.94 2.06.94-2.06 2.06-.94-2.06-.94-.94-2.06-.94 2.06-2.06.94z\"/><path d=\"M17.41 7.96l-1.37-1.37c-.4-.4-.92-.59-1.43-.59-.52 0-1.04.2-1.43.59L10.3 9.45l-7.72 7.72c-.78.78-.78 2.05 0 2.83L4 21.41c.39.39.9.59 1.41.59.51 0 1.02-.2 1.41-.59l7.78-7.78 2.81-2.81c.8-.78.8-2.07 0-2.86zM5.41 20L4 18.59l7.72-7.72 1.47 1.35L5.41 20z\"/>\n",
              "  </svg>\n",
              "      </button>\n",
              "      \n",
              "  <style>\n",
              "    .colab-df-container {\n",
              "      display:flex;\n",
              "      flex-wrap:wrap;\n",
              "      gap: 12px;\n",
              "    }\n",
              "\n",
              "    .colab-df-convert {\n",
              "      background-color: #E8F0FE;\n",
              "      border: none;\n",
              "      border-radius: 50%;\n",
              "      cursor: pointer;\n",
              "      display: none;\n",
              "      fill: #1967D2;\n",
              "      height: 32px;\n",
              "      padding: 0 0 0 0;\n",
              "      width: 32px;\n",
              "    }\n",
              "\n",
              "    .colab-df-convert:hover {\n",
              "      background-color: #E2EBFA;\n",
              "      box-shadow: 0px 1px 2px rgba(60, 64, 67, 0.3), 0px 1px 3px 1px rgba(60, 64, 67, 0.15);\n",
              "      fill: #174EA6;\n",
              "    }\n",
              "\n",
              "    [theme=dark] .colab-df-convert {\n",
              "      background-color: #3B4455;\n",
              "      fill: #D2E3FC;\n",
              "    }\n",
              "\n",
              "    [theme=dark] .colab-df-convert:hover {\n",
              "      background-color: #434B5C;\n",
              "      box-shadow: 0px 1px 3px 1px rgba(0, 0, 0, 0.15);\n",
              "      filter: drop-shadow(0px 1px 2px rgba(0, 0, 0, 0.3));\n",
              "      fill: #FFFFFF;\n",
              "    }\n",
              "  </style>\n",
              "\n",
              "      <script>\n",
              "        const buttonEl =\n",
              "          document.querySelector('#df-396446e2-b8d6-4137-b6cc-dc2e39389e3c button.colab-df-convert');\n",
              "        buttonEl.style.display =\n",
              "          google.colab.kernel.accessAllowed ? 'block' : 'none';\n",
              "\n",
              "        async function convertToInteractive(key) {\n",
              "          const element = document.querySelector('#df-396446e2-b8d6-4137-b6cc-dc2e39389e3c');\n",
              "          const dataTable =\n",
              "            await google.colab.kernel.invokeFunction('convertToInteractive',\n",
              "                                                     [key], {});\n",
              "          if (!dataTable) return;\n",
              "\n",
              "          const docLinkHtml = 'Like what you see? Visit the ' +\n",
              "            '<a target=\"_blank\" href=https://colab.research.google.com/notebooks/data_table.ipynb>data table notebook</a>'\n",
              "            + ' to learn more about interactive tables.';\n",
              "          element.innerHTML = '';\n",
              "          dataTable['output_type'] = 'display_data';\n",
              "          await google.colab.output.renderOutput(dataTable, element);\n",
              "          const docLink = document.createElement('div');\n",
              "          docLink.innerHTML = docLinkHtml;\n",
              "          element.appendChild(docLink);\n",
              "        }\n",
              "      </script>\n",
              "    </div>\n",
              "  </div>\n",
              "  "
            ]
          },
          "metadata": {},
          "execution_count": 3
        }
      ]
    },
    {
      "cell_type": "code",
      "source": [
        "print(dermetologyDF)"
      ],
      "metadata": {
        "colab": {
          "base_uri": "https://localhost:8080/"
        },
        "id": "z1e3L40wYOid",
        "outputId": "81284346-2a2b-4edf-953a-41411f4a42e6"
      },
      "execution_count": null,
      "outputs": [
        {
          "output_type": "stream",
          "name": "stdout",
          "text": [
            "     erythema  scaling  definite_borders  itching  koebner_phenomenon  \\\n",
            "0           2        2                 0        3                   0   \n",
            "1           3        3                 3        2                   1   \n",
            "2           2        1                 2        3                   1   \n",
            "3           2        2                 2        0                   0   \n",
            "4           2        3                 2        2                   2   \n",
            "..        ...      ...               ...      ...                 ...   \n",
            "361         2        1                 1        0                   1   \n",
            "362         3        2                 1        0                   1   \n",
            "363         3        2                 2        2                   3   \n",
            "364         2        1                 3        1                   2   \n",
            "365         3        2                 2        0                   0   \n",
            "\n",
            "     polygonal_papules  follicular_papules  oral_mucosal_involvement  \\\n",
            "0                    0                   0                         0   \n",
            "1                    0                   0                         0   \n",
            "2                    3                   0                         3   \n",
            "3                    0                   0                         0   \n",
            "4                    2                   0                         2   \n",
            "..                 ...                 ...                       ...   \n",
            "361                  0                   0                         0   \n",
            "362                  0                   0                         0   \n",
            "363                  2                   0                         2   \n",
            "364                  3                   0                         2   \n",
            "365                  0                   0                         0   \n",
            "\n",
            "     knee_and_elbow_involvement  scalp_involvement  ...  \\\n",
            "0                             1                  0  ...   \n",
            "1                             1                  1  ...   \n",
            "2                             0                  0  ...   \n",
            "3                             3                  2  ...   \n",
            "4                             0                  0  ...   \n",
            "..                          ...                ...  ...   \n",
            "361                           0                  0  ...   \n",
            "362                           0                  0  ...   \n",
            "363                           0                  0  ...   \n",
            "364                           0                  0  ...   \n",
            "365                           3                  3  ...   \n",
            "\n",
            "     disappearance_of_the_granular_layer  \\\n",
            "0                                      0   \n",
            "1                                      0   \n",
            "2                                      0   \n",
            "3                                      3   \n",
            "4                                      2   \n",
            "..                                   ...   \n",
            "361                                    0   \n",
            "362                                    1   \n",
            "363                                    0   \n",
            "364                                    0   \n",
            "365                                    2   \n",
            "\n",
            "     vacuolisation_and_damage_of_basal_layer  spongiosis  \\\n",
            "0                                          0           3   \n",
            "1                                          0           0   \n",
            "2                                          2           3   \n",
            "3                                          0           0   \n",
            "4                                          3           2   \n",
            "..                                       ...         ...   \n",
            "361                                        0           1   \n",
            "362                                        0           1   \n",
            "363                                        3           0   \n",
            "364                                        2           0   \n",
            "365                                        0           0   \n",
            "\n",
            "     saw-tooth_appearance_of_retes  follicular_horn_plug  \\\n",
            "0                                0                     0   \n",
            "1                                0                     0   \n",
            "2                                2                     0   \n",
            "3                                0                     0   \n",
            "4                                3                     0   \n",
            "..                             ...                   ...   \n",
            "361                              0                     0   \n",
            "362                              0                     0   \n",
            "363                              3                     0   \n",
            "364                              1                     0   \n",
            "365                              0                     0   \n",
            "\n",
            "     perifollicular_parakeratosis  inflammatory_monoluclear_inflitrate  \\\n",
            "0                               0                                    1   \n",
            "1                               0                                    1   \n",
            "2                               0                                    2   \n",
            "3                               0                                    3   \n",
            "4                               0                                    2   \n",
            "..                            ...                                  ...   \n",
            "361                             0                                    2   \n",
            "362                             0                                    2   \n",
            "363                             0                                    2   \n",
            "364                             0                                    2   \n",
            "365                             0                                    3   \n",
            "\n",
            "     band-like_infiltrate   age  class  \n",
            "0                       0  55.0      2  \n",
            "1                       0   8.0      1  \n",
            "2                       3  26.0      3  \n",
            "3                       0  40.0      1  \n",
            "4                       3  45.0      3  \n",
            "..                    ...   ...    ...  \n",
            "361                     0  25.0      4  \n",
            "362                     0  36.0      4  \n",
            "363                     3  28.0      3  \n",
            "364                     3  50.0      3  \n",
            "365                     0  35.0      1  \n",
            "\n",
            "[366 rows x 35 columns]\n"
          ]
        }
      ]
    },
    {
      "cell_type": "markdown",
      "source": [
        "Check for any missing values and impute, if necessary.\n"
      ],
      "metadata": {
        "id": "ZmK-xPNNYM7F"
      }
    },
    {
      "cell_type": "code",
      "source": [
        "dermetologyDF.isnull().sum()"
      ],
      "metadata": {
        "colab": {
          "base_uri": "https://localhost:8080/"
        },
        "id": "EGaJ7IkQZY_j",
        "outputId": "11c21add-ed89-4707-df30-d81daf47ca87"
      },
      "execution_count": null,
      "outputs": [
        {
          "output_type": "execute_result",
          "data": {
            "text/plain": [
              "erythema                                    0\n",
              "scaling                                     0\n",
              "definite_borders                            0\n",
              "itching                                     0\n",
              "koebner_phenomenon                          0\n",
              "polygonal_papules                           0\n",
              "follicular_papules                          0\n",
              "oral_mucosal_involvement                    0\n",
              "knee_and_elbow_involvement                  0\n",
              "scalp_involvement                           0\n",
              "family_history                              0\n",
              "melanin_incontinence                        0\n",
              "eosinophils_in_the_infiltrate               0\n",
              "pnl_infiltrate                              0\n",
              "fibrosis_of_the_papillary_dermis            0\n",
              "exocytosis                                  0\n",
              "acanthosis                                  0\n",
              "hyperkeratosis                              0\n",
              "parakeratosis                               0\n",
              "clubbing_of_the_rete_ridges                 0\n",
              "elongation_of_the_rete_ridges               0\n",
              "thinning_of_the_suprapapillary_epidermis    0\n",
              "spongiform_pustule                          0\n",
              "munro_microabcess                           0\n",
              "focal_hypergranulosis                       0\n",
              "disappearance_of_the_granular_layer         0\n",
              "vacuolisation_and_damage_of_basal_layer     0\n",
              "spongiosis                                  0\n",
              "saw-tooth_appearance_of_retes               0\n",
              "follicular_horn_plug                        0\n",
              "perifollicular_parakeratosis                0\n",
              "inflammatory_monoluclear_inflitrate         0\n",
              "band-like_infiltrate                        0\n",
              "age                                         8\n",
              "class                                       0\n",
              "dtype: int64"
            ]
          },
          "metadata": {},
          "execution_count": 5
        }
      ]
    },
    {
      "cell_type": "markdown",
      "source": [
        "There are 8 missing values in age column in the dermetologyDF data frame."
      ],
      "metadata": {
        "id": "9VhFwNevZq9U"
      }
    },
    {
      "cell_type": "code",
      "source": [
        "dermetologyDF[\"age\"].isnull().sum()"
      ],
      "metadata": {
        "colab": {
          "base_uri": "https://localhost:8080/"
        },
        "id": "L90ZzRpgZ2Qu",
        "outputId": "7a9b5d91-9433-40a9-b5d8-3913bd12ee6e"
      },
      "execution_count": null,
      "outputs": [
        {
          "output_type": "execute_result",
          "data": {
            "text/plain": [
              "8"
            ]
          },
          "metadata": {},
          "execution_count": 6
        }
      ]
    },
    {
      "cell_type": "code",
      "source": [
        "#calculating mmedian of the age column to impute the missing values\n",
        "dermetologyDF[\"age\"].median()"
      ],
      "metadata": {
        "colab": {
          "base_uri": "https://localhost:8080/"
        },
        "id": "4Rt6wMJaaXpd",
        "outputId": "e9032687-2bb5-44c7-c6de-7a1493c2f04d"
      },
      "execution_count": null,
      "outputs": [
        {
          "output_type": "execute_result",
          "data": {
            "text/plain": [
              "35.0"
            ]
          },
          "metadata": {},
          "execution_count": 7
        }
      ]
    },
    {
      "cell_type": "code",
      "source": [
        "#replacing null values in age with median of the age column\n",
        "dermetologyDF[\"age\"] = dermetologyDF[\"age\"].fillna(dermetologyDF[\"age\"].median())"
      ],
      "metadata": {
        "id": "R03h1UfVavAP"
      },
      "execution_count": null,
      "outputs": []
    },
    {
      "cell_type": "code",
      "source": [
        "#checking for missing values after replacing with median of age column in the entire data set\n",
        "dermetologyDF.isnull().sum()"
      ],
      "metadata": {
        "colab": {
          "base_uri": "https://localhost:8080/"
        },
        "id": "enLOudfDbtld",
        "outputId": "ac2bc41a-8ba7-43c0-a358-9b0993e5cdb5"
      },
      "execution_count": null,
      "outputs": [
        {
          "output_type": "execute_result",
          "data": {
            "text/plain": [
              "erythema                                    0\n",
              "scaling                                     0\n",
              "definite_borders                            0\n",
              "itching                                     0\n",
              "koebner_phenomenon                          0\n",
              "polygonal_papules                           0\n",
              "follicular_papules                          0\n",
              "oral_mucosal_involvement                    0\n",
              "knee_and_elbow_involvement                  0\n",
              "scalp_involvement                           0\n",
              "family_history                              0\n",
              "melanin_incontinence                        0\n",
              "eosinophils_in_the_infiltrate               0\n",
              "pnl_infiltrate                              0\n",
              "fibrosis_of_the_papillary_dermis            0\n",
              "exocytosis                                  0\n",
              "acanthosis                                  0\n",
              "hyperkeratosis                              0\n",
              "parakeratosis                               0\n",
              "clubbing_of_the_rete_ridges                 0\n",
              "elongation_of_the_rete_ridges               0\n",
              "thinning_of_the_suprapapillary_epidermis    0\n",
              "spongiform_pustule                          0\n",
              "munro_microabcess                           0\n",
              "focal_hypergranulosis                       0\n",
              "disappearance_of_the_granular_layer         0\n",
              "vacuolisation_and_damage_of_basal_layer     0\n",
              "spongiosis                                  0\n",
              "saw-tooth_appearance_of_retes               0\n",
              "follicular_horn_plug                        0\n",
              "perifollicular_parakeratosis                0\n",
              "inflammatory_monoluclear_inflitrate         0\n",
              "band-like_infiltrate                        0\n",
              "age                                         0\n",
              "class                                       0\n",
              "dtype: int64"
            ]
          },
          "metadata": {},
          "execution_count": 9
        }
      ]
    },
    {
      "cell_type": "code",
      "source": [
        "#changing the column values accordingly\n",
        "dermetologyDF.rename(columns = {'class':'disease', 'saw-tooth_appearance_of_retes': 'saw_tooth_appearance_of_retes', 'band-like_infiltrate': 'band_like_infiltrate'}, inplace = True)\n",
        "dermetologyDF"
      ],
      "metadata": {
        "colab": {
          "base_uri": "https://localhost:8080/",
          "height": 487
        },
        "id": "S5oYuta7c--1",
        "outputId": "44d22ed4-dc7b-4950-a3f5-bd661824c2af"
      },
      "execution_count": null,
      "outputs": [
        {
          "output_type": "execute_result",
          "data": {
            "text/plain": [
              "     erythema  scaling  definite_borders  itching  koebner_phenomenon  \\\n",
              "0           2        2                 0        3                   0   \n",
              "1           3        3                 3        2                   1   \n",
              "2           2        1                 2        3                   1   \n",
              "3           2        2                 2        0                   0   \n",
              "4           2        3                 2        2                   2   \n",
              "..        ...      ...               ...      ...                 ...   \n",
              "361         2        1                 1        0                   1   \n",
              "362         3        2                 1        0                   1   \n",
              "363         3        2                 2        2                   3   \n",
              "364         2        1                 3        1                   2   \n",
              "365         3        2                 2        0                   0   \n",
              "\n",
              "     polygonal_papules  follicular_papules  oral_mucosal_involvement  \\\n",
              "0                    0                   0                         0   \n",
              "1                    0                   0                         0   \n",
              "2                    3                   0                         3   \n",
              "3                    0                   0                         0   \n",
              "4                    2                   0                         2   \n",
              "..                 ...                 ...                       ...   \n",
              "361                  0                   0                         0   \n",
              "362                  0                   0                         0   \n",
              "363                  2                   0                         2   \n",
              "364                  3                   0                         2   \n",
              "365                  0                   0                         0   \n",
              "\n",
              "     knee_and_elbow_involvement  scalp_involvement  ...  \\\n",
              "0                             1                  0  ...   \n",
              "1                             1                  1  ...   \n",
              "2                             0                  0  ...   \n",
              "3                             3                  2  ...   \n",
              "4                             0                  0  ...   \n",
              "..                          ...                ...  ...   \n",
              "361                           0                  0  ...   \n",
              "362                           0                  0  ...   \n",
              "363                           0                  0  ...   \n",
              "364                           0                  0  ...   \n",
              "365                           3                  3  ...   \n",
              "\n",
              "     disappearance_of_the_granular_layer  \\\n",
              "0                                      0   \n",
              "1                                      0   \n",
              "2                                      0   \n",
              "3                                      3   \n",
              "4                                      2   \n",
              "..                                   ...   \n",
              "361                                    0   \n",
              "362                                    1   \n",
              "363                                    0   \n",
              "364                                    0   \n",
              "365                                    2   \n",
              "\n",
              "     vacuolisation_and_damage_of_basal_layer  spongiosis  \\\n",
              "0                                          0           3   \n",
              "1                                          0           0   \n",
              "2                                          2           3   \n",
              "3                                          0           0   \n",
              "4                                          3           2   \n",
              "..                                       ...         ...   \n",
              "361                                        0           1   \n",
              "362                                        0           1   \n",
              "363                                        3           0   \n",
              "364                                        2           0   \n",
              "365                                        0           0   \n",
              "\n",
              "     saw_tooth_appearance_of_retes  follicular_horn_plug  \\\n",
              "0                                0                     0   \n",
              "1                                0                     0   \n",
              "2                                2                     0   \n",
              "3                                0                     0   \n",
              "4                                3                     0   \n",
              "..                             ...                   ...   \n",
              "361                              0                     0   \n",
              "362                              0                     0   \n",
              "363                              3                     0   \n",
              "364                              1                     0   \n",
              "365                              0                     0   \n",
              "\n",
              "     perifollicular_parakeratosis  inflammatory_monoluclear_inflitrate  \\\n",
              "0                               0                                    1   \n",
              "1                               0                                    1   \n",
              "2                               0                                    2   \n",
              "3                               0                                    3   \n",
              "4                               0                                    2   \n",
              "..                            ...                                  ...   \n",
              "361                             0                                    2   \n",
              "362                             0                                    2   \n",
              "363                             0                                    2   \n",
              "364                             0                                    2   \n",
              "365                             0                                    3   \n",
              "\n",
              "     band_like_infiltrate   age  disease  \n",
              "0                       0  55.0        2  \n",
              "1                       0   8.0        1  \n",
              "2                       3  26.0        3  \n",
              "3                       0  40.0        1  \n",
              "4                       3  45.0        3  \n",
              "..                    ...   ...      ...  \n",
              "361                     0  25.0        4  \n",
              "362                     0  36.0        4  \n",
              "363                     3  28.0        3  \n",
              "364                     3  50.0        3  \n",
              "365                     0  35.0        1  \n",
              "\n",
              "[366 rows x 35 columns]"
            ],
            "text/html": [
              "\n",
              "  <div id=\"df-a32678c5-155d-4939-87bd-2e2327cd8c25\">\n",
              "    <div class=\"colab-df-container\">\n",
              "      <div>\n",
              "<style scoped>\n",
              "    .dataframe tbody tr th:only-of-type {\n",
              "        vertical-align: middle;\n",
              "    }\n",
              "\n",
              "    .dataframe tbody tr th {\n",
              "        vertical-align: top;\n",
              "    }\n",
              "\n",
              "    .dataframe thead th {\n",
              "        text-align: right;\n",
              "    }\n",
              "</style>\n",
              "<table border=\"1\" class=\"dataframe\">\n",
              "  <thead>\n",
              "    <tr style=\"text-align: right;\">\n",
              "      <th></th>\n",
              "      <th>erythema</th>\n",
              "      <th>scaling</th>\n",
              "      <th>definite_borders</th>\n",
              "      <th>itching</th>\n",
              "      <th>koebner_phenomenon</th>\n",
              "      <th>polygonal_papules</th>\n",
              "      <th>follicular_papules</th>\n",
              "      <th>oral_mucosal_involvement</th>\n",
              "      <th>knee_and_elbow_involvement</th>\n",
              "      <th>scalp_involvement</th>\n",
              "      <th>...</th>\n",
              "      <th>disappearance_of_the_granular_layer</th>\n",
              "      <th>vacuolisation_and_damage_of_basal_layer</th>\n",
              "      <th>spongiosis</th>\n",
              "      <th>saw_tooth_appearance_of_retes</th>\n",
              "      <th>follicular_horn_plug</th>\n",
              "      <th>perifollicular_parakeratosis</th>\n",
              "      <th>inflammatory_monoluclear_inflitrate</th>\n",
              "      <th>band_like_infiltrate</th>\n",
              "      <th>age</th>\n",
              "      <th>disease</th>\n",
              "    </tr>\n",
              "  </thead>\n",
              "  <tbody>\n",
              "    <tr>\n",
              "      <th>0</th>\n",
              "      <td>2</td>\n",
              "      <td>2</td>\n",
              "      <td>0</td>\n",
              "      <td>3</td>\n",
              "      <td>0</td>\n",
              "      <td>0</td>\n",
              "      <td>0</td>\n",
              "      <td>0</td>\n",
              "      <td>1</td>\n",
              "      <td>0</td>\n",
              "      <td>...</td>\n",
              "      <td>0</td>\n",
              "      <td>0</td>\n",
              "      <td>3</td>\n",
              "      <td>0</td>\n",
              "      <td>0</td>\n",
              "      <td>0</td>\n",
              "      <td>1</td>\n",
              "      <td>0</td>\n",
              "      <td>55.0</td>\n",
              "      <td>2</td>\n",
              "    </tr>\n",
              "    <tr>\n",
              "      <th>1</th>\n",
              "      <td>3</td>\n",
              "      <td>3</td>\n",
              "      <td>3</td>\n",
              "      <td>2</td>\n",
              "      <td>1</td>\n",
              "      <td>0</td>\n",
              "      <td>0</td>\n",
              "      <td>0</td>\n",
              "      <td>1</td>\n",
              "      <td>1</td>\n",
              "      <td>...</td>\n",
              "      <td>0</td>\n",
              "      <td>0</td>\n",
              "      <td>0</td>\n",
              "      <td>0</td>\n",
              "      <td>0</td>\n",
              "      <td>0</td>\n",
              "      <td>1</td>\n",
              "      <td>0</td>\n",
              "      <td>8.0</td>\n",
              "      <td>1</td>\n",
              "    </tr>\n",
              "    <tr>\n",
              "      <th>2</th>\n",
              "      <td>2</td>\n",
              "      <td>1</td>\n",
              "      <td>2</td>\n",
              "      <td>3</td>\n",
              "      <td>1</td>\n",
              "      <td>3</td>\n",
              "      <td>0</td>\n",
              "      <td>3</td>\n",
              "      <td>0</td>\n",
              "      <td>0</td>\n",
              "      <td>...</td>\n",
              "      <td>0</td>\n",
              "      <td>2</td>\n",
              "      <td>3</td>\n",
              "      <td>2</td>\n",
              "      <td>0</td>\n",
              "      <td>0</td>\n",
              "      <td>2</td>\n",
              "      <td>3</td>\n",
              "      <td>26.0</td>\n",
              "      <td>3</td>\n",
              "    </tr>\n",
              "    <tr>\n",
              "      <th>3</th>\n",
              "      <td>2</td>\n",
              "      <td>2</td>\n",
              "      <td>2</td>\n",
              "      <td>0</td>\n",
              "      <td>0</td>\n",
              "      <td>0</td>\n",
              "      <td>0</td>\n",
              "      <td>0</td>\n",
              "      <td>3</td>\n",
              "      <td>2</td>\n",
              "      <td>...</td>\n",
              "      <td>3</td>\n",
              "      <td>0</td>\n",
              "      <td>0</td>\n",
              "      <td>0</td>\n",
              "      <td>0</td>\n",
              "      <td>0</td>\n",
              "      <td>3</td>\n",
              "      <td>0</td>\n",
              "      <td>40.0</td>\n",
              "      <td>1</td>\n",
              "    </tr>\n",
              "    <tr>\n",
              "      <th>4</th>\n",
              "      <td>2</td>\n",
              "      <td>3</td>\n",
              "      <td>2</td>\n",
              "      <td>2</td>\n",
              "      <td>2</td>\n",
              "      <td>2</td>\n",
              "      <td>0</td>\n",
              "      <td>2</td>\n",
              "      <td>0</td>\n",
              "      <td>0</td>\n",
              "      <td>...</td>\n",
              "      <td>2</td>\n",
              "      <td>3</td>\n",
              "      <td>2</td>\n",
              "      <td>3</td>\n",
              "      <td>0</td>\n",
              "      <td>0</td>\n",
              "      <td>2</td>\n",
              "      <td>3</td>\n",
              "      <td>45.0</td>\n",
              "      <td>3</td>\n",
              "    </tr>\n",
              "    <tr>\n",
              "      <th>...</th>\n",
              "      <td>...</td>\n",
              "      <td>...</td>\n",
              "      <td>...</td>\n",
              "      <td>...</td>\n",
              "      <td>...</td>\n",
              "      <td>...</td>\n",
              "      <td>...</td>\n",
              "      <td>...</td>\n",
              "      <td>...</td>\n",
              "      <td>...</td>\n",
              "      <td>...</td>\n",
              "      <td>...</td>\n",
              "      <td>...</td>\n",
              "      <td>...</td>\n",
              "      <td>...</td>\n",
              "      <td>...</td>\n",
              "      <td>...</td>\n",
              "      <td>...</td>\n",
              "      <td>...</td>\n",
              "      <td>...</td>\n",
              "      <td>...</td>\n",
              "    </tr>\n",
              "    <tr>\n",
              "      <th>361</th>\n",
              "      <td>2</td>\n",
              "      <td>1</td>\n",
              "      <td>1</td>\n",
              "      <td>0</td>\n",
              "      <td>1</td>\n",
              "      <td>0</td>\n",
              "      <td>0</td>\n",
              "      <td>0</td>\n",
              "      <td>0</td>\n",
              "      <td>0</td>\n",
              "      <td>...</td>\n",
              "      <td>0</td>\n",
              "      <td>0</td>\n",
              "      <td>1</td>\n",
              "      <td>0</td>\n",
              "      <td>0</td>\n",
              "      <td>0</td>\n",
              "      <td>2</td>\n",
              "      <td>0</td>\n",
              "      <td>25.0</td>\n",
              "      <td>4</td>\n",
              "    </tr>\n",
              "    <tr>\n",
              "      <th>362</th>\n",
              "      <td>3</td>\n",
              "      <td>2</td>\n",
              "      <td>1</td>\n",
              "      <td>0</td>\n",
              "      <td>1</td>\n",
              "      <td>0</td>\n",
              "      <td>0</td>\n",
              "      <td>0</td>\n",
              "      <td>0</td>\n",
              "      <td>0</td>\n",
              "      <td>...</td>\n",
              "      <td>1</td>\n",
              "      <td>0</td>\n",
              "      <td>1</td>\n",
              "      <td>0</td>\n",
              "      <td>0</td>\n",
              "      <td>0</td>\n",
              "      <td>2</td>\n",
              "      <td>0</td>\n",
              "      <td>36.0</td>\n",
              "      <td>4</td>\n",
              "    </tr>\n",
              "    <tr>\n",
              "      <th>363</th>\n",
              "      <td>3</td>\n",
              "      <td>2</td>\n",
              "      <td>2</td>\n",
              "      <td>2</td>\n",
              "      <td>3</td>\n",
              "      <td>2</td>\n",
              "      <td>0</td>\n",
              "      <td>2</td>\n",
              "      <td>0</td>\n",
              "      <td>0</td>\n",
              "      <td>...</td>\n",
              "      <td>0</td>\n",
              "      <td>3</td>\n",
              "      <td>0</td>\n",
              "      <td>3</td>\n",
              "      <td>0</td>\n",
              "      <td>0</td>\n",
              "      <td>2</td>\n",
              "      <td>3</td>\n",
              "      <td>28.0</td>\n",
              "      <td>3</td>\n",
              "    </tr>\n",
              "    <tr>\n",
              "      <th>364</th>\n",
              "      <td>2</td>\n",
              "      <td>1</td>\n",
              "      <td>3</td>\n",
              "      <td>1</td>\n",
              "      <td>2</td>\n",
              "      <td>3</td>\n",
              "      <td>0</td>\n",
              "      <td>2</td>\n",
              "      <td>0</td>\n",
              "      <td>0</td>\n",
              "      <td>...</td>\n",
              "      <td>0</td>\n",
              "      <td>2</td>\n",
              "      <td>0</td>\n",
              "      <td>1</td>\n",
              "      <td>0</td>\n",
              "      <td>0</td>\n",
              "      <td>2</td>\n",
              "      <td>3</td>\n",
              "      <td>50.0</td>\n",
              "      <td>3</td>\n",
              "    </tr>\n",
              "    <tr>\n",
              "      <th>365</th>\n",
              "      <td>3</td>\n",
              "      <td>2</td>\n",
              "      <td>2</td>\n",
              "      <td>0</td>\n",
              "      <td>0</td>\n",
              "      <td>0</td>\n",
              "      <td>0</td>\n",
              "      <td>0</td>\n",
              "      <td>3</td>\n",
              "      <td>3</td>\n",
              "      <td>...</td>\n",
              "      <td>2</td>\n",
              "      <td>0</td>\n",
              "      <td>0</td>\n",
              "      <td>0</td>\n",
              "      <td>0</td>\n",
              "      <td>0</td>\n",
              "      <td>3</td>\n",
              "      <td>0</td>\n",
              "      <td>35.0</td>\n",
              "      <td>1</td>\n",
              "    </tr>\n",
              "  </tbody>\n",
              "</table>\n",
              "<p>366 rows × 35 columns</p>\n",
              "</div>\n",
              "      <button class=\"colab-df-convert\" onclick=\"convertToInteractive('df-a32678c5-155d-4939-87bd-2e2327cd8c25')\"\n",
              "              title=\"Convert this dataframe to an interactive table.\"\n",
              "              style=\"display:none;\">\n",
              "        \n",
              "  <svg xmlns=\"http://www.w3.org/2000/svg\" height=\"24px\"viewBox=\"0 0 24 24\"\n",
              "       width=\"24px\">\n",
              "    <path d=\"M0 0h24v24H0V0z\" fill=\"none\"/>\n",
              "    <path d=\"M18.56 5.44l.94 2.06.94-2.06 2.06-.94-2.06-.94-.94-2.06-.94 2.06-2.06.94zm-11 1L8.5 8.5l.94-2.06 2.06-.94-2.06-.94L8.5 2.5l-.94 2.06-2.06.94zm10 10l.94 2.06.94-2.06 2.06-.94-2.06-.94-.94-2.06-.94 2.06-2.06.94z\"/><path d=\"M17.41 7.96l-1.37-1.37c-.4-.4-.92-.59-1.43-.59-.52 0-1.04.2-1.43.59L10.3 9.45l-7.72 7.72c-.78.78-.78 2.05 0 2.83L4 21.41c.39.39.9.59 1.41.59.51 0 1.02-.2 1.41-.59l7.78-7.78 2.81-2.81c.8-.78.8-2.07 0-2.86zM5.41 20L4 18.59l7.72-7.72 1.47 1.35L5.41 20z\"/>\n",
              "  </svg>\n",
              "      </button>\n",
              "      \n",
              "  <style>\n",
              "    .colab-df-container {\n",
              "      display:flex;\n",
              "      flex-wrap:wrap;\n",
              "      gap: 12px;\n",
              "    }\n",
              "\n",
              "    .colab-df-convert {\n",
              "      background-color: #E8F0FE;\n",
              "      border: none;\n",
              "      border-radius: 50%;\n",
              "      cursor: pointer;\n",
              "      display: none;\n",
              "      fill: #1967D2;\n",
              "      height: 32px;\n",
              "      padding: 0 0 0 0;\n",
              "      width: 32px;\n",
              "    }\n",
              "\n",
              "    .colab-df-convert:hover {\n",
              "      background-color: #E2EBFA;\n",
              "      box-shadow: 0px 1px 2px rgba(60, 64, 67, 0.3), 0px 1px 3px 1px rgba(60, 64, 67, 0.15);\n",
              "      fill: #174EA6;\n",
              "    }\n",
              "\n",
              "    [theme=dark] .colab-df-convert {\n",
              "      background-color: #3B4455;\n",
              "      fill: #D2E3FC;\n",
              "    }\n",
              "\n",
              "    [theme=dark] .colab-df-convert:hover {\n",
              "      background-color: #434B5C;\n",
              "      box-shadow: 0px 1px 3px 1px rgba(0, 0, 0, 0.15);\n",
              "      filter: drop-shadow(0px 1px 2px rgba(0, 0, 0, 0.3));\n",
              "      fill: #FFFFFF;\n",
              "    }\n",
              "  </style>\n",
              "\n",
              "      <script>\n",
              "        const buttonEl =\n",
              "          document.querySelector('#df-a32678c5-155d-4939-87bd-2e2327cd8c25 button.colab-df-convert');\n",
              "        buttonEl.style.display =\n",
              "          google.colab.kernel.accessAllowed ? 'block' : 'none';\n",
              "\n",
              "        async function convertToInteractive(key) {\n",
              "          const element = document.querySelector('#df-a32678c5-155d-4939-87bd-2e2327cd8c25');\n",
              "          const dataTable =\n",
              "            await google.colab.kernel.invokeFunction('convertToInteractive',\n",
              "                                                     [key], {});\n",
              "          if (!dataTable) return;\n",
              "\n",
              "          const docLinkHtml = 'Like what you see? Visit the ' +\n",
              "            '<a target=\"_blank\" href=https://colab.research.google.com/notebooks/data_table.ipynb>data table notebook</a>'\n",
              "            + ' to learn more about interactive tables.';\n",
              "          element.innerHTML = '';\n",
              "          dataTable['output_type'] = 'display_data';\n",
              "          await google.colab.output.renderOutput(dataTable, element);\n",
              "          const docLink = document.createElement('div');\n",
              "          docLink.innerHTML = docLinkHtml;\n",
              "          element.appendChild(docLink);\n",
              "        }\n",
              "      </script>\n",
              "    </div>\n",
              "  </div>\n",
              "  "
            ]
          },
          "metadata": {},
          "execution_count": 10
        }
      ]
    },
    {
      "cell_type": "markdown",
      "source": [
        "Plot the distribution of disease vs. age in order to understand the relationship between the two (use the same format as shown below). Is age a good indicator of disease? Fully explain your answer.\n"
      ],
      "metadata": {
        "id": "BzqIbmymfaGi"
      }
    },
    {
      "cell_type": "code",
      "source": [
        "#plotting boxplot\n",
        "import seaborn as sns\n",
        "sns.boxplot(x = dermetologyDF['disease'],\n",
        "            y = dermetologyDF['age'])"
      ],
      "metadata": {
        "colab": {
          "base_uri": "https://localhost:8080/",
          "height": 297
        },
        "id": "7aRg2UcLfXJg",
        "outputId": "83fc065d-a33c-4900-8afd-98186a9bd3cf"
      },
      "execution_count": null,
      "outputs": [
        {
          "output_type": "execute_result",
          "data": {
            "text/plain": [
              "<matplotlib.axes._subplots.AxesSubplot at 0x7fc529a70210>"
            ]
          },
          "metadata": {},
          "execution_count": 11
        },
        {
          "output_type": "display_data",
          "data": {
            "text/plain": [
              "<Figure size 432x288 with 1 Axes>"
            ],
            "image/png": "[encoded data removed]"
          },
          "metadata": {
            "needs_background": "light"
          }
        }
      ]
    },
    {
      "cell_type": "markdown",
      "source": [
        "\n",
        "\n",
        "> From the above Box Plot\n",
        "*   1: psoriasis disease data is distributed between age 0 to 75\n",
        "*   2: seborrheic dermatitis data is distributed between age 10 to 70\n",
        "*   3: lichen planus data is distributed between age 16 to 65\n",
        "*   4: pityriasis rosea data is distributed between age 12 to 70\n",
        "*   5: cronic dermatitis data is distributed between age 8 to 70\n",
        "*   6: pityriasis rubra pilaris data is distributed between age 7 to 22\n",
        "\n",
        "Hence from the data above we can say that age is not a good indicator of disease cause all the listed diseases are spread among all the ages."
      ],
      "metadata": {
        "id": "yQ-FGCmagLep"
      }
    },
    {
      "cell_type": "code",
      "source": [
        "#shape of the data frame\n",
        "dermetologyDF.shape"
      ],
      "metadata": {
        "colab": {
          "base_uri": "https://localhost:8080/"
        },
        "id": "gdRHtJJWuGe_",
        "outputId": "bc514d50-341b-4f5a-c3bf-1c816fe9a168"
      },
      "execution_count": null,
      "outputs": [
        {
          "output_type": "execute_result",
          "data": {
            "text/plain": [
              "(366, 35)"
            ]
          },
          "metadata": {},
          "execution_count": 12
        }
      ]
    },
    {
      "cell_type": "code",
      "source": [
        "# Get the list of all column names from headers\n",
        "column_headers = list(dermetologyDF.columns.values)\n",
        "print(\"The Column Header :\", column_headers)"
      ],
      "metadata": {
        "colab": {
          "base_uri": "https://localhost:8080/"
        },
        "id": "jNoOoMSHs1as",
        "outputId": "1a41cdf3-ee39-43ad-b244-353083c8346c"
      },
      "execution_count": null,
      "outputs": [
        {
          "output_type": "stream",
          "name": "stdout",
          "text": [
            "The Column Header : ['erythema', 'scaling', 'definite_borders', 'itching', 'koebner_phenomenon', 'polygonal_papules', 'follicular_papules', 'oral_mucosal_involvement', 'knee_and_elbow_involvement', 'scalp_involvement', 'family_history', 'melanin_incontinence', 'eosinophils_in_the_infiltrate', 'pnl_infiltrate', 'fibrosis_of_the_papillary_dermis', 'exocytosis', 'acanthosis', 'hyperkeratosis', 'parakeratosis', 'clubbing_of_the_rete_ridges', 'elongation_of_the_rete_ridges', 'thinning_of_the_suprapapillary_epidermis', 'spongiform_pustule', 'munro_microabcess', 'focal_hypergranulosis', 'disappearance_of_the_granular_layer', 'vacuolisation_and_damage_of_basal_layer', 'spongiosis', 'saw_tooth_appearance_of_retes', 'follicular_horn_plug', 'perifollicular_parakeratosis', 'inflammatory_monoluclear_inflitrate', 'band_like_infiltrate', 'age', 'disease']\n"
          ]
        }
      ]
    },
    {
      "cell_type": "markdown",
      "source": [
        "Use contingency tables to determine which ordinal attributes have the most leverage on disease. Plot the obtained results."
      ],
      "metadata": {
        "id": "LRJen-D41Vwt"
      }
    },
    {
      "cell_type": "code",
      "source": [
        "# Cross tabulation of erythema and disease\n",
        "e_crosstab = pd.crosstab(dermetologyDF.erythema, dermetologyDF.disease)\n",
        "# display cross tabulation\n",
        "print(e_crosstab)\n",
        "\n",
        "# Cross tabulation of scaling and disease\n",
        "s_crosstab = pd.crosstab(dermetologyDF.scaling, dermetologyDF.disease)\n",
        "# display cross tabulation\n",
        "print(s_crosstab)\n",
        "\n",
        "# Cross tabulation of definite_borders and disease\n",
        "d_crosstab = pd.crosstab(dermetologyDF.definite_borders, dermetologyDF.disease)\n",
        "# display cross tabulation\n",
        "print(d_crosstab)\n",
        "\n",
        "# Cross tabulation of itching and disease\n",
        "i_crosstab = pd.crosstab(dermetologyDF.itching, dermetologyDF.disease)\n",
        "# display cross tabulation\n",
        "print(i_crosstab)\n",
        "\n",
        "# Cross tabulation of koebner_phenomenon and disease\n",
        "k_crosstab = pd.crosstab(dermetologyDF.koebner_phenomenon, dermetologyDF.disease)\n",
        "# display cross tabulation\n",
        "print(k_crosstab)\n",
        "\n",
        "# Cross tabulation of polygonal_papules and disease\n",
        "p_crosstab = pd.crosstab(dermetologyDF.polygonal_papules, dermetologyDF.disease)\n",
        "# display cross tabulation\n",
        "print(p_crosstab)\n",
        "\n",
        "# Cross tabulation of follicular_papules and disease\n",
        "f_crosstab = pd.crosstab(dermetologyDF.follicular_papules, dermetologyDF.disease)\n",
        "# display cross tabulation\n",
        "print(f_crosstab)\n",
        "\n",
        "# Cross tabulation of oral_mucosal_involvement and disease\n",
        "o_crosstab = pd.crosstab(dermetologyDF.oral_mucosal_involvement, dermetologyDF.disease)\n",
        "# display cross tabulation\n",
        "print(o_crosstab)\n",
        "\n",
        "# Cross tabulation of knee_and_elbow_involvement and disease\n",
        "ke_crosstab = pd.crosstab(dermetologyDF.knee_and_elbow_involvement, dermetologyDF.disease)\n",
        "# display cross tabulation\n",
        "print(ke_crosstab)\n",
        "\n",
        "# Cross tabulation of scalp_involvement and disease\n",
        "si_crosstab = pd.crosstab(dermetologyDF.scalp_involvement, dermetologyDF.disease)\n",
        "# display cross tabulation\n",
        "print(si_crosstab)\n",
        "\n",
        "# Cross tabulation of family_history and disease\n",
        "fh_crosstab = pd.crosstab(dermetologyDF.family_history, dermetologyDF.disease)\n",
        "# display cross tabulation\n",
        "print(fh_crosstab)\n",
        "\n",
        "# Cross tabulation of melanin_incontinence and disease\n",
        "mi_crosstab = pd.crosstab(dermetologyDF.melanin_incontinence, dermetologyDF.disease)\n",
        "# display cross tabulation\n",
        "print(mi_crosstab)\n",
        "\n",
        "# Cross tabulation of eosinophils_in_the_infiltrate and disease\n",
        "ei_crosstab = pd.crosstab(dermetologyDF.eosinophils_in_the_infiltrate, dermetologyDF.disease)\n",
        "# display cross tabulation\n",
        "print(ei_crosstab)\n",
        "\n",
        "# Cross tabulation of pnl_infiltrate and disease\n",
        "pi_crosstab = pd.crosstab(dermetologyDF.pnl_infiltrate, dermetologyDF.disease)\n",
        "# display cross tabulation\n",
        "print(pi_crosstab)\n",
        "\n",
        "# Cross tabulation of fibrosis_of_the_papillary_dermis and disease\n",
        "fp_crosstab = pd.crosstab(dermetologyDF.fibrosis_of_the_papillary_dermis, dermetologyDF.disease)\n",
        "# display cross tabulation\n",
        "print(fp_crosstab)\n",
        "\n",
        "# Cross tabulation of exocytosis and disease\n",
        "ex_crosstab = pd.crosstab(dermetologyDF.exocytosis, dermetologyDF.disease)\n",
        "# display cross tabulation\n",
        "print(ex_crosstab)\n",
        "\n",
        "# Cross tabulation of acanthosis and disease\n",
        "ac_crosstab = pd.crosstab(dermetologyDF.acanthosis, dermetologyDF.disease)\n",
        "# display cross tabulation\n",
        "print(ac_crosstab)\n",
        "\n",
        "# Cross tabulation of hyperkeratosis and disease\n",
        "hy_crosstab = pd.crosstab(dermetologyDF.hyperkeratosis, dermetologyDF.disease)\n",
        "# display cross tabulation\n",
        "print(hy_crosstab)\n",
        "\n",
        "# Cross tabulation of parakeratosis and disease\n",
        "pk_crosstab = pd.crosstab(dermetologyDF.parakeratosis, dermetologyDF.disease)\n",
        "# display cross tabulation\n",
        "print(pk_crosstab)\n",
        "\n",
        "# Cross tabulation of clubbing_of_the_rete_ridges and disease\n",
        "cr_crosstab = pd.crosstab(dermetologyDF.clubbing_of_the_rete_ridges, dermetologyDF.disease)\n",
        "# display cross tabulation\n",
        "print(cr_crosstab)\n",
        "\n",
        "# Cross tabulation of elongation_of_the_rete_ridges and disease\n",
        "er_crosstab = pd.crosstab(dermetologyDF.elongation_of_the_rete_ridges, dermetologyDF.disease)\n",
        "# display cross tabulation\n",
        "print(er_crosstab)\n",
        "\n",
        "# Cross tabulation of thinning_of_the_suprapapillary_epidermis and disease\n",
        "te_crosstab = pd.crosstab(dermetologyDF.thinning_of_the_suprapapillary_epidermis, dermetologyDF.disease)\n",
        "# display cross tabulation\n",
        "print(te_crosstab)\n",
        "\n",
        "# Cross tabulation of spongiform_pustule and disease\n",
        "sp_crosstab = pd.crosstab(dermetologyDF.spongiform_pustule, dermetologyDF.disease)\n",
        "# display cross tabulation\n",
        "print(sp_crosstab)\n",
        "\n",
        "# Cross tabulation of munro_microabcess and disease\n",
        "mm_crosstab = pd.crosstab(dermetologyDF.munro_microabcess, dermetologyDF.disease)\n",
        "# display cross tabulation\n",
        "print(mm_crosstab)\n",
        "\n",
        "# Cross tabulation of focal_hypergranulosis and disease\n",
        "fh_crosstab = pd.crosstab(dermetologyDF.focal_hypergranulosis, dermetologyDF.disease)\n",
        "# display cross tabulation\n",
        "print(fh_crosstab)\n",
        "\n",
        "# Cross tabulation of disappearance_of_the_granular_layer and disease\n",
        "dg_crosstab = pd.crosstab(dermetologyDF.disappearance_of_the_granular_layer, dermetologyDF.disease)\n",
        "# display cross tabulation\n",
        "print(dg_crosstab)\n",
        "\n",
        "# Cross tabulation of vacuolisation_and_damage_of_basal_layer and disease\n",
        "vb_crosstab = pd.crosstab(dermetologyDF.vacuolisation_and_damage_of_basal_layer, dermetologyDF.disease)\n",
        "# display cross tabulation\n",
        "print(vb_crosstab)\n",
        "\n",
        "# Cross tabulation of spongiosis and disease\n",
        "so_crosstab = pd.crosstab(dermetologyDF.spongiosis, dermetologyDF.disease)\n",
        "# display cross tabulation\n",
        "print(so_crosstab)\n",
        "\n",
        "# Cross tabulation of saw_tooth_appearance_of_retes and disease\n",
        "st_crosstab = pd.crosstab(dermetologyDF.saw_tooth_appearance_of_retes, dermetologyDF.disease)\n",
        "# display cross tabulation\n",
        "print(st_crosstab)\n",
        "\n",
        "# Cross tabulation of follicular_horn_plug and disease\n",
        "fp_crosstab = pd.crosstab(dermetologyDF.follicular_horn_plug, dermetologyDF.disease)\n",
        "# display cross tabulation\n",
        "print(fp_crosstab)\n",
        "\n",
        "# Cross tabulation of perifollicular_parakeratosis and disease\n",
        "pp_crosstab = pd.crosstab(dermetologyDF.perifollicular_parakeratosis, dermetologyDF.disease)\n",
        "# display cross tabulation\n",
        "print(pp_crosstab)\n",
        "\n",
        "# Cross tabulation of inflammatory_monoluclear_inflitrate and disease\n",
        "im_crosstab = pd.crosstab(dermetologyDF.inflammatory_monoluclear_inflitrate, dermetologyDF.disease)\n",
        "# display cross tabulation\n",
        "print(im_crosstab)\n",
        "\n",
        "# Cross tabulation of band_like_infiltrate and disease\n",
        "bi_crosstab = pd.crosstab(dermetologyDF.band_like_infiltrate, dermetologyDF.disease)\n",
        "# display cross tabulation\n",
        "print(bi_crosstab)"
      ],
      "metadata": {
        "colab": {
          "base_uri": "https://localhost:8080/"
        },
        "id": "GdXldxdWtPxG",
        "outputId": "0c8abde9-7603-49ba-b50b-c132a3620229"
      },
      "execution_count": null,
      "outputs": [
        {
          "output_type": "stream",
          "name": "stdout",
          "text": [
            "disease    1   2   3   4   5   6\n",
            "erythema                        \n",
            "0          1   0   1   0   2   0\n",
            "1          7   5   7  11  25   2\n",
            "2         63  34  49  32  22  15\n",
            "3         41  22  15   6   3   3\n",
            "disease   1   2   3   4   5   6\n",
            "scaling                        \n",
            "0         0   0   2   0   6   0\n",
            "1        13   7  28  24  34   5\n",
            "2        64  43  37  25  11  15\n",
            "3        35  11   5   0   1   0\n",
            "disease            1   2   3   4   5  6\n",
            "definite_borders                       \n",
            "0                  0  21   1   9  23  5\n",
            "1                 14  22  10  22  16  9\n",
            "2                 73  18  42  18  11  6\n",
            "3                 25   0  19   0   2  0\n",
            "disease   1   2   3   4   5   6\n",
            "itching                        \n",
            "0        55   9   2  33   8  11\n",
            "1        22  16   9  10   7   8\n",
            "2        21  25  28   5  20   1\n",
            "3        14  11  33   1  17   0\n",
            "disease              1   2   3   4   5   6\n",
            "koebner_phenomenon                        \n",
            "0                   63  60  20   9  52  20\n",
            "1                   27   0  18  25   0   0\n",
            "2                   18   1  23  12   0   0\n",
            "3                    4   0  11   3   0   0\n",
            "disease              1   2   3   4   5   6\n",
            "polygonal_papules                         \n",
            "0                  112  61   3  49  52  20\n",
            "1                    0   0   1   0   0   0\n",
            "2                    0   0  41   0   0   0\n",
            "3                    0   0  27   0   0   0\n",
            "disease               1   2   3   4   5   6\n",
            "follicular_papules                         \n",
            "0                   109  60  72  49  43   0\n",
            "1                     2   1   0   0   6   2\n",
            "2                     1   0   0   0   3  12\n",
            "3                     0   0   0   0   0   6\n",
            "disease                     1   2   3   4   5   6\n",
            "oral_mucosal_involvement                         \n",
            "0                         112  61   5  49  52  20\n",
            "1                           0   0   9   0   0   0\n",
            "2                           0   0  45   0   0   0\n",
            "3                           0   0  13   0   0   0\n",
            "disease                      1   2   3   4   5  6\n",
            "knee_and_elbow_involvement                       \n",
            "0                           23  57  71  49  50  1\n",
            "1                           15   4   0   0   2  7\n",
            "2                           54   0   1   0   0  9\n",
            "3                           20   0   0   0   0  3\n",
            "disease             1   2   3   4   5   6\n",
            "scalp_involvement                        \n",
            "0                  23  56  70  49  52  14\n",
            "1                  23   3   2   0   0   2\n",
            "2                  50   2   0   0   0   4\n",
            "3                  16   0   0   0   0   0\n",
            "disease          1   2   3   4   5   6\n",
            "family_history                        \n",
            "0               80  58  71  49  52  10\n",
            "1               32   3   1   0   0  10\n",
            "disease                 1   2   3   4   5   6\n",
            "melanin_incontinence                         \n",
            "0                     112  61   2  49  52  20\n",
            "1                       0   0   8   0   0   0\n",
            "2                       0   0  46   0   0   0\n",
            "3                       0   0  16   0   0   0\n",
            "disease                          1   2   3   4   5   6\n",
            "eosinophils_in_the_infiltrate                         \n",
            "0                              109  39  62  46  48  20\n",
            "1                                2  16   8   3   4   0\n",
            "2                                1   6   2   0   0   0\n",
            "disease          1   2   3   4   5   6\n",
            "pnl_infiltrate                        \n",
            "0               34  17  72  43  52  17\n",
            "1               37  23   0   6   0   3\n",
            "2               35  20   0   0   0   0\n",
            "3                6   1   0   0   0   0\n",
            "disease                             1   2   3   4   5   6\n",
            "fibrosis_of_the_papillary_dermis                         \n",
            "0                                 112  61  70  49   0  20\n",
            "1                                   0   0   0   0   8   0\n",
            "2                                   0   0   2   0  21   0\n",
            "3                                   0   0   0   0  23   0\n",
            "disease      1   2   3   4   5  6\n",
            "exocytosis                       \n",
            "0           93   1   1   1  20  2\n",
            "1            8   7   6   8  20  8\n",
            "2           11  32  38  28  12  8\n",
            "3            0  21  27  12   0  2\n",
            "disease      1   2   3   4   5   6\n",
            "acanthosis                        \n",
            "0            1   4   1   4   0   0\n",
            "1           14  14   9  19   7   8\n",
            "2           70  35  43  26  25  11\n",
            "3           27   8  19   0  20   1\n",
            "disease          1   2   3   4   5   6\n",
            "hyperkeratosis                        \n",
            "0               53  50  54  37  27   6\n",
            "1               30  10  15   9  14  12\n",
            "2               25   0   3   3  11   2\n",
            "3                4   1   0   0   0   0\n",
            "disease         1   2   3   4   5   6\n",
            "parakeratosis                        \n",
            "0               1  24  15  17  27   2\n",
            "1              20  17  32  27  11  11\n",
            "2              69  17  20   5  14   7\n",
            "3              22   3   5   0   0   0\n",
            "disease                       1   2   3   4   5   6\n",
            "clubbing_of_the_rete_ridges                        \n",
            "0                             3  61  72  49  49  18\n",
            "1                            15   0   0   0   2   2\n",
            "2                            60   0   0   0   1   0\n",
            "3                            34   0   0   0   0   0\n",
            "disease                         1   2   3   4   5   6\n",
            "elongation_of_the_rete_ridges                        \n",
            "0                               0  54  72  49   5  18\n",
            "1                              11   4   0   0   6   2\n",
            "2                              61   3   0   0  31   0\n",
            "3                              40   0   0   0  10   0\n",
            "disease                                    1   2   3   4   5   6\n",
            "thinning_of_the_suprapapillary_epidermis                        \n",
            "0                                          4  60  72  49  51  20\n",
            "1                                         17   1   0   0   1   0\n",
            "2                                         60   0   0   0   0   0\n",
            "3                                         31   0   0   0   0   0\n",
            "disease              1   2   3   4   5   6\n",
            "spongiform_pustule                        \n",
            "0                   52  53  72  49  51  19\n",
            "1                   30   6   0   0   1   1\n",
            "2                   24   2   0   0   0   0\n",
            "3                    6   0   0   0   0   0\n",
            "disease             1   2   3   4   5   6\n",
            "munro_microabcess                        \n",
            "0                  34  61  71  48  52  20\n",
            "1                  36   0   0   1   0   0\n",
            "2                  33   0   0   0   0   0\n",
            "3                   9   0   1   0   0   0\n",
            "disease                  1   2   3   4   5   6\n",
            "focal_hypergranulosis                         \n",
            "0                      112  61   2  49  52  19\n",
            "1                        0   0  12   0   0   1\n",
            "2                        0   0  43   0   0   0\n",
            "3                        0   0  15   0   0   0\n",
            "disease                               1   2   3   4   5   6\n",
            "disappearance_of_the_granular_layer                        \n",
            "0                                    46  61  63  31  52  20\n",
            "1                                    12   0   1  17   0   0\n",
            "2                                    40   0   8   1   0   0\n",
            "3                                    14   0   0   0   0   0\n",
            "disease                                    1   2   3   4   5   6\n",
            "vacuolisation_and_damage_of_basal_layer                         \n",
            "0                                        111  61   1  49  52  20\n",
            "1                                          1   0   2   0   0   0\n",
            "2                                          0   0  43   0   0   0\n",
            "3                                          0   0  26   0   0   0\n",
            "disease       1   2   3   4   5  6\n",
            "spongiosis                        \n",
            "0           112   4  35   2  40  6\n",
            "1             0   2   6   7   7  6\n",
            "2             0  35  20  31   4  6\n",
            "3             0  20  11   9   1  2\n",
            "disease                          1   2   3   4   5   6\n",
            "saw_tooth_appearance_of_retes                         \n",
            "0                              112  61   1  48  52  20\n",
            "1                                0   0   4   1   0   0\n",
            "2                                0   0  40   0   0   0\n",
            "3                                0   0  27   0   0   0\n",
            "disease                 1   2   3   4   5  6\n",
            "follicular_horn_plug                        \n",
            "0                     112  60  71  49  51  1\n",
            "1                       0   1   1   0   1  7\n",
            "2                       0   0   0   0   0  8\n",
            "3                       0   0   0   0   0  4\n",
            "disease                         1   2   3   4   5   6\n",
            "perifollicular_parakeratosis                         \n",
            "0                             112  60  72  49  52   0\n",
            "1                               0   1   0   0   0   3\n",
            "2                               0   0   0   0   0  13\n",
            "3                               0   0   0   0   0   4\n",
            "disease                               1   2   3   4   5   6\n",
            "inflammatory_monoluclear_inflitrate                        \n",
            "0                                     5   4   1   1   1   1\n",
            "1                                    22  23   3  13  17   7\n",
            "2                                    68  27  45  31  24  11\n",
            "3                                    17   7  23   4  10   1\n",
            "disease                 1   2   3   4   5   6\n",
            "band_like_infiltrate                         \n",
            "0                     110  60   0  49  51  19\n",
            "1                       1   0   0   0   1   1\n",
            "2                       1   1  20   0   0   0\n",
            "3                       0   0  52   0   0   0\n"
          ]
        }
      ]
    },
    {
      "cell_type": "markdown",
      "source": [
        "Ploting the Contingency tables with disease using barplot."
      ],
      "metadata": {
        "id": "fT6kb7GD1gng"
      }
    },
    {
      "cell_type": "code",
      "source": [
        "# Creating barplot \n",
        "# x label rotation\n",
        "barplot = e_crosstab.plot.bar(rot=25)\n",
        "barplot = s_crosstab.plot.bar(rot=25)\n",
        "barplot = d_crosstab.plot.bar(rot=25)\n",
        "barplot = i_crosstab.plot.bar(rot=25)\n",
        "barplot = k_crosstab.plot.bar(rot=25)\n",
        "barplot = p_crosstab.plot.bar(rot=25)\n",
        "barplot = f_crosstab.plot.bar(rot=25)\n",
        "barplot = o_crosstab.plot.bar(rot=25)\n",
        "barplot = ke_crosstab.plot.bar(rot=25)\n",
        "barplot = si_crosstab.plot.bar(rot=25)\n",
        "barplot = fh_crosstab.plot.bar(rot=25)\n",
        "barplot = mi_crosstab.plot.bar(rot=25)\n",
        "barplot = ei_crosstab.plot.bar(rot=25)\n",
        "barplot = pi_crosstab.plot.bar(rot=25)\n",
        "barplot = fp_crosstab.plot.bar(rot=25)\n",
        "barplot = ex_crosstab.plot.bar(rot=25)\n",
        "barplot = ac_crosstab.plot.bar(rot=25)\n",
        "barplot = hy_crosstab.plot.bar(rot=25)\n",
        "barplot = pk_crosstab.plot.bar(rot=25)\n",
        "barplot = cr_crosstab.plot.bar(rot=25)\n",
        "barplot = er_crosstab.plot.bar(rot=25)\n",
        "barplot = te_crosstab.plot.bar(rot=25)\n",
        "barplot = sp_crosstab.plot.bar(rot=25)\n",
        "barplot = mm_crosstab.plot.bar(rot=25)\n",
        "barplot = fh_crosstab.plot.bar(rot=25)\n",
        "barplot = dg_crosstab.plot.bar(rot=25)\n",
        "barplot = vb_crosstab.plot.bar(rot=25)\n",
        "barplot = so_crosstab.plot.bar(rot=25)\n",
        "\n",
        "barplot = st_crosstab.plot.bar(rot=25)\n",
        "barplot = fp_crosstab.plot.bar(rot=25)\n",
        "barplot = pp_crosstab.plot.bar(rot=25)\n",
        "barplot = im_crosstab.plot.bar(rot=25)\n",
        "barplot = bi_crosstab.plot.bar(rot=25)\n"
      ],
      "metadata": {
        "colab": {
          "base_uri": "https://localhost:8080/",
          "height": 1000
        },
        "id": "IB0rGQlhtbOd",
        "outputId": "b9b9a604-82e6-422f-912f-d6ef0fd7f104"
      },
      "execution_count": null,
      "outputs": [
        {
          "output_type": "stream",
          "name": "stderr",
          "text": [
            "/usr/local/lib/python3.7/dist-packages/pandas/plotting/_matplotlib/core.py:345: RuntimeWarning: More than 20 figures have been opened. Figures created through the pyplot interface (`matplotlib.pyplot.figure`) are retained until explicitly closed and may consume too much memory. (To control this warning, see the rcParam `figure.max_open_warning`).\n",
            "  fig = self.plt.figure(figsize=self.figsize)\n"
          ]
        },
        {
          "output_type": "display_data",
          "data": {
            "text/plain": [
              "<Figure size 432x288 with 1 Axes>"
            ],
            "image/png": "[encoded data removed]"
          },
          "metadata": {
            "needs_background": "light"
          }
        },
        {
          "output_type": "display_data",
          "data": {
            "text/plain": [
              "<Figure size 432x288 with 1 Axes>"
            ],
            "image/png": "[encoded data removed]"
          },
          "metadata": {
            "needs_background": "light"
          }
        },
        {
          "output_type": "display_data",
          "data": {
            "text/plain": [
              "<Figure size 432x288 with 1 Axes>"
            ],
            "image/png": "[encoded data removed]"
          },
          "metadata": {
            "needs_background": "light"
          }
        },
        {
          "output_type": "display_data",
          "data": {
            "text/plain": [
              "<Figure size 432x288 with 1 Axes>"
            ],
            "image/png": "[encoded data removed]"
          },
          "metadata": {
            "needs_background": "light"
          }
        },
        {
          "output_type": "display_data",
          "data": {
            "text/plain": [
              "<Figure size 432x288 with 1 Axes>"
            ],
            "image/png": "[encoded data removed]"
          },
          "metadata": {
            "needs_background": "light"
          }
        },
        {
          "output_type": "display_data",
          "data": {
            "text/plain": [
              "<Figure size 432x288 with 1 Axes>"
            ],
            "image/png": "[encoded data removed]"
          },
          "metadata": {
            "needs_background": "light"
          }
        },
        {
          "output_type": "display_data",
          "data": {
            "text/plain": [
              "<Figure size 432x288 with 1 Axes>"
            ],
            "image/png": "[encoded data removed]"
          },
          "metadata": {
            "needs_background": "light"
          }
        },
        {
          "output_type": "display_data",
          "data": {
            "text/plain": [
              "<Figure size 432x288 with 1 Axes>"
            ],
            "image/png": "[encoded data removed]"
          },
          "metadata": {
            "needs_background": "light"
          }
        },
        {
          "output_type": "display_data",
          "data": {
            "text/plain": [
              "<Figure size 432x288 with 1 Axes>"
            ],
            "image/png": "[encoded data removed]"
          },
          "metadata": {
            "needs_background": "light"
          }
        },
        {
          "output_type": "display_data",
          "data": {
            "text/plain": [
              "<Figure size 432x288 with 1 Axes>"
            ],
            "image/png": "[encoded data removed]"
          },
          "metadata": {
            "needs_background": "light"
          }
        },
        {
          "output_type": "display_data",
          "data": {
            "text/plain": [
              "<Figure size 432x288 with 1 Axes>"
            ],
            "image/png": "[encoded data removed]"
          },
          "metadata": {
            "needs_background": "light"
          }
        },
        {
          "output_type": "display_data",
          "data": {
            "text/plain": [
              "<Figure size 432x288 with 1 Axes>"
            ],
            "image/png": "[encoded data removed]"
          },
          "metadata": {
            "needs_background": "light"
          }
        },
        {
          "output_type": "display_data",
          "data": {
            "text/plain": [
              "<Figure size 432x288 with 1 Axes>"
            ],
            "image/png": "[encoded data removed]"
          },
          "metadata": {
            "needs_background": "light"
          }
        },
        {
          "output_type": "display_data",
          "data": {
            "text/plain": [
              "<Figure size 432x288 with 1 Axes>"
            ],
            "image/png": "[encoded data removed]"
          },
          "metadata": {
            "needs_background": "light"
          }
        },
        {
          "output_type": "display_data",
          "data": {
            "text/plain": [
              "<Figure size 432x288 with 1 Axes>"
            ],
            "image/png": "[encoded data removed]"
          },
          "metadata": {
            "needs_background": "light"
          }
        },
        {
          "output_type": "display_data",
          "data": {
            "text/plain": [
              "<Figure size 432x288 with 1 Axes>"
            ],
            "image/png": "[encoded data removed]"
          },
          "metadata": {
            "needs_background": "light"
          }
        },
        {
          "output_type": "display_data",
          "data": {
            "text/plain": [
              "<Figure size 432x288 with 1 Axes>"
            ],
            "image/png": "[encoded data removed]"
          },
          "metadata": {
            "needs_background": "light"
          }
        },
        {
          "output_type": "display_data",
          "data": {
            "text/plain": [
              "<Figure size 432x288 with 1 Axes>"
            ],
            "image/png": "[encoded data removed]"
          },
          "metadata": {
            "needs_background": "light"
          }
        },
        {
          "output_type": "display_data",
          "data": {
            "text/plain": [
              "<Figure size 432x288 with 1 Axes>"
            ],
            "image/png": "[encoded data removed]"
          },
          "metadata": {
            "needs_background": "light"
          }
        },
        {
          "output_type": "display_data",
          "data": {
            "text/plain": [
              "<Figure size 432x288 with 1 Axes>"
            ],
            "image/png": "[encoded data removed]"
          },
          "metadata": {
            "needs_background": "light"
          }
        },
        {
          "output_type": "display_data",
          "data": {
            "text/plain": [
              "<Figure size 432x288 with 1 Axes>"
            ],
            "image/png": "[encoded data removed]"
          },
          "metadata": {
            "needs_background": "light"
          }
        },
        {
          "output_type": "display_data",
          "data": {
            "text/plain": [
              "<Figure size 432x288 with 1 Axes>"
            ],
            "image/png": "[encoded data removed]"
          },
          "metadata": {
            "needs_background": "light"
          }
        },
        {
          "output_type": "display_data",
          "data": {
            "text/plain": [
              "<Figure size 432x288 with 1 Axes>"
            ],
            "image/png": "[encoded data removed]"
          },
          "metadata": {
            "needs_background": "light"
          }
        },
        {
          "output_type": "display_data",
          "data": {
            "text/plain": [
              "<Figure size 432x288 with 1 Axes>"
            ],
            "image/png": "[encoded data removed]"
          },
          "metadata": {
            "needs_background": "light"
          }
        },
        {
          "output_type": "display_data",
          "data": {
            "text/plain": [
              "<Figure size 432x288 with 1 Axes>"
            ],
            "image/png": "[encoded data removed]"
          },
          "metadata": {
            "needs_background": "light"
          }
        },
        {
          "output_type": "display_data",
          "data": {
            "text/plain": [
              "<Figure size 432x288 with 1 Axes>"
            ],
            "image/png": "[encoded data removed]"
          },
          "metadata": {
            "needs_background": "light"
          }
        },
        {
          "output_type": "display_data",
          "data": {
            "text/plain": [
              "<Figure size 432x288 with 1 Axes>"
            ],
            "image/png": "[encoded data removed]"
          },
          "metadata": {
            "needs_background": "light"
          }
        },
        {
          "output_type": "display_data",
          "data": {
            "text/plain": [
              "<Figure size 432x288 with 1 Axes>"
            ],
            "image/png": "[encoded data removed]"
          },
          "metadata": {
            "needs_background": "light"
          }
        },
        {
          "output_type": "display_data",
          "data": {
            "text/plain": [
              "<Figure size 432x288 with 1 Axes>"
            ],
            "image/png": "[encoded data removed]"
          },
          "metadata": {
            "needs_background": "light"
          }
        },
        {
          "output_type": "display_data",
          "data": {
            "text/plain": [
              "<Figure size 432x288 with 1 Axes>"
            ],
            "image/png": "[encoded data removed]"
          },
          "metadata": {
            "needs_background": "light"
          }
        },
        {
          "output_type": "display_data",
          "data": {
            "text/plain": [
              "<Figure size 432x288 with 1 Axes>"
            ],
            "image/png": "[encoded data removed]"
          },
          "metadata": {
            "needs_background": "light"
          }
        },
        {
          "output_type": "display_data",
          "data": {
            "text/plain": [
              "<Figure size 432x288 with 1 Axes>"
            ],
            "image/png": "[encoded data removed]"
          },
          "metadata": {
            "needs_background": "light"
          }
        },
        {
          "output_type": "display_data",
          "data": {
            "text/plain": [
              "<Figure size 432x288 with 1 Axes>"
            ],
            "image/png": "[encoded data removed]"
          },
          "metadata": {
            "needs_background": "light"
          }
        }
      ]
    },
    {
      "cell_type": "markdown",
      "source": [
        "Create a new column disease_1 by extracting only those records where the Disease=1 (psoriasis) , assigning “1” for those rows in the newly created  column, and marking “0” for the rest. "
      ],
      "metadata": {
        "id": "3TBhrkRn1nh-"
      }
    },
    {
      "cell_type": "code",
      "source": [
        "import numpy as np\n",
        "dermetologyDF[\"disease_1\"] = np.where(dermetologyDF[\"disease\"] == 1, 1, 0)\n",
        "dermetologyDF"
      ],
      "metadata": {
        "colab": {
          "base_uri": "https://localhost:8080/",
          "height": 487
        },
        "id": "J3LXfL4O1q9w",
        "outputId": "78702c18-0af9-4ce2-f6a9-ff67d4800ed2"
      },
      "execution_count": null,
      "outputs": [
        {
          "output_type": "execute_result",
          "data": {
            "text/plain": [
              "     erythema  scaling  definite_borders  itching  koebner_phenomenon  \\\n",
              "0           2        2                 0        3                   0   \n",
              "1           3        3                 3        2                   1   \n",
              "2           2        1                 2        3                   1   \n",
              "3           2        2                 2        0                   0   \n",
              "4           2        3                 2        2                   2   \n",
              "..        ...      ...               ...      ...                 ...   \n",
              "361         2        1                 1        0                   1   \n",
              "362         3        2                 1        0                   1   \n",
              "363         3        2                 2        2                   3   \n",
              "364         2        1                 3        1                   2   \n",
              "365         3        2                 2        0                   0   \n",
              "\n",
              "     polygonal_papules  follicular_papules  oral_mucosal_involvement  \\\n",
              "0                    0                   0                         0   \n",
              "1                    0                   0                         0   \n",
              "2                    3                   0                         3   \n",
              "3                    0                   0                         0   \n",
              "4                    2                   0                         2   \n",
              "..                 ...                 ...                       ...   \n",
              "361                  0                   0                         0   \n",
              "362                  0                   0                         0   \n",
              "363                  2                   0                         2   \n",
              "364                  3                   0                         2   \n",
              "365                  0                   0                         0   \n",
              "\n",
              "     knee_and_elbow_involvement  scalp_involvement  ...  \\\n",
              "0                             1                  0  ...   \n",
              "1                             1                  1  ...   \n",
              "2                             0                  0  ...   \n",
              "3                             3                  2  ...   \n",
              "4                             0                  0  ...   \n",
              "..                          ...                ...  ...   \n",
              "361                           0                  0  ...   \n",
              "362                           0                  0  ...   \n",
              "363                           0                  0  ...   \n",
              "364                           0                  0  ...   \n",
              "365                           3                  3  ...   \n",
              "\n",
              "     vacuolisation_and_damage_of_basal_layer  spongiosis  \\\n",
              "0                                          0           3   \n",
              "1                                          0           0   \n",
              "2                                          2           3   \n",
              "3                                          0           0   \n",
              "4                                          3           2   \n",
              "..                                       ...         ...   \n",
              "361                                        0           1   \n",
              "362                                        0           1   \n",
              "363                                        3           0   \n",
              "364                                        2           0   \n",
              "365                                        0           0   \n",
              "\n",
              "     saw_tooth_appearance_of_retes  follicular_horn_plug  \\\n",
              "0                                0                     0   \n",
              "1                                0                     0   \n",
              "2                                2                     0   \n",
              "3                                0                     0   \n",
              "4                                3                     0   \n",
              "..                             ...                   ...   \n",
              "361                              0                     0   \n",
              "362                              0                     0   \n",
              "363                              3                     0   \n",
              "364                              1                     0   \n",
              "365                              0                     0   \n",
              "\n",
              "     perifollicular_parakeratosis  inflammatory_monoluclear_inflitrate  \\\n",
              "0                               0                                    1   \n",
              "1                               0                                    1   \n",
              "2                               0                                    2   \n",
              "3                               0                                    3   \n",
              "4                               0                                    2   \n",
              "..                            ...                                  ...   \n",
              "361                             0                                    2   \n",
              "362                             0                                    2   \n",
              "363                             0                                    2   \n",
              "364                             0                                    2   \n",
              "365                             0                                    3   \n",
              "\n",
              "     band_like_infiltrate   age  disease  disease_1  \n",
              "0                       0  55.0        2          0  \n",
              "1                       0   8.0        1          1  \n",
              "2                       3  26.0        3          0  \n",
              "3                       0  40.0        1          1  \n",
              "4                       3  45.0        3          0  \n",
              "..                    ...   ...      ...        ...  \n",
              "361                     0  25.0        4          0  \n",
              "362                     0  36.0        4          0  \n",
              "363                     3  28.0        3          0  \n",
              "364                     3  50.0        3          0  \n",
              "365                     0  35.0        1          1  \n",
              "\n",
              "[366 rows x 36 columns]"
            ],
            "text/html": [
              "\n",
              "  <div id=\"df-f5d2f124-f81a-4fdf-8725-80abf704d470\">\n",
              "    <div class=\"colab-df-container\">\n",
              "      <div>\n",
              "<style scoped>\n",
              "    .dataframe tbody tr th:only-of-type {\n",
              "        vertical-align: middle;\n",
              "    }\n",
              "\n",
              "    .dataframe tbody tr th {\n",
              "        vertical-align: top;\n",
              "    }\n",
              "\n",
              "    .dataframe thead th {\n",
              "        text-align: right;\n",
              "    }\n",
              "</style>\n",
              "<table border=\"1\" class=\"dataframe\">\n",
              "  <thead>\n",
              "    <tr style=\"text-align: right;\">\n",
              "      <th></th>\n",
              "      <th>erythema</th>\n",
              "      <th>scaling</th>\n",
              "      <th>definite_borders</th>\n",
              "      <th>itching</th>\n",
              "      <th>koebner_phenomenon</th>\n",
              "      <th>polygonal_papules</th>\n",
              "      <th>follicular_papules</th>\n",
              "      <th>oral_mucosal_involvement</th>\n",
              "      <th>knee_and_elbow_involvement</th>\n",
              "      <th>scalp_involvement</th>\n",
              "      <th>...</th>\n",
              "      <th>vacuolisation_and_damage_of_basal_layer</th>\n",
              "      <th>spongiosis</th>\n",
              "      <th>saw_tooth_appearance_of_retes</th>\n",
              "      <th>follicular_horn_plug</th>\n",
              "      <th>perifollicular_parakeratosis</th>\n",
              "      <th>inflammatory_monoluclear_inflitrate</th>\n",
              "      <th>band_like_infiltrate</th>\n",
              "      <th>age</th>\n",
              "      <th>disease</th>\n",
              "      <th>disease_1</th>\n",
              "    </tr>\n",
              "  </thead>\n",
              "  <tbody>\n",
              "    <tr>\n",
              "      <th>0</th>\n",
              "      <td>2</td>\n",
              "      <td>2</td>\n",
              "      <td>0</td>\n",
              "      <td>3</td>\n",
              "      <td>0</td>\n",
              "      <td>0</td>\n",
              "      <td>0</td>\n",
              "      <td>0</td>\n",
              "      <td>1</td>\n",
              "      <td>0</td>\n",
              "      <td>...</td>\n",
              "      <td>0</td>\n",
              "      <td>3</td>\n",
              "      <td>0</td>\n",
              "      <td>0</td>\n",
              "      <td>0</td>\n",
              "      <td>1</td>\n",
              "      <td>0</td>\n",
              "      <td>55.0</td>\n",
              "      <td>2</td>\n",
              "      <td>0</td>\n",
              "    </tr>\n",
              "    <tr>\n",
              "      <th>1</th>\n",
              "      <td>3</td>\n",
              "      <td>3</td>\n",
              "      <td>3</td>\n",
              "      <td>2</td>\n",
              "      <td>1</td>\n",
              "      <td>0</td>\n",
              "      <td>0</td>\n",
              "      <td>0</td>\n",
              "      <td>1</td>\n",
              "      <td>1</td>\n",
              "      <td>...</td>\n",
              "      <td>0</td>\n",
              "      <td>0</td>\n",
              "      <td>0</td>\n",
              "      <td>0</td>\n",
              "      <td>0</td>\n",
              "      <td>1</td>\n",
              "      <td>0</td>\n",
              "      <td>8.0</td>\n",
              "      <td>1</td>\n",
              "      <td>1</td>\n",
              "    </tr>\n",
              "    <tr>\n",
              "      <th>2</th>\n",
              "      <td>2</td>\n",
              "      <td>1</td>\n",
              "      <td>2</td>\n",
              "      <td>3</td>\n",
              "      <td>1</td>\n",
              "      <td>3</td>\n",
              "      <td>0</td>\n",
              "      <td>3</td>\n",
              "      <td>0</td>\n",
              "      <td>0</td>\n",
              "      <td>...</td>\n",
              "      <td>2</td>\n",
              "      <td>3</td>\n",
              "      <td>2</td>\n",
              "      <td>0</td>\n",
              "      <td>0</td>\n",
              "      <td>2</td>\n",
              "      <td>3</td>\n",
              "      <td>26.0</td>\n",
              "      <td>3</td>\n",
              "      <td>0</td>\n",
              "    </tr>\n",
              "    <tr>\n",
              "      <th>3</th>\n",
              "      <td>2</td>\n",
              "      <td>2</td>\n",
              "      <td>2</td>\n",
              "      <td>0</td>\n",
              "      <td>0</td>\n",
              "      <td>0</td>\n",
              "      <td>0</td>\n",
              "      <td>0</td>\n",
              "      <td>3</td>\n",
              "      <td>2</td>\n",
              "      <td>...</td>\n",
              "      <td>0</td>\n",
              "      <td>0</td>\n",
              "      <td>0</td>\n",
              "      <td>0</td>\n",
              "      <td>0</td>\n",
              "      <td>3</td>\n",
              "      <td>0</td>\n",
              "      <td>40.0</td>\n",
              "      <td>1</td>\n",
              "      <td>1</td>\n",
              "    </tr>\n",
              "    <tr>\n",
              "      <th>4</th>\n",
              "      <td>2</td>\n",
              "      <td>3</td>\n",
              "      <td>2</td>\n",
              "      <td>2</td>\n",
              "      <td>2</td>\n",
              "      <td>2</td>\n",
              "      <td>0</td>\n",
              "      <td>2</td>\n",
              "      <td>0</td>\n",
              "      <td>0</td>\n",
              "      <td>...</td>\n",
              "      <td>3</td>\n",
              "      <td>2</td>\n",
              "      <td>3</td>\n",
              "      <td>0</td>\n",
              "      <td>0</td>\n",
              "      <td>2</td>\n",
              "      <td>3</td>\n",
              "      <td>45.0</td>\n",
              "      <td>3</td>\n",
              "      <td>0</td>\n",
              "    </tr>\n",
              "    <tr>\n",
              "      <th>...</th>\n",
              "      <td>...</td>\n",
              "      <td>...</td>\n",
              "      <td>...</td>\n",
              "      <td>...</td>\n",
              "      <td>...</td>\n",
              "      <td>...</td>\n",
              "      <td>...</td>\n",
              "      <td>...</td>\n",
              "      <td>...</td>\n",
              "      <td>...</td>\n",
              "      <td>...</td>\n",
              "      <td>...</td>\n",
              "      <td>...</td>\n",
              "      <td>...</td>\n",
              "      <td>...</td>\n",
              "      <td>...</td>\n",
              "      <td>...</td>\n",
              "      <td>...</td>\n",
              "      <td>...</td>\n",
              "      <td>...</td>\n",
              "      <td>...</td>\n",
              "    </tr>\n",
              "    <tr>\n",
              "      <th>361</th>\n",
              "      <td>2</td>\n",
              "      <td>1</td>\n",
              "      <td>1</td>\n",
              "      <td>0</td>\n",
              "      <td>1</td>\n",
              "      <td>0</td>\n",
              "      <td>0</td>\n",
              "      <td>0</td>\n",
              "      <td>0</td>\n",
              "      <td>0</td>\n",
              "      <td>...</td>\n",
              "      <td>0</td>\n",
              "      <td>1</td>\n",
              "      <td>0</td>\n",
              "      <td>0</td>\n",
              "      <td>0</td>\n",
              "      <td>2</td>\n",
              "      <td>0</td>\n",
              "      <td>25.0</td>\n",
              "      <td>4</td>\n",
              "      <td>0</td>\n",
              "    </tr>\n",
              "    <tr>\n",
              "      <th>362</th>\n",
              "      <td>3</td>\n",
              "      <td>2</td>\n",
              "      <td>1</td>\n",
              "      <td>0</td>\n",
              "      <td>1</td>\n",
              "      <td>0</td>\n",
              "      <td>0</td>\n",
              "      <td>0</td>\n",
              "      <td>0</td>\n",
              "      <td>0</td>\n",
              "      <td>...</td>\n",
              "      <td>0</td>\n",
              "      <td>1</td>\n",
              "      <td>0</td>\n",
              "      <td>0</td>\n",
              "      <td>0</td>\n",
              "      <td>2</td>\n",
              "      <td>0</td>\n",
              "      <td>36.0</td>\n",
              "      <td>4</td>\n",
              "      <td>0</td>\n",
              "    </tr>\n",
              "    <tr>\n",
              "      <th>363</th>\n",
              "      <td>3</td>\n",
              "      <td>2</td>\n",
              "      <td>2</td>\n",
              "      <td>2</td>\n",
              "      <td>3</td>\n",
              "      <td>2</td>\n",
              "      <td>0</td>\n",
              "      <td>2</td>\n",
              "      <td>0</td>\n",
              "      <td>0</td>\n",
              "      <td>...</td>\n",
              "      <td>3</td>\n",
              "      <td>0</td>\n",
              "      <td>3</td>\n",
              "      <td>0</td>\n",
              "      <td>0</td>\n",
              "      <td>2</td>\n",
              "      <td>3</td>\n",
              "      <td>28.0</td>\n",
              "      <td>3</td>\n",
              "      <td>0</td>\n",
              "    </tr>\n",
              "    <tr>\n",
              "      <th>364</th>\n",
              "      <td>2</td>\n",
              "      <td>1</td>\n",
              "      <td>3</td>\n",
              "      <td>1</td>\n",
              "      <td>2</td>\n",
              "      <td>3</td>\n",
              "      <td>0</td>\n",
              "      <td>2</td>\n",
              "      <td>0</td>\n",
              "      <td>0</td>\n",
              "      <td>...</td>\n",
              "      <td>2</td>\n",
              "      <td>0</td>\n",
              "      <td>1</td>\n",
              "      <td>0</td>\n",
              "      <td>0</td>\n",
              "      <td>2</td>\n",
              "      <td>3</td>\n",
              "      <td>50.0</td>\n",
              "      <td>3</td>\n",
              "      <td>0</td>\n",
              "    </tr>\n",
              "    <tr>\n",
              "      <th>365</th>\n",
              "      <td>3</td>\n",
              "      <td>2</td>\n",
              "      <td>2</td>\n",
              "      <td>0</td>\n",
              "      <td>0</td>\n",
              "      <td>0</td>\n",
              "      <td>0</td>\n",
              "      <td>0</td>\n",
              "      <td>3</td>\n",
              "      <td>3</td>\n",
              "      <td>...</td>\n",
              "      <td>0</td>\n",
              "      <td>0</td>\n",
              "      <td>0</td>\n",
              "      <td>0</td>\n",
              "      <td>0</td>\n",
              "      <td>3</td>\n",
              "      <td>0</td>\n",
              "      <td>35.0</td>\n",
              "      <td>1</td>\n",
              "      <td>1</td>\n",
              "    </tr>\n",
              "  </tbody>\n",
              "</table>\n",
              "<p>366 rows × 36 columns</p>\n",
              "</div>\n",
              "      <button class=\"colab-df-convert\" onclick=\"convertToInteractive('df-f5d2f124-f81a-4fdf-8725-80abf704d470')\"\n",
              "              title=\"Convert this dataframe to an interactive table.\"\n",
              "              style=\"display:none;\">\n",
              "        \n",
              "  <svg xmlns=\"http://www.w3.org/2000/svg\" height=\"24px\"viewBox=\"0 0 24 24\"\n",
              "       width=\"24px\">\n",
              "    <path d=\"M0 0h24v24H0V0z\" fill=\"none\"/>\n",
              "    <path d=\"M18.56 5.44l.94 2.06.94-2.06 2.06-.94-2.06-.94-.94-2.06-.94 2.06-2.06.94zm-11 1L8.5 8.5l.94-2.06 2.06-.94-2.06-.94L8.5 2.5l-.94 2.06-2.06.94zm10 10l.94 2.06.94-2.06 2.06-.94-2.06-.94-.94-2.06-.94 2.06-2.06.94z\"/><path d=\"M17.41 7.96l-1.37-1.37c-.4-.4-.92-.59-1.43-.59-.52 0-1.04.2-1.43.59L10.3 9.45l-7.72 7.72c-.78.78-.78 2.05 0 2.83L4 21.41c.39.39.9.59 1.41.59.51 0 1.02-.2 1.41-.59l7.78-7.78 2.81-2.81c.8-.78.8-2.07 0-2.86zM5.41 20L4 18.59l7.72-7.72 1.47 1.35L5.41 20z\"/>\n",
              "  </svg>\n",
              "      </button>\n",
              "      \n",
              "  <style>\n",
              "    .colab-df-container {\n",
              "      display:flex;\n",
              "      flex-wrap:wrap;\n",
              "      gap: 12px;\n",
              "    }\n",
              "\n",
              "    .colab-df-convert {\n",
              "      background-color: #E8F0FE;\n",
              "      border: none;\n",
              "      border-radius: 50%;\n",
              "      cursor: pointer;\n",
              "      display: none;\n",
              "      fill: #1967D2;\n",
              "      height: 32px;\n",
              "      padding: 0 0 0 0;\n",
              "      width: 32px;\n",
              "    }\n",
              "\n",
              "    .colab-df-convert:hover {\n",
              "      background-color: #E2EBFA;\n",
              "      box-shadow: 0px 1px 2px rgba(60, 64, 67, 0.3), 0px 1px 3px 1px rgba(60, 64, 67, 0.15);\n",
              "      fill: #174EA6;\n",
              "    }\n",
              "\n",
              "    [theme=dark] .colab-df-convert {\n",
              "      background-color: #3B4455;\n",
              "      fill: #D2E3FC;\n",
              "    }\n",
              "\n",
              "    [theme=dark] .colab-df-convert:hover {\n",
              "      background-color: #434B5C;\n",
              "      box-shadow: 0px 1px 3px 1px rgba(0, 0, 0, 0.15);\n",
              "      filter: drop-shadow(0px 1px 2px rgba(0, 0, 0, 0.3));\n",
              "      fill: #FFFFFF;\n",
              "    }\n",
              "  </style>\n",
              "\n",
              "      <script>\n",
              "        const buttonEl =\n",
              "          document.querySelector('#df-f5d2f124-f81a-4fdf-8725-80abf704d470 button.colab-df-convert');\n",
              "        buttonEl.style.display =\n",
              "          google.colab.kernel.accessAllowed ? 'block' : 'none';\n",
              "\n",
              "        async function convertToInteractive(key) {\n",
              "          const element = document.querySelector('#df-f5d2f124-f81a-4fdf-8725-80abf704d470');\n",
              "          const dataTable =\n",
              "            await google.colab.kernel.invokeFunction('convertToInteractive',\n",
              "                                                     [key], {});\n",
              "          if (!dataTable) return;\n",
              "\n",
              "          const docLinkHtml = 'Like what you see? Visit the ' +\n",
              "            '<a target=\"_blank\" href=https://colab.research.google.com/notebooks/data_table.ipynb>data table notebook</a>'\n",
              "            + ' to learn more about interactive tables.';\n",
              "          element.innerHTML = '';\n",
              "          dataTable['output_type'] = 'display_data';\n",
              "          await google.colab.output.renderOutput(dataTable, element);\n",
              "          const docLink = document.createElement('div');\n",
              "          docLink.innerHTML = docLinkHtml;\n",
              "          element.appendChild(docLink);\n",
              "        }\n",
              "      </script>\n",
              "    </div>\n",
              "  </div>\n",
              "  "
            ]
          },
          "metadata": {},
          "execution_count": 16
        }
      ]
    },
    {
      "cell_type": "markdown",
      "source": [
        "Create four models and evaluate each using 3-fold cross-validation:\n",
        "\n",
        "> A linear regression model for disease_1 vs. age even though disease_1 is a categoric variable. Plot the regression line, and compute the MSE and r-squared values for the model.\n",
        "\n",
        "> An NB classifier model for disease_1 vs. the top ranking (relevant) 5 attributes. Display the overall accuracy and the confusion matrix.\n",
        "\n",
        ">  A decision tree model (Gini or Entropy) for the entire feature space vs. the disease column. Display the relevant information about the generated tree, and print the confusion matrix.\n",
        "\n",
        ">  A random forest model for the entire feature space vs. the disease column. Display the relevant information about one of the generated trees, and print the confusion matrix. Plot the model's .feature_importances_ which is a measure of the accumulation of the impurity decrease within each tree."
      ],
      "metadata": {
        "id": "CaXFY7DPEyiS"
      }
    },
    {
      "cell_type": "markdown",
      "source": [
        "# Linear regression model"
      ],
      "metadata": {
        "id": "ZI5hbcu9joUb"
      }
    },
    {
      "cell_type": "code",
      "source": [
        "#plotting linear regression model\n",
        "import matplotlib.pyplot as plt\n",
        "from sklearn.linear_model import LinearRegression\n",
        "X = dermetologyDF.loc[:, 'disease_1'].values.reshape(-1,1)\n",
        "Y = dermetologyDF.loc[:, 'age'].values.reshape(-1,1)\n",
        "# Create the model\n",
        "LRmodel = LinearRegression()  \n",
        "# Perform linear regression\n",
        "LRmodel.fit(X, Y)   \n",
        "# Make predictions\n",
        "Y_pred = LRmodel.predict(X)  \n",
        "# Visualize the dataset and the regression line:\n",
        "plt.scatter(X, Y)\n",
        "plt.plot(X, Y_pred, color='red')\n",
        "plt.show()"
      ],
      "metadata": {
        "colab": {
          "base_uri": "https://localhost:8080/",
          "height": 265
        },
        "id": "svMd5QRjVU8l",
        "outputId": "426dd762-7183-4018-d026-3b63b8b1ed5e"
      },
      "execution_count": null,
      "outputs": [
        {
          "output_type": "display_data",
          "data": {
            "text/plain": [
              "<Figure size 432x288 with 1 Axes>"
            ],
            "image/png": "[encoded data removed]"
          },
          "metadata": {
            "needs_background": "light"
          }
        }
      ]
    },
    {
      "cell_type": "code",
      "source": [
        "# The equation of the line is:\n",
        "\n",
        "print(\"The slope: \", LRmodel.coef_)\n",
        "print(\"The intercept: \", LRmodel.intercept_)"
      ],
      "metadata": {
        "colab": {
          "base_uri": "https://localhost:8080/"
        },
        "id": "DslKOiUIXQgp",
        "outputId": "36d48166-0d51-437d-ef12-beb4e709fb0e"
      },
      "execution_count": null,
      "outputs": [
        {
          "output_type": "stream",
          "name": "stdout",
          "text": [
            "The slope:  [[4.42589989]]\n",
            "The intercept:  [34.91338583]\n"
          ]
        }
      ]
    },
    {
      "cell_type": "code",
      "source": [
        "tempDF = dermetologyDF.copy()\n",
        "\n",
        "tempDF['Predicted_Score'] = Y_pred\n",
        "\n",
        "tempDF"
      ],
      "metadata": {
        "colab": {
          "base_uri": "https://localhost:8080/",
          "height": 487
        },
        "id": "ZDAIPbMCXWgP",
        "outputId": "301c9dfb-53dd-4a1b-e935-d532095408ff"
      },
      "execution_count": null,
      "outputs": [
        {
          "output_type": "execute_result",
          "data": {
            "text/plain": [
              "     erythema  scaling  definite_borders  itching  koebner_phenomenon  \\\n",
              "0           2        2                 0        3                   0   \n",
              "1           3        3                 3        2                   1   \n",
              "2           2        1                 2        3                   1   \n",
              "3           2        2                 2        0                   0   \n",
              "4           2        3                 2        2                   2   \n",
              "..        ...      ...               ...      ...                 ...   \n",
              "361         2        1                 1        0                   1   \n",
              "362         3        2                 1        0                   1   \n",
              "363         3        2                 2        2                   3   \n",
              "364         2        1                 3        1                   2   \n",
              "365         3        2                 2        0                   0   \n",
              "\n",
              "     polygonal_papules  follicular_papules  oral_mucosal_involvement  \\\n",
              "0                    0                   0                         0   \n",
              "1                    0                   0                         0   \n",
              "2                    3                   0                         3   \n",
              "3                    0                   0                         0   \n",
              "4                    2                   0                         2   \n",
              "..                 ...                 ...                       ...   \n",
              "361                  0                   0                         0   \n",
              "362                  0                   0                         0   \n",
              "363                  2                   0                         2   \n",
              "364                  3                   0                         2   \n",
              "365                  0                   0                         0   \n",
              "\n",
              "     knee_and_elbow_involvement  scalp_involvement  ...  spongiosis  \\\n",
              "0                             1                  0  ...           3   \n",
              "1                             1                  1  ...           0   \n",
              "2                             0                  0  ...           3   \n",
              "3                             3                  2  ...           0   \n",
              "4                             0                  0  ...           2   \n",
              "..                          ...                ...  ...         ...   \n",
              "361                           0                  0  ...           1   \n",
              "362                           0                  0  ...           1   \n",
              "363                           0                  0  ...           0   \n",
              "364                           0                  0  ...           0   \n",
              "365                           3                  3  ...           0   \n",
              "\n",
              "     saw_tooth_appearance_of_retes  follicular_horn_plug  \\\n",
              "0                                0                     0   \n",
              "1                                0                     0   \n",
              "2                                2                     0   \n",
              "3                                0                     0   \n",
              "4                                3                     0   \n",
              "..                             ...                   ...   \n",
              "361                              0                     0   \n",
              "362                              0                     0   \n",
              "363                              3                     0   \n",
              "364                              1                     0   \n",
              "365                              0                     0   \n",
              "\n",
              "     perifollicular_parakeratosis  inflammatory_monoluclear_inflitrate  \\\n",
              "0                               0                                    1   \n",
              "1                               0                                    1   \n",
              "2                               0                                    2   \n",
              "3                               0                                    3   \n",
              "4                               0                                    2   \n",
              "..                            ...                                  ...   \n",
              "361                             0                                    2   \n",
              "362                             0                                    2   \n",
              "363                             0                                    2   \n",
              "364                             0                                    2   \n",
              "365                             0                                    3   \n",
              "\n",
              "     band_like_infiltrate   age  disease  disease_1  Predicted_Score  \n",
              "0                       0  55.0        2          0        34.913386  \n",
              "1                       0   8.0        1          1        39.339286  \n",
              "2                       3  26.0        3          0        34.913386  \n",
              "3                       0  40.0        1          1        39.339286  \n",
              "4                       3  45.0        3          0        34.913386  \n",
              "..                    ...   ...      ...        ...              ...  \n",
              "361                     0  25.0        4          0        34.913386  \n",
              "362                     0  36.0        4          0        34.913386  \n",
              "363                     3  28.0        3          0        34.913386  \n",
              "364                     3  50.0        3          0        34.913386  \n",
              "365                     0  35.0        1          1        39.339286  \n",
              "\n",
              "[366 rows x 37 columns]"
            ],
            "text/html": [
              "\n",
              "  <div id=\"df-a416bdbf-a87a-4d95-87f9-cb2d94c1fc5f\">\n",
              "    <div class=\"colab-df-container\">\n",
              "      <div>\n",
              "<style scoped>\n",
              "    .dataframe tbody tr th:only-of-type {\n",
              "        vertical-align: middle;\n",
              "    }\n",
              "\n",
              "    .dataframe tbody tr th {\n",
              "        vertical-align: top;\n",
              "    }\n",
              "\n",
              "    .dataframe thead th {\n",
              "        text-align: right;\n",
              "    }\n",
              "</style>\n",
              "<table border=\"1\" class=\"dataframe\">\n",
              "  <thead>\n",
              "    <tr style=\"text-align: right;\">\n",
              "      <th></th>\n",
              "      <th>erythema</th>\n",
              "      <th>scaling</th>\n",
              "      <th>definite_borders</th>\n",
              "      <th>itching</th>\n",
              "      <th>koebner_phenomenon</th>\n",
              "      <th>polygonal_papules</th>\n",
              "      <th>follicular_papules</th>\n",
              "      <th>oral_mucosal_involvement</th>\n",
              "      <th>knee_and_elbow_involvement</th>\n",
              "      <th>scalp_involvement</th>\n",
              "      <th>...</th>\n",
              "      <th>spongiosis</th>\n",
              "      <th>saw_tooth_appearance_of_retes</th>\n",
              "      <th>follicular_horn_plug</th>\n",
              "      <th>perifollicular_parakeratosis</th>\n",
              "      <th>inflammatory_monoluclear_inflitrate</th>\n",
              "      <th>band_like_infiltrate</th>\n",
              "      <th>age</th>\n",
              "      <th>disease</th>\n",
              "      <th>disease_1</th>\n",
              "      <th>Predicted_Score</th>\n",
              "    </tr>\n",
              "  </thead>\n",
              "  <tbody>\n",
              "    <tr>\n",
              "      <th>0</th>\n",
              "      <td>2</td>\n",
              "      <td>2</td>\n",
              "      <td>0</td>\n",
              "      <td>3</td>\n",
              "      <td>0</td>\n",
              "      <td>0</td>\n",
              "      <td>0</td>\n",
              "      <td>0</td>\n",
              "      <td>1</td>\n",
              "      <td>0</td>\n",
              "      <td>...</td>\n",
              "      <td>3</td>\n",
              "      <td>0</td>\n",
              "      <td>0</td>\n",
              "      <td>0</td>\n",
              "      <td>1</td>\n",
              "      <td>0</td>\n",
              "      <td>55.0</td>\n",
              "      <td>2</td>\n",
              "      <td>0</td>\n",
              "      <td>34.913386</td>\n",
              "    </tr>\n",
              "    <tr>\n",
              "      <th>1</th>\n",
              "      <td>3</td>\n",
              "      <td>3</td>\n",
              "      <td>3</td>\n",
              "      <td>2</td>\n",
              "      <td>1</td>\n",
              "      <td>0</td>\n",
              "      <td>0</td>\n",
              "      <td>0</td>\n",
              "      <td>1</td>\n",
              "      <td>1</td>\n",
              "      <td>...</td>\n",
              "      <td>0</td>\n",
              "      <td>0</td>\n",
              "      <td>0</td>\n",
              "      <td>0</td>\n",
              "      <td>1</td>\n",
              "      <td>0</td>\n",
              "      <td>8.0</td>\n",
              "      <td>1</td>\n",
              "      <td>1</td>\n",
              "      <td>39.339286</td>\n",
              "    </tr>\n",
              "    <tr>\n",
              "      <th>2</th>\n",
              "      <td>2</td>\n",
              "      <td>1</td>\n",
              "      <td>2</td>\n",
              "      <td>3</td>\n",
              "      <td>1</td>\n",
              "      <td>3</td>\n",
              "      <td>0</td>\n",
              "      <td>3</td>\n",
              "      <td>0</td>\n",
              "      <td>0</td>\n",
              "      <td>...</td>\n",
              "      <td>3</td>\n",
              "      <td>2</td>\n",
              "      <td>0</td>\n",
              "      <td>0</td>\n",
              "      <td>2</td>\n",
              "      <td>3</td>\n",
              "      <td>26.0</td>\n",
              "      <td>3</td>\n",
              "      <td>0</td>\n",
              "      <td>34.913386</td>\n",
              "    </tr>\n",
              "    <tr>\n",
              "      <th>3</th>\n",
              "      <td>2</td>\n",
              "      <td>2</td>\n",
              "      <td>2</td>\n",
              "      <td>0</td>\n",
              "      <td>0</td>\n",
              "      <td>0</td>\n",
              "      <td>0</td>\n",
              "      <td>0</td>\n",
              "      <td>3</td>\n",
              "      <td>2</td>\n",
              "      <td>...</td>\n",
              "      <td>0</td>\n",
              "      <td>0</td>\n",
              "      <td>0</td>\n",
              "      <td>0</td>\n",
              "      <td>3</td>\n",
              "      <td>0</td>\n",
              "      <td>40.0</td>\n",
              "      <td>1</td>\n",
              "      <td>1</td>\n",
              "      <td>39.339286</td>\n",
              "    </tr>\n",
              "    <tr>\n",
              "      <th>4</th>\n",
              "      <td>2</td>\n",
              "      <td>3</td>\n",
              "      <td>2</td>\n",
              "      <td>2</td>\n",
              "      <td>2</td>\n",
              "      <td>2</td>\n",
              "      <td>0</td>\n",
              "      <td>2</td>\n",
              "      <td>0</td>\n",
              "      <td>0</td>\n",
              "      <td>...</td>\n",
              "      <td>2</td>\n",
              "      <td>3</td>\n",
              "      <td>0</td>\n",
              "      <td>0</td>\n",
              "      <td>2</td>\n",
              "      <td>3</td>\n",
              "      <td>45.0</td>\n",
              "      <td>3</td>\n",
              "      <td>0</td>\n",
              "      <td>34.913386</td>\n",
              "    </tr>\n",
              "    <tr>\n",
              "      <th>...</th>\n",
              "      <td>...</td>\n",
              "      <td>...</td>\n",
              "      <td>...</td>\n",
              "      <td>...</td>\n",
              "      <td>...</td>\n",
              "      <td>...</td>\n",
              "      <td>...</td>\n",
              "      <td>...</td>\n",
              "      <td>...</td>\n",
              "      <td>...</td>\n",
              "      <td>...</td>\n",
              "      <td>...</td>\n",
              "      <td>...</td>\n",
              "      <td>...</td>\n",
              "      <td>...</td>\n",
              "      <td>...</td>\n",
              "      <td>...</td>\n",
              "      <td>...</td>\n",
              "      <td>...</td>\n",
              "      <td>...</td>\n",
              "      <td>...</td>\n",
              "    </tr>\n",
              "    <tr>\n",
              "      <th>361</th>\n",
              "      <td>2</td>\n",
              "      <td>1</td>\n",
              "      <td>1</td>\n",
              "      <td>0</td>\n",
              "      <td>1</td>\n",
              "      <td>0</td>\n",
              "      <td>0</td>\n",
              "      <td>0</td>\n",
              "      <td>0</td>\n",
              "      <td>0</td>\n",
              "      <td>...</td>\n",
              "      <td>1</td>\n",
              "      <td>0</td>\n",
              "      <td>0</td>\n",
              "      <td>0</td>\n",
              "      <td>2</td>\n",
              "      <td>0</td>\n",
              "      <td>25.0</td>\n",
              "      <td>4</td>\n",
              "      <td>0</td>\n",
              "      <td>34.913386</td>\n",
              "    </tr>\n",
              "    <tr>\n",
              "      <th>362</th>\n",
              "      <td>3</td>\n",
              "      <td>2</td>\n",
              "      <td>1</td>\n",
              "      <td>0</td>\n",
              "      <td>1</td>\n",
              "      <td>0</td>\n",
              "      <td>0</td>\n",
              "      <td>0</td>\n",
              "      <td>0</td>\n",
              "      <td>0</td>\n",
              "      <td>...</td>\n",
              "      <td>1</td>\n",
              "      <td>0</td>\n",
              "      <td>0</td>\n",
              "      <td>0</td>\n",
              "      <td>2</td>\n",
              "      <td>0</td>\n",
              "      <td>36.0</td>\n",
              "      <td>4</td>\n",
              "      <td>0</td>\n",
              "      <td>34.913386</td>\n",
              "    </tr>\n",
              "    <tr>\n",
              "      <th>363</th>\n",
              "      <td>3</td>\n",
              "      <td>2</td>\n",
              "      <td>2</td>\n",
              "      <td>2</td>\n",
              "      <td>3</td>\n",
              "      <td>2</td>\n",
              "      <td>0</td>\n",
              "      <td>2</td>\n",
              "      <td>0</td>\n",
              "      <td>0</td>\n",
              "      <td>...</td>\n",
              "      <td>0</td>\n",
              "      <td>3</td>\n",
              "      <td>0</td>\n",
              "      <td>0</td>\n",
              "      <td>2</td>\n",
              "      <td>3</td>\n",
              "      <td>28.0</td>\n",
              "      <td>3</td>\n",
              "      <td>0</td>\n",
              "      <td>34.913386</td>\n",
              "    </tr>\n",
              "    <tr>\n",
              "      <th>364</th>\n",
              "      <td>2</td>\n",
              "      <td>1</td>\n",
              "      <td>3</td>\n",
              "      <td>1</td>\n",
              "      <td>2</td>\n",
              "      <td>3</td>\n",
              "      <td>0</td>\n",
              "      <td>2</td>\n",
              "      <td>0</td>\n",
              "      <td>0</td>\n",
              "      <td>...</td>\n",
              "      <td>0</td>\n",
              "      <td>1</td>\n",
              "      <td>0</td>\n",
              "      <td>0</td>\n",
              "      <td>2</td>\n",
              "      <td>3</td>\n",
              "      <td>50.0</td>\n",
              "      <td>3</td>\n",
              "      <td>0</td>\n",
              "      <td>34.913386</td>\n",
              "    </tr>\n",
              "    <tr>\n",
              "      <th>365</th>\n",
              "      <td>3</td>\n",
              "      <td>2</td>\n",
              "      <td>2</td>\n",
              "      <td>0</td>\n",
              "      <td>0</td>\n",
              "      <td>0</td>\n",
              "      <td>0</td>\n",
              "      <td>0</td>\n",
              "      <td>3</td>\n",
              "      <td>3</td>\n",
              "      <td>...</td>\n",
              "      <td>0</td>\n",
              "      <td>0</td>\n",
              "      <td>0</td>\n",
              "      <td>0</td>\n",
              "      <td>3</td>\n",
              "      <td>0</td>\n",
              "      <td>35.0</td>\n",
              "      <td>1</td>\n",
              "      <td>1</td>\n",
              "      <td>39.339286</td>\n",
              "    </tr>\n",
              "  </tbody>\n",
              "</table>\n",
              "<p>366 rows × 37 columns</p>\n",
              "</div>\n",
              "      <button class=\"colab-df-convert\" onclick=\"convertToInteractive('df-a416bdbf-a87a-4d95-87f9-cb2d94c1fc5f')\"\n",
              "              title=\"Convert this dataframe to an interactive table.\"\n",
              "              style=\"display:none;\">\n",
              "        \n",
              "  <svg xmlns=\"http://www.w3.org/2000/svg\" height=\"24px\"viewBox=\"0 0 24 24\"\n",
              "       width=\"24px\">\n",
              "    <path d=\"M0 0h24v24H0V0z\" fill=\"none\"/>\n",
              "    <path d=\"M18.56 5.44l.94 2.06.94-2.06 2.06-.94-2.06-.94-.94-2.06-.94 2.06-2.06.94zm-11 1L8.5 8.5l.94-2.06 2.06-.94-2.06-.94L8.5 2.5l-.94 2.06-2.06.94zm10 10l.94 2.06.94-2.06 2.06-.94-2.06-.94-.94-2.06-.94 2.06-2.06.94z\"/><path d=\"M17.41 7.96l-1.37-1.37c-.4-.4-.92-.59-1.43-.59-.52 0-1.04.2-1.43.59L10.3 9.45l-7.72 7.72c-.78.78-.78 2.05 0 2.83L4 21.41c.39.39.9.59 1.41.59.51 0 1.02-.2 1.41-.59l7.78-7.78 2.81-2.81c.8-.78.8-2.07 0-2.86zM5.41 20L4 18.59l7.72-7.72 1.47 1.35L5.41 20z\"/>\n",
              "  </svg>\n",
              "      </button>\n",
              "      \n",
              "  <style>\n",
              "    .colab-df-container {\n",
              "      display:flex;\n",
              "      flex-wrap:wrap;\n",
              "      gap: 12px;\n",
              "    }\n",
              "\n",
              "    .colab-df-convert {\n",
              "      background-color: #E8F0FE;\n",
              "      border: none;\n",
              "      border-radius: 50%;\n",
              "      cursor: pointer;\n",
              "      display: none;\n",
              "      fill: #1967D2;\n",
              "      height: 32px;\n",
              "      padding: 0 0 0 0;\n",
              "      width: 32px;\n",
              "    }\n",
              "\n",
              "    .colab-df-convert:hover {\n",
              "      background-color: #E2EBFA;\n",
              "      box-shadow: 0px 1px 2px rgba(60, 64, 67, 0.3), 0px 1px 3px 1px rgba(60, 64, 67, 0.15);\n",
              "      fill: #174EA6;\n",
              "    }\n",
              "\n",
              "    [theme=dark] .colab-df-convert {\n",
              "      background-color: #3B4455;\n",
              "      fill: #D2E3FC;\n",
              "    }\n",
              "\n",
              "    [theme=dark] .colab-df-convert:hover {\n",
              "      background-color: #434B5C;\n",
              "      box-shadow: 0px 1px 3px 1px rgba(0, 0, 0, 0.15);\n",
              "      filter: drop-shadow(0px 1px 2px rgba(0, 0, 0, 0.3));\n",
              "      fill: #FFFFFF;\n",
              "    }\n",
              "  </style>\n",
              "\n",
              "      <script>\n",
              "        const buttonEl =\n",
              "          document.querySelector('#df-a416bdbf-a87a-4d95-87f9-cb2d94c1fc5f button.colab-df-convert');\n",
              "        buttonEl.style.display =\n",
              "          google.colab.kernel.accessAllowed ? 'block' : 'none';\n",
              "\n",
              "        async function convertToInteractive(key) {\n",
              "          const element = document.querySelector('#df-a416bdbf-a87a-4d95-87f9-cb2d94c1fc5f');\n",
              "          const dataTable =\n",
              "            await google.colab.kernel.invokeFunction('convertToInteractive',\n",
              "                                                     [key], {});\n",
              "          if (!dataTable) return;\n",
              "\n",
              "          const docLinkHtml = 'Like what you see? Visit the ' +\n",
              "            '<a target=\"_blank\" href=https://colab.research.google.com/notebooks/data_table.ipynb>data table notebook</a>'\n",
              "            + ' to learn more about interactive tables.';\n",
              "          element.innerHTML = '';\n",
              "          dataTable['output_type'] = 'display_data';\n",
              "          await google.colab.output.renderOutput(dataTable, element);\n",
              "          const docLink = document.createElement('div');\n",
              "          docLink.innerHTML = docLinkHtml;\n",
              "          element.appendChild(docLink);\n",
              "        }\n",
              "      </script>\n",
              "    </div>\n",
              "  </div>\n",
              "  "
            ]
          },
          "metadata": {},
          "execution_count": 19
        }
      ]
    },
    {
      "cell_type": "code",
      "source": [
        "# Error analysis\n",
        "from sklearn.metrics import mean_squared_error, r2_score\n",
        "\n",
        "print(\"MSE: \", mean_squared_error(Y, Y_pred))\n",
        "print(\"R2: \", r2_score(Y, Y_pred))"
      ],
      "metadata": {
        "colab": {
          "base_uri": "https://localhost:8080/"
        },
        "id": "e2L20tsIXczG",
        "outputId": "9a3e8020-1de2-4460-ba21-1b359cdc218e"
      },
      "execution_count": null,
      "outputs": [
        {
          "output_type": "stream",
          "name": "stdout",
          "text": [
            "MSE:  224.9431738553172\n",
            "R2:  0.01815773383567898\n"
          ]
        }
      ]
    },
    {
      "cell_type": "markdown",
      "source": [
        "The Mean squared error and R2 values are MSE:  224.9431738553172 and R2:  0.01815773383567898"
      ],
      "metadata": {
        "id": "IPTEmzhFj1bu"
      }
    },
    {
      "cell_type": "markdown",
      "source": [
        "#**NB classifier model**"
      ],
      "metadata": {
        "id": "RhR67FBLYS03"
      }
    },
    {
      "cell_type": "markdown",
      "source": [
        "**Create the NB Classifier**"
      ],
      "metadata": {
        "id": "I6XoLlj0kTcQ"
      }
    },
    {
      "cell_type": "code",
      "source": [
        "# Creating labelEncoder\n",
        "from sklearn import preprocessing\n",
        "le = preprocessing.LabelEncoder()\n",
        "\n",
        "# Converting string attributes into numbers\n",
        "erythema_encoded=le.fit_transform(dermetologyDF['erythema'])\n",
        "scaling_encoded=le.fit_transform(dermetologyDF['scaling'])\n",
        "definite_borders_encoded=le.fit_transform(dermetologyDF['definite_borders'])\n",
        "itching_encoded=le.fit_transform(dermetologyDF['itching'])\n",
        "koebner_phenomenon_encoded=le.fit_transform(dermetologyDF['koebner_phenomenon'])\n",
        "\n",
        "# convert the target now\n",
        "labels = le.fit_transform(dermetologyDF['disease_1'])\n",
        "\n",
        "\n",
        "# Combining all features\n",
        "features = list(zip(erythema_encoded, scaling_encoded, definite_borders_encoded, itching_encoded, koebner_phenomenon_encoded))\n",
        "\n",
        "print(dermetologyDF, \"\\n\", pd.DataFrame(features))\n",
        "\n",
        "print(\"\\n\\n\")\n",
        "\n",
        "print(labels)\n",
        "\n"
      ],
      "metadata": {
        "colab": {
          "base_uri": "https://localhost:8080/"
        },
        "id": "RS7s9-pdZJkM",
        "outputId": "5c641250-7f5e-42f6-f1c2-95cd70f8cda2"
      },
      "execution_count": null,
      "outputs": [
        {
          "output_type": "stream",
          "name": "stdout",
          "text": [
            "     erythema  scaling  definite_borders  itching  koebner_phenomenon  \\\n",
            "0           2        2                 0        3                   0   \n",
            "1           3        3                 3        2                   1   \n",
            "2           2        1                 2        3                   1   \n",
            "3           2        2                 2        0                   0   \n",
            "4           2        3                 2        2                   2   \n",
            "..        ...      ...               ...      ...                 ...   \n",
            "361         2        1                 1        0                   1   \n",
            "362         3        2                 1        0                   1   \n",
            "363         3        2                 2        2                   3   \n",
            "364         2        1                 3        1                   2   \n",
            "365         3        2                 2        0                   0   \n",
            "\n",
            "     polygonal_papules  follicular_papules  oral_mucosal_involvement  \\\n",
            "0                    0                   0                         0   \n",
            "1                    0                   0                         0   \n",
            "2                    3                   0                         3   \n",
            "3                    0                   0                         0   \n",
            "4                    2                   0                         2   \n",
            "..                 ...                 ...                       ...   \n",
            "361                  0                   0                         0   \n",
            "362                  0                   0                         0   \n",
            "363                  2                   0                         2   \n",
            "364                  3                   0                         2   \n",
            "365                  0                   0                         0   \n",
            "\n",
            "     knee_and_elbow_involvement  scalp_involvement  ...  \\\n",
            "0                             1                  0  ...   \n",
            "1                             1                  1  ...   \n",
            "2                             0                  0  ...   \n",
            "3                             3                  2  ...   \n",
            "4                             0                  0  ...   \n",
            "..                          ...                ...  ...   \n",
            "361                           0                  0  ...   \n",
            "362                           0                  0  ...   \n",
            "363                           0                  0  ...   \n",
            "364                           0                  0  ...   \n",
            "365                           3                  3  ...   \n",
            "\n",
            "     vacuolisation_and_damage_of_basal_layer  spongiosis  \\\n",
            "0                                          0           3   \n",
            "1                                          0           0   \n",
            "2                                          2           3   \n",
            "3                                          0           0   \n",
            "4                                          3           2   \n",
            "..                                       ...         ...   \n",
            "361                                        0           1   \n",
            "362                                        0           1   \n",
            "363                                        3           0   \n",
            "364                                        2           0   \n",
            "365                                        0           0   \n",
            "\n",
            "     saw_tooth_appearance_of_retes  follicular_horn_plug  \\\n",
            "0                                0                     0   \n",
            "1                                0                     0   \n",
            "2                                2                     0   \n",
            "3                                0                     0   \n",
            "4                                3                     0   \n",
            "..                             ...                   ...   \n",
            "361                              0                     0   \n",
            "362                              0                     0   \n",
            "363                              3                     0   \n",
            "364                              1                     0   \n",
            "365                              0                     0   \n",
            "\n",
            "     perifollicular_parakeratosis  inflammatory_monoluclear_inflitrate  \\\n",
            "0                               0                                    1   \n",
            "1                               0                                    1   \n",
            "2                               0                                    2   \n",
            "3                               0                                    3   \n",
            "4                               0                                    2   \n",
            "..                            ...                                  ...   \n",
            "361                             0                                    2   \n",
            "362                             0                                    2   \n",
            "363                             0                                    2   \n",
            "364                             0                                    2   \n",
            "365                             0                                    3   \n",
            "\n",
            "     band_like_infiltrate   age  disease  disease_1  \n",
            "0                       0  55.0        2          0  \n",
            "1                       0   8.0        1          1  \n",
            "2                       3  26.0        3          0  \n",
            "3                       0  40.0        1          1  \n",
            "4                       3  45.0        3          0  \n",
            "..                    ...   ...      ...        ...  \n",
            "361                     0  25.0        4          0  \n",
            "362                     0  36.0        4          0  \n",
            "363                     3  28.0        3          0  \n",
            "364                     3  50.0        3          0  \n",
            "365                     0  35.0        1          1  \n",
            "\n",
            "[366 rows x 36 columns] \n",
            "      0  1  2  3  4\n",
            "0    2  2  0  3  0\n",
            "1    3  3  3  2  1\n",
            "2    2  1  2  3  1\n",
            "3    2  2  2  0  0\n",
            "4    2  3  2  2  2\n",
            "..  .. .. .. .. ..\n",
            "361  2  1  1  0  1\n",
            "362  3  2  1  0  1\n",
            "363  3  2  2  2  3\n",
            "364  2  1  3  1  2\n",
            "365  3  2  2  0  0\n",
            "\n",
            "[366 rows x 5 columns]\n",
            "\n",
            "\n",
            "\n",
            "[0 1 0 1 0 0 0 0 0 0 1 0 0 1 0 0 0 1 0 0 0 0 0 0 0 1 0 0 0 0 1 0 1 1 0 0 0\n",
            " 0 0 1 0 0 1 0 0 0 0 0 0 0 0 0 1 1 0 1 0 0 0 0 0 1 0 1 0 0 1 0 0 1 0 0 0 0\n",
            " 0 0 0 1 0 0 1 0 0 0 0 1 1 0 1 0 0 0 0 1 0 0 0 0 1 0 0 0 1 0 0 1 0 1 0 1 1\n",
            " 0 0 0 0 0 0 0 0 1 0 0 0 1 1 0 0 0 0 0 1 1 0 0 0 1 0 0 0 1 0 1 1 0 0 0 0 0\n",
            " 0 0 0 1 1 1 0 0 0 0 0 0 0 0 0 0 0 1 1 0 0 0 0 1 1 1 0 1 1 0 0 0 1 1 1 1 0\n",
            " 0 0 0 0 1 0 0 0 1 1 0 0 0 0 0 0 0 0 0 0 1 1 1 1 1 1 1 0 0 0 0 0 0 0 0 0 0\n",
            " 0 0 0 0 0 0 0 0 0 0 0 1 1 1 1 1 1 0 0 1 1 1 1 1 1 1 1 0 0 0 0 0 0 0 0 0 0\n",
            " 0 0 0 0 0 0 0 0 0 0 0 0 0 1 1 1 1 1 0 0 0 0 0 1 1 0 0 0 0 0 0 0 1 1 1 1 0\n",
            " 0 0 0 0 0 0 0 0 1 1 0 0 0 1 1 1 0 0 0 0 0 1 1 1 1 0 0 1 1 0 0 0 0 1 1 0 0\n",
            " 0 0 1 1 0 0 0 1 0 0 0 0 0 0 0 0 0 1 1 1 0 0 1 1 1 1 0 0 0 0 0 0 1]\n"
          ]
        }
      ]
    },
    {
      "cell_type": "code",
      "source": [
        "# Generating the Gaussian Naive Bayes model\n",
        "from sklearn.naive_bayes import GaussianNB\n",
        "from sklearn.model_selection import train_test_split\n",
        "\n",
        "#Create a Gaussian Classifier\n",
        "NBmodel = GaussianNB()\n",
        "\n",
        "# Train the model using training set for approach #1\n",
        "# NBmodel.fit(features, labels) \n",
        "\n",
        "# Prepare input and output for learning\n",
        "X = dermetologyDF.iloc[:,0:5]\n",
        "y = dermetologyDF.iloc[:,35]\n",
        "\n",
        "# In order to have the same proportion of 0 and 1 classes in a dataset to train, use 'stratify'\n",
        "X_train, X_test, y_train, y_test = \\\n",
        "    train_test_split(X, y, random_state=42, shuffle=True, test_size=0.20, stratify=y)\n",
        "\n",
        "# Display the sets\n",
        "print(X_train)\n",
        "print(X_test)"
      ],
      "metadata": {
        "colab": {
          "base_uri": "https://localhost:8080/"
        },
        "id": "yfig0A_dYTjN",
        "outputId": "856fee72-0200-4bc6-af2e-028c3032e853"
      },
      "execution_count": null,
      "outputs": [
        {
          "output_type": "stream",
          "name": "stdout",
          "text": [
            "     erythema  scaling  definite_borders  itching  koebner_phenomenon\n",
            "282         3        3                 2        0                   0\n",
            "182         1        3                 1        0                   0\n",
            "132         3        2                 2        1                   3\n",
            "59          3        3                 0        3                   0\n",
            "281         2        2                 1        0                   0\n",
            "..        ...      ...               ...      ...                 ...\n",
            "33          2        2                 1        0                   0\n",
            "104         1        2                 2        1                   0\n",
            "358         2        3                 2        1                   0\n",
            "5           2        3                 2        0                   0\n",
            "195         2        2                 1        2                   0\n",
            "\n",
            "[292 rows x 5 columns]\n",
            "     erythema  scaling  definite_borders  itching  koebner_phenomenon\n",
            "72          1        1                 1        1                   1\n",
            "180         2        3                 2        0                   0\n",
            "214         3        2                 3        2                   2\n",
            "364         2        1                 3        1                   2\n",
            "163         2        2                 0        0                   0\n",
            "..        ...      ...               ...      ...                 ...\n",
            "145         2        2                 3        3                   1\n",
            "119         1        1                 1        1                   1\n",
            "350         1        2                 2        2                   0\n",
            "179         2        2                 2        2                   0\n",
            "265         1        1                 0        3                   0\n",
            "\n",
            "[74 rows x 5 columns]\n"
          ]
        }
      ]
    },
    {
      "cell_type": "code",
      "source": [
        "import matplotlib.pyplot as plt\n",
        "\n",
        "# Train the model \n",
        "NBmodel.fit(X_train, y_train)\n",
        "\n",
        "# Calculate model accuracy on both training and test data\n",
        "labels = [\"Training\", \"Test\"]\n",
        "scores = [NBmodel.score(X_train, y_train), NBmodel.score(X_test, y_test)]\n",
        "train_80 = NBmodel.score(X_train, y_train)\n",
        "test_20 = NBmodel.score(X_test, y_test)\n",
        "scores = [train_80 , test_20]\n",
        "print('train_80: ',scores[0])\n",
        "print('test_20: ',scores[1])\n",
        "# Plot the accuracy claues\n",
        "fig = plt.figure()\n",
        "ax = fig.add_axes([0,0,1,1])\n",
        "ax.set_title('Model Classification Accuary on Training vs. Test Data')\n",
        "ax.bar(labels, scores, color=\"orange\")\n",
        "ax.set_ylim(0, 1)\n",
        "plt.show()"
      ],
      "metadata": {
        "colab": {
          "base_uri": "https://localhost:8080/",
          "height": 387
        },
        "id": "xIsPF5xKZBh6",
        "outputId": "dfa0c032-5fa0-49d5-9cc4-e07bae84896b"
      },
      "execution_count": null,
      "outputs": [
        {
          "output_type": "stream",
          "name": "stdout",
          "text": [
            "train_80:  0.7328767123287672\n",
            "test_20:  0.7702702702702703\n"
          ]
        },
        {
          "output_type": "display_data",
          "data": {
            "text/plain": [
              "<Figure size 432x288 with 1 Axes>"
            ],
            "image/png": "[encoded data removed]"
          },
          "metadata": {
            "needs_background": "light"
          }
        }
      ]
    },
    {
      "cell_type": "code",
      "source": [
        "from sklearn.naive_bayes import MultinomialNB # or any other NB model\n",
        "from sklearn.metrics import accuracy_score\n",
        "from sklearn.metrics import confusion_matrix\n",
        "\n",
        "nb_classifier = MultinomialNB()\n",
        "\n",
        "nb_classifier.fit(X_train, y_train)\n",
        "\n",
        "y_pred = nb_classifier.predict(X_test)\n",
        "\n",
        "acc_score = accuracy_score(y_test, y_pred)\n",
        "conf_mat = confusion_matrix(\n",
        "        y_test, y_pred, labels = ['erythema', 'scaling', 'definite_borders', 'itching', 'koebner_phenomenon'])\n",
        "\n",
        "print(acc_score)\n",
        "print(conf_mat)"
      ],
      "metadata": {
        "colab": {
          "base_uri": "https://localhost:8080/",
          "height": 365
        },
        "id": "K0c6odcBc6RG",
        "outputId": "6eafc243-b49a-47a0-e096-6127f9c29b9e"
      },
      "execution_count": null,
      "outputs": [
        {
          "output_type": "error",
          "ename": "ValueError",
          "evalue": "ignored",
          "traceback": [
            "\u001b[0;31m---------------------------------------------------------------------------\u001b[0m",
            "\u001b[0;31mValueError\u001b[0m                                Traceback (most recent call last)",
            "\u001b[0;32m<ipython-input-30-ef1e74db0f04>\u001b[0m in \u001b[0;36m<module>\u001b[0;34m()\u001b[0m\n\u001b[1;32m     11\u001b[0m \u001b[0macc_score\u001b[0m \u001b[0;34m=\u001b[0m \u001b[0maccuracy_score\u001b[0m\u001b[0;34m(\u001b[0m\u001b[0my_test\u001b[0m\u001b[0;34m,\u001b[0m \u001b[0my_pred\u001b[0m\u001b[0;34m)\u001b[0m\u001b[0;34m\u001b[0m\u001b[0;34m\u001b[0m\u001b[0m\n\u001b[1;32m     12\u001b[0m conf_mat = confusion_matrix(\n\u001b[0;32m---> 13\u001b[0;31m         y_test, y_pred, labels = ['erythema', 'scaling', 'definite_borders', 'itching', 'koebner_phenomenon'])\n\u001b[0m\u001b[1;32m     14\u001b[0m \u001b[0;34m\u001b[0m\u001b[0m\n\u001b[1;32m     15\u001b[0m \u001b[0mprint\u001b[0m\u001b[0;34m(\u001b[0m\u001b[0macc_score\u001b[0m\u001b[0;34m)\u001b[0m\u001b[0;34m\u001b[0m\u001b[0;34m\u001b[0m\u001b[0m\n",
            "\u001b[0;32m/usr/local/lib/python3.7/dist-packages/sklearn/metrics/_classification.py\u001b[0m in \u001b[0;36mconfusion_matrix\u001b[0;34m(y_true, y_pred, labels, sample_weight, normalize)\u001b[0m\n\u001b[1;32m    319\u001b[0m             \u001b[0;32mreturn\u001b[0m \u001b[0mnp\u001b[0m\u001b[0;34m.\u001b[0m\u001b[0mzeros\u001b[0m\u001b[0;34m(\u001b[0m\u001b[0;34m(\u001b[0m\u001b[0mn_labels\u001b[0m\u001b[0;34m,\u001b[0m \u001b[0mn_labels\u001b[0m\u001b[0;34m)\u001b[0m\u001b[0;34m,\u001b[0m \u001b[0mdtype\u001b[0m\u001b[0;34m=\u001b[0m\u001b[0mint\u001b[0m\u001b[0;34m)\u001b[0m\u001b[0;34m\u001b[0m\u001b[0;34m\u001b[0m\u001b[0m\n\u001b[1;32m    320\u001b[0m         \u001b[0;32melif\u001b[0m \u001b[0mlen\u001b[0m\u001b[0;34m(\u001b[0m\u001b[0mnp\u001b[0m\u001b[0;34m.\u001b[0m\u001b[0mintersect1d\u001b[0m\u001b[0;34m(\u001b[0m\u001b[0my_true\u001b[0m\u001b[0;34m,\u001b[0m \u001b[0mlabels\u001b[0m\u001b[0;34m)\u001b[0m\u001b[0;34m)\u001b[0m \u001b[0;34m==\u001b[0m \u001b[0;36m0\u001b[0m\u001b[0;34m:\u001b[0m\u001b[0;34m\u001b[0m\u001b[0;34m\u001b[0m\u001b[0m\n\u001b[0;32m--> 321\u001b[0;31m             \u001b[0;32mraise\u001b[0m \u001b[0mValueError\u001b[0m\u001b[0;34m(\u001b[0m\u001b[0;34m\"At least one label specified must be in y_true\"\u001b[0m\u001b[0;34m)\u001b[0m\u001b[0;34m\u001b[0m\u001b[0;34m\u001b[0m\u001b[0m\n\u001b[0m\u001b[1;32m    322\u001b[0m \u001b[0;34m\u001b[0m\u001b[0m\n\u001b[1;32m    323\u001b[0m     \u001b[0;32mif\u001b[0m \u001b[0msample_weight\u001b[0m \u001b[0;32mis\u001b[0m \u001b[0;32mNone\u001b[0m\u001b[0;34m:\u001b[0m\u001b[0;34m\u001b[0m\u001b[0;34m\u001b[0m\u001b[0m\n",
            "\u001b[0;31mValueError\u001b[0m: At least one label specified must be in y_true"
          ]
        }
      ]
    },
    {
      "cell_type": "code",
      "source": [
        "from sklearn.tree import DecisionTreeClassifier\n",
        "from sklearn import tree"
      ],
      "metadata": {
        "id": "tQD3qRdd8t5b"
      },
      "execution_count": null,
      "outputs": []
    },
    {
      "cell_type": "code",
      "source": [
        "from sklearn.model_selection import train_test_split\n",
        "\n",
        "# Prepare X and y\n",
        "X = dermetologyDF.filter(['erythema', 'scaling', 'definite_borders', 'itching', 'koebner_phenomenon', 'polygonal_papules', 'follicular_papules', 'oral_mucosal_involvement', 'knee_and_elbow_involvement', 'scalp_involvement', 'family_history', 'melanin_incontinence', 'eosinophils_in_the_infiltrate', 'pnl_infiltrate', 'fibrosis_of_the_papillary_dermis', 'exocytosis', 'acanthosis', 'hyperkeratosis', 'parakeratosis', 'clubbing_of_the_rete_ridges', 'elongation_of_the_rete_ridges', 'thinning_of_the_suprapapillary_epidermis', 'spongiform_pustule', 'munro_microabcess', 'focal_hypergranulosis', 'disappearance_of_the_granular_layer', 'vacuolisation_and_damage_of_basal_layer', 'spongiosis', 'saw-tooth_appearance_of_retes', 'follicular_horn_plug', 'perifollicular_parakeratosis', 'inflammatory_monoluclear_inflitrate', 'band-like_infiltrate', 'age', 'disease_1'], axis=1)\n",
        "y = dermetologyDF['disease']\n",
        "\n",
        "\n",
        "# Let's do an 80-20 split\n",
        "X_train, X_test, y_train, y_test = \\\n",
        "    train_test_split(X, y, random_state=42, shuffle=True, train_size=0.80, stratify=y)"
      ],
      "metadata": {
        "id": "YcaFt1Ji9aSh"
      },
      "execution_count": null,
      "outputs": []
    },
    {
      "cell_type": "code",
      "source": [
        "print(\"Training size:\", X_train.shape)\n",
        "print(\"Test size:\", X_test.shape)"
      ],
      "metadata": {
        "id": "IT5Jy7rq9vJ6",
        "colab": {
          "base_uri": "https://localhost:8080/"
        },
        "outputId": "ca5a4e85-447d-4952-f40f-6a37cc4bfa3f"
      },
      "execution_count": null,
      "outputs": [
        {
          "output_type": "stream",
          "name": "stdout",
          "text": [
            "Training size: (292, 33)\n",
            "Test size: (74, 33)\n"
          ]
        }
      ]
    },
    {
      "cell_type": "code",
      "source": [
        "# Find out class distributions in training and test datasets.\n",
        "\n",
        "plt.figure(figsize=(10,5))\n",
        "plt.subplot(1,2,1)\n",
        "plt.hist(y_train);\n",
        "plt.title('Frequency of different classes - Training data');\n",
        "\n",
        "plt.subplot(1,2,2)\n",
        "plt.hist(y_test);\n",
        "plt.title('Frequency of different classes - Testing data');"
      ],
      "metadata": {
        "id": "P_sxpovS9yX6",
        "colab": {
          "base_uri": "https://localhost:8080/",
          "height": 336
        },
        "outputId": "7c2d4098-1592-4cbb-b1fc-13ab6046451e"
      },
      "execution_count": null,
      "outputs": [
        {
          "output_type": "display_data",
          "data": {
            "text/plain": [
              "<Figure size 720x360 with 2 Axes>"
            ],
            "image/png": "[encoded data removed]"
          },
          "metadata": {
            "needs_background": "light"
          }
        }
      ]
    },
    {
      "cell_type": "code",
      "source": [
        "# The CART tree; try different values for max_depth and max_leaf_nodes\n",
        "cart_classifier = DecisionTreeClassifier(criterion = \"gini\", \n",
        "                                         max_leaf_nodes=5,\n",
        "                                         random_state = 120).fit(X_train, y_train)\n",
        "\n",
        "# Control the figure size\n",
        "from matplotlib.pyplot import figure\n",
        "figure(figsize=(10, 8), dpi=80)\n",
        "\n",
        "\n",
        "# Plot the tree\n",
        "cn = ['low_income', 'hi_income']\n",
        "tree.plot_tree(X, feature_names=X.columns.values.tolist(), \n",
        "                                class_names=cn,\n",
        "                                filled = True)\n",
        "\n",
        "\n",
        "# Print the text version of the tree\n",
        "text_representation = tree.export_text(X, \n",
        "                                       feature_names=X.columns.values.tolist())\n",
        "print(text_representation)\n",
        "\n"
      ],
      "metadata": {
        "id": "Cw-xGiC_89Vb",
        "colab": {
          "base_uri": "https://localhost:8080/",
          "height": 1000
        },
        "outputId": "12de88d1-9447-4d12-d8a0-815cb3faa9df"
      },
      "execution_count": null,
      "outputs": [
        {
          "output_type": "error",
          "ename": "TypeError",
          "evalue": "ignored",
          "traceback": [
            "\u001b[0;31m---------------------------------------------------------------------------\u001b[0m",
            "\u001b[0;31mTypeError\u001b[0m                                 Traceback (most recent call last)",
            "\u001b[0;32m<ipython-input-31-0e015977482e>\u001b[0m in \u001b[0;36m<module>\u001b[0;34m()\u001b[0m\n\u001b[1;32m     13\u001b[0m tree.plot_tree(X, feature_names=X.columns.values.tolist(), \n\u001b[1;32m     14\u001b[0m                                 \u001b[0mclass_names\u001b[0m\u001b[0;34m=\u001b[0m\u001b[0mcn\u001b[0m\u001b[0;34m,\u001b[0m\u001b[0;34m\u001b[0m\u001b[0;34m\u001b[0m\u001b[0m\n\u001b[0;32m---> 15\u001b[0;31m                                 filled = True)\n\u001b[0m\u001b[1;32m     16\u001b[0m \u001b[0;34m\u001b[0m\u001b[0m\n\u001b[1;32m     17\u001b[0m \u001b[0;34m\u001b[0m\u001b[0m\n",
            "\u001b[0;32m/usr/local/lib/python3.7/dist-packages/sklearn/tree/_export.py\u001b[0m in \u001b[0;36mplot_tree\u001b[0;34m(decision_tree, max_depth, feature_names, class_names, label, filled, impurity, node_ids, proportion, rounded, precision, ax, fontsize)\u001b[0m\n\u001b[1;32m    178\u001b[0m     \"\"\"\n\u001b[1;32m    179\u001b[0m \u001b[0;34m\u001b[0m\u001b[0m\n\u001b[0;32m--> 180\u001b[0;31m     \u001b[0mcheck_is_fitted\u001b[0m\u001b[0;34m(\u001b[0m\u001b[0mdecision_tree\u001b[0m\u001b[0;34m)\u001b[0m\u001b[0;34m\u001b[0m\u001b[0;34m\u001b[0m\u001b[0m\n\u001b[0m\u001b[1;32m    181\u001b[0m \u001b[0;34m\u001b[0m\u001b[0m\n\u001b[1;32m    182\u001b[0m     exporter = _MPLTreeExporter(\n",
            "\u001b[0;32m/usr/local/lib/python3.7/dist-packages/sklearn/utils/validation.py\u001b[0m in \u001b[0;36mcheck_is_fitted\u001b[0;34m(estimator, attributes, msg, all_or_any)\u001b[0m\n\u001b[1;32m   1206\u001b[0m \u001b[0;34m\u001b[0m\u001b[0m\n\u001b[1;32m   1207\u001b[0m     \u001b[0;32mif\u001b[0m \u001b[0;32mnot\u001b[0m \u001b[0mhasattr\u001b[0m\u001b[0;34m(\u001b[0m\u001b[0mestimator\u001b[0m\u001b[0;34m,\u001b[0m \u001b[0;34m\"fit\"\u001b[0m\u001b[0;34m)\u001b[0m\u001b[0;34m:\u001b[0m\u001b[0;34m\u001b[0m\u001b[0;34m\u001b[0m\u001b[0m\n\u001b[0;32m-> 1208\u001b[0;31m         \u001b[0;32mraise\u001b[0m \u001b[0mTypeError\u001b[0m\u001b[0;34m(\u001b[0m\u001b[0;34m\"%s is not an estimator instance.\"\u001b[0m \u001b[0;34m%\u001b[0m \u001b[0;34m(\u001b[0m\u001b[0mestimator\u001b[0m\u001b[0;34m)\u001b[0m\u001b[0;34m)\u001b[0m\u001b[0;34m\u001b[0m\u001b[0;34m\u001b[0m\u001b[0m\n\u001b[0m\u001b[1;32m   1209\u001b[0m \u001b[0;34m\u001b[0m\u001b[0m\n\u001b[1;32m   1210\u001b[0m     \u001b[0;32mif\u001b[0m \u001b[0mattributes\u001b[0m \u001b[0;32mis\u001b[0m \u001b[0;32mnot\u001b[0m \u001b[0;32mNone\u001b[0m\u001b[0;34m:\u001b[0m\u001b[0;34m\u001b[0m\u001b[0;34m\u001b[0m\u001b[0m\n",
            "\u001b[0;31mTypeError\u001b[0m:      erythema  scaling  definite_borders  itching  koebner_phenomenon  \\\n0           2        2                 0        3                   0   \n1           3        3                 3        2                   1   \n2           2        1                 2        3                   1   \n3           2        2                 2        0                   0   \n4           2        3                 2        2                   2   \n..        ...      ...               ...      ...                 ...   \n361         2        1                 1        0                   1   \n362         3        2                 1        0                   1   \n363         3        2                 2        2                   3   \n364         2        1                 3        1                   2   \n365         3        2                 2        0                   0   \n\n     polygonal_papules  follicular_papules  oral_mucosal_involvement  \\\n0                    0                   0                         0   \n1                    0                   0                         0   \n2                    3                   0                         3   \n3                    0                   0                         0   \n4                    2                   0                         2   \n..                 ...                 ...                       ...   \n361                  0                   0                         0   \n362                  0                   0                         0   \n363                  2                   0                         2   \n364                  3                   0                         2   \n365                  0                   0                         0   \n\n     knee_and_elbow_involvement  scalp_involvement  ...  munro_microabcess  \\\n0                             1                  0  ...                  0   \n1                             1                  1  ...                  1   \n2                             0                  0  ...                  0   \n3                             3                  2  ...                  0   \n4                             0                  0  ...                  0   \n..                          ...                ...  ...                ...   \n361                           0                  0  ...                  0   \n362                           0                  0  ...                  0   \n363                           0                  0  ...                  0   \n364                           0                  0  ...                  0   \n365                           3                  3  ...                  2   \n\n     focal_hypergranulosis  disappearance_of_the_granular_layer  \\\n0                        0                                    0   \n1                        0                                    0   \n2                        2                                    0   \n3                        0                                    3   \n4                        2                                    2   \n..                     ...                                  ...   \n361                      0                                    0   \n362                      0                                    1   \n363                      3                                    0   \n364                      3                                    0   \n365                      0                                    2   \n\n     vacuolisation_and_damage_of_basal_layer  spongiosis  \\\n0                                          0           3   \n1                                          0           0   \n2                                          2           3   \n3                                          0           0   \n4                                          3           2   \n..                                       ...         ...   \n361                                        0           1   \n362                                        0           1   \n363                                        3           0   \n364                                        2           0   \n365                                        0           0   \n\n     follicular_horn_plug  perifollicular_parakeratosis  \\\n0                       0                             0   \n1                       0                             0   \n2                       0                             0   \n3                       0                             0   \n4                       0                             0   \n..                    ...                           ...   \n361                     0                             0   \n362                     0                             0   \n363                     0                             0   \n364                     0                             0   \n365                     0                             0   \n\n     inflammatory_monoluclear_inflitrate   age  disease_1  \n0                                      1  55.0          0  \n1                                      1   8.0          1  \n2                                      2  26.0          0  \n3                                      3  40.0          1  \n4                                      2  45.0          0  \n..                                   ...   ...        ...  \n361                                    2  25.0          0  \n362                                    2  36.0          0  \n363                                    2  28.0          0  \n364                                    2  50.0          0  \n365                                    3  35.0          1  \n\n[366 rows x 33 columns] is not an estimator instance."
          ]
        },
        {
          "output_type": "display_data",
          "data": {
            "text/plain": [
              "<Figure size 800x640 with 0 Axes>"
            ]
          },
          "metadata": {}
        }
      ]
    },
    {
      "cell_type": "code",
      "source": [
        "# The C5.0 tree; try different values for max_depth and max_leaf_nodes\n",
        "c5_classifier = DecisionTreeClassifier(criterion = \"entropy\", \n",
        "                                       max_leaf_nodes=5,\n",
        "                                       random_state = 120).fit(X_train,y_train)\n",
        "\n",
        "\n",
        "# Control the figure size\n",
        "from matplotlib.pyplot import figure\n",
        "figure(figsize=(12, 10), dpi=80)\n",
        "\n",
        "\n",
        "# Plot the tree\n",
        "cn = ['low_income', 'hi_income']\n",
        "tree.plot_tree(c5_classifier, feature_names=X.columns.values.tolist(), \n",
        "                                class_names=cn,\n",
        "                                filled=True)\n",
        "\n",
        "\n",
        "# Print the text version of the tree\n",
        "text_representation = tree.export_text(c5_classifier, \n",
        "                                       feature_names=X.columns.values.tolist())\n",
        "print(text_representation)\n",
        "\n",
        "\n",
        "\n"
      ],
      "metadata": {
        "id": "1M1JKxgk-brb",
        "colab": {
          "base_uri": "https://localhost:8080/",
          "height": 1000
        },
        "outputId": "9b35dfb2-c8ca-480a-d52e-f4094edbb513"
      },
      "execution_count": null,
      "outputs": [
        {
          "output_type": "error",
          "ename": "IndexError",
          "evalue": "ignored",
          "traceback": [
            "\u001b[0;31m---------------------------------------------------------------------------\u001b[0m",
            "\u001b[0;31mIndexError\u001b[0m                                Traceback (most recent call last)",
            "\u001b[0;32m<ipython-input-32-c7fb55a21f23>\u001b[0m in \u001b[0;36m<module>\u001b[0;34m()\u001b[0m\n\u001b[1;32m     14\u001b[0m tree.plot_tree(c5_classifier, feature_names=X.columns.values.tolist(), \n\u001b[1;32m     15\u001b[0m                                 \u001b[0mclass_names\u001b[0m\u001b[0;34m=\u001b[0m\u001b[0mcn\u001b[0m\u001b[0;34m,\u001b[0m\u001b[0;34m\u001b[0m\u001b[0;34m\u001b[0m\u001b[0m\n\u001b[0;32m---> 16\u001b[0;31m                                 filled=True)\n\u001b[0m\u001b[1;32m     17\u001b[0m \u001b[0;34m\u001b[0m\u001b[0m\n\u001b[1;32m     18\u001b[0m \u001b[0;34m\u001b[0m\u001b[0m\n",
            "\u001b[0;32m/usr/local/lib/python3.7/dist-packages/sklearn/tree/_export.py\u001b[0m in \u001b[0;36mplot_tree\u001b[0;34m(decision_tree, max_depth, feature_names, class_names, label, filled, impurity, node_ids, proportion, rounded, precision, ax, fontsize)\u001b[0m\n\u001b[1;32m    193\u001b[0m         \u001b[0mfontsize\u001b[0m\u001b[0;34m=\u001b[0m\u001b[0mfontsize\u001b[0m\u001b[0;34m,\u001b[0m\u001b[0;34m\u001b[0m\u001b[0;34m\u001b[0m\u001b[0m\n\u001b[1;32m    194\u001b[0m     )\n\u001b[0;32m--> 195\u001b[0;31m     \u001b[0;32mreturn\u001b[0m \u001b[0mexporter\u001b[0m\u001b[0;34m.\u001b[0m\u001b[0mexport\u001b[0m\u001b[0;34m(\u001b[0m\u001b[0mdecision_tree\u001b[0m\u001b[0;34m,\u001b[0m \u001b[0max\u001b[0m\u001b[0;34m=\u001b[0m\u001b[0max\u001b[0m\u001b[0;34m)\u001b[0m\u001b[0;34m\u001b[0m\u001b[0;34m\u001b[0m\u001b[0m\n\u001b[0m\u001b[1;32m    196\u001b[0m \u001b[0;34m\u001b[0m\u001b[0m\n\u001b[1;32m    197\u001b[0m \u001b[0;34m\u001b[0m\u001b[0m\n",
            "\u001b[0;32m/usr/local/lib/python3.7/dist-packages/sklearn/tree/_export.py\u001b[0m in \u001b[0;36mexport\u001b[0;34m(self, decision_tree, ax)\u001b[0m\n\u001b[1;32m    654\u001b[0m         \u001b[0max\u001b[0m\u001b[0;34m.\u001b[0m\u001b[0mclear\u001b[0m\u001b[0;34m(\u001b[0m\u001b[0;34m)\u001b[0m\u001b[0;34m\u001b[0m\u001b[0;34m\u001b[0m\u001b[0m\n\u001b[1;32m    655\u001b[0m         \u001b[0max\u001b[0m\u001b[0;34m.\u001b[0m\u001b[0mset_axis_off\u001b[0m\u001b[0;34m(\u001b[0m\u001b[0;34m)\u001b[0m\u001b[0;34m\u001b[0m\u001b[0;34m\u001b[0m\u001b[0m\n\u001b[0;32m--> 656\u001b[0;31m         \u001b[0mmy_tree\u001b[0m \u001b[0;34m=\u001b[0m \u001b[0mself\u001b[0m\u001b[0;34m.\u001b[0m\u001b[0m_make_tree\u001b[0m\u001b[0;34m(\u001b[0m\u001b[0;36m0\u001b[0m\u001b[0;34m,\u001b[0m \u001b[0mdecision_tree\u001b[0m\u001b[0;34m.\u001b[0m\u001b[0mtree_\u001b[0m\u001b[0;34m,\u001b[0m \u001b[0mdecision_tree\u001b[0m\u001b[0;34m.\u001b[0m\u001b[0mcriterion\u001b[0m\u001b[0;34m)\u001b[0m\u001b[0;34m\u001b[0m\u001b[0;34m\u001b[0m\u001b[0m\n\u001b[0m\u001b[1;32m    657\u001b[0m         \u001b[0mdraw_tree\u001b[0m \u001b[0;34m=\u001b[0m \u001b[0mbuchheim\u001b[0m\u001b[0;34m(\u001b[0m\u001b[0mmy_tree\u001b[0m\u001b[0;34m)\u001b[0m\u001b[0;34m\u001b[0m\u001b[0;34m\u001b[0m\u001b[0m\n\u001b[1;32m    658\u001b[0m \u001b[0;34m\u001b[0m\u001b[0m\n",
            "\u001b[0;32m/usr/local/lib/python3.7/dist-packages/sklearn/tree/_export.py\u001b[0m in \u001b[0;36m_make_tree\u001b[0;34m(self, node_id, et, criterion, depth)\u001b[0m\n\u001b[1;32m    636\u001b[0m             children = [\n\u001b[1;32m    637\u001b[0m                 self._make_tree(\n\u001b[0;32m--> 638\u001b[0;31m                     \u001b[0met\u001b[0m\u001b[0;34m.\u001b[0m\u001b[0mchildren_left\u001b[0m\u001b[0;34m[\u001b[0m\u001b[0mnode_id\u001b[0m\u001b[0;34m]\u001b[0m\u001b[0;34m,\u001b[0m \u001b[0met\u001b[0m\u001b[0;34m,\u001b[0m \u001b[0mcriterion\u001b[0m\u001b[0;34m,\u001b[0m \u001b[0mdepth\u001b[0m\u001b[0;34m=\u001b[0m\u001b[0mdepth\u001b[0m \u001b[0;34m+\u001b[0m \u001b[0;36m1\u001b[0m\u001b[0;34m\u001b[0m\u001b[0;34m\u001b[0m\u001b[0m\n\u001b[0m\u001b[1;32m    639\u001b[0m                 ),\n\u001b[1;32m    640\u001b[0m                 self._make_tree(\n",
            "\u001b[0;32m/usr/local/lib/python3.7/dist-packages/sklearn/tree/_export.py\u001b[0m in \u001b[0;36m_make_tree\u001b[0;34m(self, node_id, et, criterion, depth)\u001b[0m\n\u001b[1;32m    630\u001b[0m         \u001b[0;31m# traverses _tree.Tree recursively, builds intermediate\u001b[0m\u001b[0;34m\u001b[0m\u001b[0;34m\u001b[0m\u001b[0;34m\u001b[0m\u001b[0m\n\u001b[1;32m    631\u001b[0m         \u001b[0;31m# \"_reingold_tilford.Tree\" object\u001b[0m\u001b[0;34m\u001b[0m\u001b[0;34m\u001b[0m\u001b[0;34m\u001b[0m\u001b[0m\n\u001b[0;32m--> 632\u001b[0;31m         \u001b[0mname\u001b[0m \u001b[0;34m=\u001b[0m \u001b[0mself\u001b[0m\u001b[0;34m.\u001b[0m\u001b[0mnode_to_str\u001b[0m\u001b[0;34m(\u001b[0m\u001b[0met\u001b[0m\u001b[0;34m,\u001b[0m \u001b[0mnode_id\u001b[0m\u001b[0;34m,\u001b[0m \u001b[0mcriterion\u001b[0m\u001b[0;34m=\u001b[0m\u001b[0mcriterion\u001b[0m\u001b[0;34m)\u001b[0m\u001b[0;34m\u001b[0m\u001b[0;34m\u001b[0m\u001b[0m\n\u001b[0m\u001b[1;32m    633\u001b[0m         if et.children_left[node_id] != _tree.TREE_LEAF and (\n\u001b[1;32m    634\u001b[0m             \u001b[0mself\u001b[0m\u001b[0;34m.\u001b[0m\u001b[0mmax_depth\u001b[0m \u001b[0;32mis\u001b[0m \u001b[0;32mNone\u001b[0m \u001b[0;32mor\u001b[0m \u001b[0mdepth\u001b[0m \u001b[0;34m<=\u001b[0m \u001b[0mself\u001b[0m\u001b[0;34m.\u001b[0m\u001b[0mmax_depth\u001b[0m\u001b[0;34m\u001b[0m\u001b[0;34m\u001b[0m\u001b[0m\n",
            "\u001b[0;32m/usr/local/lib/python3.7/dist-packages/sklearn/tree/_export.py\u001b[0m in \u001b[0;36mnode_to_str\u001b[0;34m(self, tree, node_id, criterion)\u001b[0m\n\u001b[1;32m    365\u001b[0m                 \u001b[0mnode_string\u001b[0m \u001b[0;34m+=\u001b[0m \u001b[0;34m\"class = \"\u001b[0m\u001b[0;34m\u001b[0m\u001b[0;34m\u001b[0m\u001b[0m\n\u001b[1;32m    366\u001b[0m             \u001b[0;32mif\u001b[0m \u001b[0mself\u001b[0m\u001b[0;34m.\u001b[0m\u001b[0mclass_names\u001b[0m \u001b[0;32mis\u001b[0m \u001b[0;32mnot\u001b[0m \u001b[0;32mTrue\u001b[0m\u001b[0;34m:\u001b[0m\u001b[0;34m\u001b[0m\u001b[0;34m\u001b[0m\u001b[0m\n\u001b[0;32m--> 367\u001b[0;31m                 \u001b[0mclass_name\u001b[0m \u001b[0;34m=\u001b[0m \u001b[0mself\u001b[0m\u001b[0;34m.\u001b[0m\u001b[0mclass_names\u001b[0m\u001b[0;34m[\u001b[0m\u001b[0mnp\u001b[0m\u001b[0;34m.\u001b[0m\u001b[0margmax\u001b[0m\u001b[0;34m(\u001b[0m\u001b[0mvalue\u001b[0m\u001b[0;34m)\u001b[0m\u001b[0;34m]\u001b[0m\u001b[0;34m\u001b[0m\u001b[0;34m\u001b[0m\u001b[0m\n\u001b[0m\u001b[1;32m    368\u001b[0m             \u001b[0;32melse\u001b[0m\u001b[0;34m:\u001b[0m\u001b[0;34m\u001b[0m\u001b[0;34m\u001b[0m\u001b[0m\n\u001b[1;32m    369\u001b[0m                 class_name = \"y%s%s%s\" % (\n",
            "\u001b[0;31mIndexError\u001b[0m: list index out of range"
          ]
        },
        {
          "output_type": "display_data",
          "data": {
            "text/plain": [
              "<Figure size 960x800 with 1 Axes>"
            ],
            "image/png": "[encoded data removed]"
          },
          "metadata": {
            "needs_background": "light"
          }
        }
      ]
    },
    {
      "cell_type": "code",
      "source": [
        "# Record CART's classification accuracy on tarining and test datasets\n",
        "score1 = round(cart_classifier.score(X_train, y_train), 2) # training score\n",
        "score2 = round(cart_classifier.score(X_test, y_test), 2)   # testing score\n",
        "\n",
        "print (\"CART Training and Testing scores: %.2f, %.2f\" %  (score1, score2))\n",
        "\n",
        "\n",
        "# Record C5's classification accuracy on tarining and test datasets\n",
        "score3 = round(c5_classifier.score(X_train, y_train), 2) # training score\n",
        "score4 = round(c5_classifier.score(X_test, y_test), 2)   # testing score\n",
        "\n",
        "print (\"C5.0 Training and Testing scores: %.2f, %.2f\" %  (score3, score4))"
      ],
      "metadata": {
        "id": "sv1IAaxt-lAR",
        "colab": {
          "base_uri": "https://localhost:8080/"
        },
        "outputId": "90b9f9a1-d8f4-41ae-92e5-9792f6a88cc1"
      },
      "execution_count": null,
      "outputs": [
        {
          "output_type": "stream",
          "name": "stdout",
          "text": [
            "CART Training and Testing scores: 0.92, 0.89\n",
            "C5.0 Training and Testing scores: 0.92, 0.89\n"
          ]
        }
      ]
    },
    {
      "cell_type": "code",
      "source": [
        "from sklearn.metrics import confusion_matrix\n",
        "\n",
        "# Record CART's and C5's predictions\n",
        "cart_predictions = cart_classifier.predict(X_test)\n",
        "c5_predictions = c5_classifier.predict(X_test)\n",
        "\n",
        "\n",
        "# Compute TP, TN, FP, FN values for CART\n",
        "cart_cm = confusion_matrix(y_true=y_test, \n",
        "                           y_pred = cart_predictions)\n",
        "\n",
        "c5_cm = confusion_matrix(y_true=y_test, \n",
        "                        y_pred = c5_predictions)\n",
        "\n",
        "# Print CART's confusion matrix\n",
        "print(cart_cm)\n",
        "\n",
        "print(\"-----------\")\n",
        "\n",
        "# Print C5's confusion matrix\n",
        "print(c5_cm)\n"
      ],
      "metadata": {
        "id": "Y4MKdQMi-ppJ",
        "colab": {
          "base_uri": "https://localhost:8080/"
        },
        "outputId": "ce8300f0-a5ca-4247-c775-2c77b3f143d1"
      },
      "execution_count": null,
      "outputs": [
        {
          "output_type": "stream",
          "name": "stdout",
          "text": [
            "[[23  0  0  0  0  0]\n",
            " [ 0 11  0  1  0  0]\n",
            " [ 0  0 14  0  1  0]\n",
            " [ 0  2  0  8  0  0]\n",
            " [ 0  0  0  0 10  0]\n",
            " [ 0  4  0  0  0  0]]\n",
            "-----------\n",
            "[[23  0  0  0  0  0]\n",
            " [ 0 11  0  1  0  0]\n",
            " [ 0  0 14  0  1  0]\n",
            " [ 0  2  0  8  0  0]\n",
            " [ 0  0  0  0 10  0]\n",
            " [ 0  4  0  0  0  0]]\n"
          ]
        }
      ]
    },
    {
      "cell_type": "code",
      "source": [
        "# Visualize CART's confusion matrix as a heatmap\n",
        "\n",
        "import seaborn as sns\n",
        "\n",
        "plt.figure(figsize=(8,8))\n",
        "sns.heatmap(cart_cm, annot=True, \n",
        "            linewidths=.5, square = True, cmap = 'Oranges_r', fmt='0.4g');\n",
        "\n",
        "plt.ylabel('Actual label')\n",
        "plt.xlabel('Predicted label')"
      ],
      "metadata": {
        "id": "w6R6JYSI-vAX",
        "colab": {
          "base_uri": "https://localhost:8080/",
          "height": 490
        },
        "outputId": "772393ab-6c8d-4233-f343-f326496fba23"
      },
      "execution_count": null,
      "outputs": [
        {
          "output_type": "execute_result",
          "data": {
            "text/plain": [
              "Text(0.5, 89.87999999999997, 'Predicted label')"
            ]
          },
          "metadata": {},
          "execution_count": 35
        },
        {
          "output_type": "display_data",
          "data": {
            "text/plain": [
              "<Figure size 576x576 with 2 Axes>"
            ],
            "image/png": "[encoded data removed]"
          },
          "metadata": {
            "needs_background": "light"
          }
        }
      ]
    },
    {
      "cell_type": "code",
      "source": [
        "# Visualize C5's confusion matrix as a heatmap\n",
        "\n",
        "import seaborn as sns\n",
        "\n",
        "plt.figure(figsize=(8,8))\n",
        "sns.heatmap(c5_cm, annot=True, \n",
        "            linewidths=.5, square = True, cmap = 'Oranges_r', fmt='0.4g');\n",
        "\n",
        "plt.ylabel('Actual label')\n",
        "plt.xlabel('Predicted label')\n",
        "\n"
      ],
      "metadata": {
        "id": "IT2TnFf--xPF",
        "colab": {
          "base_uri": "https://localhost:8080/",
          "height": 490
        },
        "outputId": "38770f6c-646e-4e37-add0-106e55979359"
      },
      "execution_count": null,
      "outputs": [
        {
          "output_type": "execute_result",
          "data": {
            "text/plain": [
              "Text(0.5, 89.87999999999997, 'Predicted label')"
            ]
          },
          "metadata": {},
          "execution_count": 36
        },
        {
          "output_type": "display_data",
          "data": {
            "text/plain": [
              "<Figure size 576x576 with 2 Axes>"
            ],
            "image/png": "[encoded data removed]"
          },
          "metadata": {
            "needs_background": "light"
          }
        }
      ]
    },
    {
      "cell_type": "code",
      "source": [
        "import matplotlib\n",
        "import matplotlib.pyplot as plt\n",
        "import numpy as np\n",
        "\n",
        "\n",
        "labels = ['CART', 'C5.0']\n",
        "training_scores = [score1, score3]\n",
        "testing_scores =  [score2, score4]\n",
        "\n",
        "x = np.arange(2)  # the label locations\n",
        "width = 0.35  # the width of the bars\n",
        "\n",
        "fig, ax = plt.subplots()\n",
        "rects1 = ax.bar(x - width/2, training_scores, width, label='Training', color='navy')\n",
        "rects2 = ax.bar(x + width/2, testing_scores, width, label='Testing', color='orange')\n",
        "\n",
        "# Add some text for labels, title and custom x-axis tick labels, etc.\n",
        "ax.set_ylabel('Model Accuracy')\n",
        "ax.set_xticks(x)\n",
        "ax.set_ylim(0,1)\n",
        "ax.set_xticklabels(labels)\n",
        "ax.legend(bbox_to_anchor = (1.3, 1.0), loc='upper right')\n",
        "\n",
        "plt.title('Model Comparisons')\n",
        "plt.show()\n",
        "\n"
      ],
      "metadata": {
        "id": "P5Mgtr95-3Np",
        "colab": {
          "base_uri": "https://localhost:8080/",
          "height": 281
        },
        "outputId": "2189af61-182e-412a-9d9c-dd21242b4b25"
      },
      "execution_count": null,
      "outputs": [
        {
          "output_type": "display_data",
          "data": {
            "text/plain": [
              "<Figure size 432x288 with 1 Axes>"
            ],
            "image/png": "[encoded data removed]"
          },
          "metadata": {
            "needs_background": "light"
          }
        }
      ]
    },
    {
      "cell_type": "markdown",
      "source": [
        "# **Random forest model**"
      ],
      "metadata": {
        "id": "WsYN-evxmvcK"
      }
    },
    {
      "cell_type": "code",
      "source": [
        ""
      ],
      "metadata": {
        "id": "3Ztn045ZgFUT"
      },
      "execution_count": null,
      "outputs": []
    }
  ]
}